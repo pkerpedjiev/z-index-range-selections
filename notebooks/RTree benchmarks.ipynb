{
 "cells": [
  {
   "cell_type": "code",
   "execution_count": 4,
   "metadata": {
    "collapsed": true
   },
   "outputs": [],
   "source": [
    "import rtree.index as rti\n",
    "\n",
    "idx = rti.Index()\n",
    "idx.insert(0, (0,0,0,0))"
   ]
  },
  {
   "cell_type": "code",
   "execution_count": 13,
   "metadata": {
    "collapsed": true
   },
   "outputs": [],
   "source": [
    "import random\n",
    "import math\n",
    "\n",
    "def get_random_bounds(size_fraction=0.1):\n",
    "    assert(size_fraction < 1)\n",
    "    \n",
    "    width_fraction = math.sqrt(size_fraction)\n",
    "    \n",
    "    x_pos= random.random() * (1 - width_fraction)\n",
    "    y_pos = random.random() * (1 - width_fraction)\n",
    "    \n",
    "    \n",
    "    x_width = random.random() * width_fraction\n",
    "    y_width = random.random() * width_fraction\n",
    "    \n",
    "    #print('x_width:', x_width, \"y_width:\", y_width, x_width * y_width)\n",
    "    return np.array([x_pos, y_pos, x_pos + x_width, y_pos + y_width])"
   ]
  },
  {
   "cell_type": "code",
   "execution_count": 14,
   "metadata": {},
   "outputs": [
    {
     "name": "stdout",
     "output_type": "stream",
     "text": [
      "2.04 µs ± 141 ns per loop (mean ± std. dev. of 7 runs, 100000 loops each)\n"
     ]
    }
   ],
   "source": [
    "import random\n",
    "%timeit get_random_bounds()"
   ]
  },
  {
   "cell_type": "code",
   "execution_count": 28,
   "metadata": {
    "collapsed": true
   },
   "outputs": [],
   "source": [
    "def run_query_rtree(idx, size_fraction=0.1):\n",
    "    #print(query_bounds)\n",
    "    query_bounds = get_random_bounds(size_fraction)\n",
    "\n",
    "    t1 = time.time()\n",
    "    points = list(idx.intersection(query_bounds))\n",
    "    #print(\"len(points):\", len(points))\n",
    "    t2 = time.time()"
   ]
  },
  {
   "cell_type": "code",
   "execution_count": 34,
   "metadata": {},
   "outputs": [],
   "source": [
    "import numba as nb\n",
    "    \n",
    "@nb.jit\n",
    "def add_to_rtree(idx, points):\n",
    "    for i in range(len(points)):\n",
    "        idx.insert(i, [points[i][0], points[i][1], points[i][0], points[i][1]])"
   ]
  },
  {
   "cell_type": "code",
   "execution_count": 44,
   "metadata": {},
   "outputs": [
    {
     "name": "stdout",
     "output_type": "stream",
     "text": [
      "[32000, 2.3054189682006836, 0.05858599906787276, 0.1433265977539122, 0.8689333975780755]\n",
      "[64000, 4.711745977401733, 0.07683219737373292, 0.23817699984647334, 1.0221403033938259]\n",
      "[128000, 9.570508003234863, 0.07558770012110472, 0.4080764017999172, 3.825860598590225]\n",
      "[256000, 20.193315982818604, 0.07677520043216646, 0.4927272966597229, 4.956748598488048]\n",
      "[512000, 48.70453882217407, 0.09282010141760111, 1.2432204966899008, 8.007755997823551]\n",
      "[1024000, 107.54522681236267, 0.20767340320162475, 2.6984305994119495, 30.070026696193963]\n"
     ]
    }
   ],
   "source": [
    "import numpy as np\n",
    "import time\n",
    "import timeit\n",
    "times = []\n",
    "\n",
    "width = 1\n",
    "\n",
    "\"\"\"for i in ([1000, 2000, 4000, 8000, 16000, 32000, 64000, 128000, \n",
    "           256000, 512000, 1024000, 2048000, 4096000,\n",
    "          8192000, 16384000, 32768000, 65536000, 131072000]):\"\"\"\n",
    "for i in range(5, 11):\n",
    "    idx = rti.Index()\n",
    "\n",
    "    num_points = 1000 * 2**i #100000000\n",
    "    new_points = width * np.random.random((num_points,2))\n",
    "    \n",
    "    t1 = time.time()\n",
    "    '''\n",
    "    for i,point in enumerate(new_points):\n",
    "        idx.insert(i, (point[0], point[1], point[0], point[1]))\n",
    "    '''\n",
    "    add_to_rtree(idx, new_points)\n",
    "    t2 = time.time()\n",
    "    #print(\"time1:\", t2 - t1)\n",
    "    \n",
    "    num = 10\n",
    "    ti_0001 = timeit.timeit(lambda: run_query_rtree(idx, 0.0001), number=num)\n",
    "    ti_01 = timeit.timeit(lambda: run_query_rtree(idx, 0.01), number=num)\n",
    "    ti_1 = timeit.timeit(lambda: run_query_rtree(idx, 0.1), number=num)\n",
    "\n",
    "    times += [[num_points, t2-t1, 1000 * ti_0001 / num, \n",
    "               1000 * ti_01 / num, 1000 * ti_1 / num]]\n",
    "    print(times[-1])\n",
    "    \n",
    "    "
   ]
  },
  {
   "cell_type": "code",
   "execution_count": null,
   "metadata": {
    "collapsed": true
   },
   "outputs": [],
   "source": []
  }
 ],
 "metadata": {
  "kernelspec": {
   "display_name": "Python 3",
   "language": "python",
   "name": "python3"
  },
  "language_info": {
   "codemirror_mode": {
    "name": "ipython",
    "version": 3
   },
   "file_extension": ".py",
   "mimetype": "text/x-python",
   "name": "python",
   "nbconvert_exporter": "python",
   "pygments_lexer": "ipython3",
   "version": "3.6.3"
  }
 },
 "nbformat": 4,
 "nbformat_minor": 2
}
