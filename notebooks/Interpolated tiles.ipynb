{
 "cells": [
  {
   "cell_type": "code",
   "execution_count": 13,
   "metadata": {},
   "outputs": [
    {
     "name": "stdout",
     "output_type": "stream",
     "text": [
      "The autoreload extension is already loaded. To reload it, use:\n",
      "  %reload_ext autoreload\n"
     ]
    }
   ],
   "source": [
    "%load_ext autoreload\n",
    "%autoreload 2\n",
    "\n",
    "%matplotlib inline"
   ]
  },
  {
   "cell_type": "markdown",
   "metadata": {},
   "source": [
    "## Travel times to cities"
   ]
  },
  {
   "cell_type": "markdown",
   "metadata": {},
   "source": [
    "* Take collection of randomly placed points and interpolate grid using z index\n",
    "* Large regions without points need to be removed using a distance function\n",
    "    * How do we determine what the distance threshold should be?\n",
    "* This can be used to generate tiles for HiGlass"
   ]
  },
  {
   "cell_type": "markdown",
   "metadata": {},
   "source": [
    "### Load the data and inspect"
   ]
  },
  {
   "cell_type": "code",
   "execution_count": 14,
   "metadata": {},
   "outputs": [
    {
     "name": "stderr",
     "output_type": "stream",
     "text": [
      "/Users/pete/miniconda3/envs/cenv4/lib/python3.6/site-packages/IPython/core/interactiveshell.py:3020: DtypeWarning: Columns (0) have mixed types. Specify dtype option on import or set low_memory=False.\n",
      "  interactivity=interactivity, compiler=compiler, result=result)\n"
     ]
    },
    {
     "data": {
      "text/html": [
       "<div>\n",
       "<style>\n",
       "    .dataframe thead tr:only-child th {\n",
       "        text-align: right;\n",
       "    }\n",
       "\n",
       "    .dataframe thead th {\n",
       "        text-align: left;\n",
       "    }\n",
       "\n",
       "    .dataframe tbody tr th {\n",
       "        vertical-align: top;\n",
       "    }\n",
       "</style>\n",
       "<table border=\"1\" class=\"dataframe\">\n",
       "  <thead>\n",
       "    <tr style=\"text-align: right;\">\n",
       "      <th></th>\n",
       "      <th>id</th>\n",
       "      <th>lat</th>\n",
       "      <th>lon</th>\n",
       "      <th>poi_town</th>\n",
       "      <th>admin_area</th>\n",
       "    </tr>\n",
       "  </thead>\n",
       "  <tbody>\n",
       "    <tr>\n",
       "      <th>0</th>\n",
       "      <td>9999765</td>\n",
       "      <td>15.23850</td>\n",
       "      <td>-23.21325</td>\n",
       "      <td>1025.615690</td>\n",
       "      <td>Africa</td>\n",
       "    </tr>\n",
       "    <tr>\n",
       "      <th>1</th>\n",
       "      <td>9999766</td>\n",
       "      <td>15.30073</td>\n",
       "      <td>-23.19242</td>\n",
       "      <td>4514.848251</td>\n",
       "      <td>Africa</td>\n",
       "    </tr>\n",
       "    <tr>\n",
       "      <th>2</th>\n",
       "      <td>9999767</td>\n",
       "      <td>15.12082</td>\n",
       "      <td>-23.18732</td>\n",
       "      <td>2546.846200</td>\n",
       "      <td>Africa</td>\n",
       "    </tr>\n",
       "    <tr>\n",
       "      <th>3</th>\n",
       "      <td>9999768</td>\n",
       "      <td>15.27154</td>\n",
       "      <td>-23.23572</td>\n",
       "      <td>3484.165707</td>\n",
       "      <td>Africa</td>\n",
       "    </tr>\n",
       "    <tr>\n",
       "      <th>4</th>\n",
       "      <td>9999769</td>\n",
       "      <td>15.17577</td>\n",
       "      <td>-23.15718</td>\n",
       "      <td>1300.567389</td>\n",
       "      <td>Africa</td>\n",
       "    </tr>\n",
       "  </tbody>\n",
       "</table>\n",
       "</div>"
      ],
      "text/plain": [
       "        id       lat       lon     poi_town admin_area\n",
       "0  9999765  15.23850 -23.21325  1025.615690     Africa\n",
       "1  9999766  15.30073 -23.19242  4514.848251     Africa\n",
       "2  9999767  15.12082 -23.18732  2546.846200     Africa\n",
       "3  9999768  15.27154 -23.23572  3484.165707     Africa\n",
       "4  9999769  15.17577 -23.15718  1300.567389     Africa"
      ]
     },
     "execution_count": 14,
     "metadata": {},
     "output_type": "execute_result"
    }
   ],
   "source": [
    "import pandas as pd\n",
    "\n",
    "t1 = pd.read_table('../data/world.csv.gz', delimiter=',')\n",
    "\n",
    "# sub-sample a portion of the points to speed up testing,\n",
    "# the complete version will use the whole point set\n",
    "\n",
    "#t = t1.sample(1000000)\n",
    "t = t1\n",
    "\n",
    "t.head()"
   ]
  },
  {
   "cell_type": "markdown",
   "metadata": {},
   "source": [
    "### Project the coordinates to mercator"
   ]
  },
  {
   "cell_type": "code",
   "execution_count": 15,
   "metadata": {},
   "outputs": [],
   "source": [
    "# mercator projection function\n",
    "import math\n",
    "import numpy as np\n",
    "\n",
    "def lat2y(a):\n",
    "  return 180.0/math.pi*np.log(np.tan(math.pi/4.0+a*(math.pi/180.0)/2.0))"
   ]
  },
  {
   "cell_type": "code",
   "execution_count": 16,
   "metadata": {},
   "outputs": [],
   "source": [
    "import zindex.zindex as zz\n",
    "\n",
    "t['x'] = t['lon']\n",
    "t['y'] = lat2y(t['lat'])\n"
   ]
  },
  {
   "cell_type": "markdown",
   "metadata": {},
   "source": [
    "### Sort by z-index\n",
    "\n",
    "The point set is currently not sorted. We're going to place the points\n",
    "on a 2^32 by 2^32 grid and sort them by z-order (Morton curve). This\n",
    "will preserve spatial locality in the ordering and make it easy to use\n",
    "these points for value interpolation in the future."
   ]
  },
  {
   "cell_type": "code",
   "execution_count": 17,
   "metadata": {},
   "outputs": [],
   "source": [
    "points = np.array([t['x'], t['y']]).T\n",
    "bounds = [-180, -180, 180, 180]\n",
    "zoom = 32    # the maximum zoom level that we can use with 64 bit integers\n",
    "(sorted_points, sorted_interleaved, sort_order) = zz.sort_points(points, bounds, 32)\n",
    "sorted_poi = t['poi_town'].values[sort_order]"
   ]
  },
  {
   "cell_type": "markdown",
   "metadata": {},
   "source": [
    "### Store as HDF5\n",
    "\n",
    "To reuse these points in the future, we will store them in an hdf file."
   ]
  },
  {
   "cell_type": "code",
   "execution_count": 18,
   "metadata": {},
   "outputs": [],
   "source": [
    "import h5py\n",
    "import os\n",
    "import os.path as op\n",
    "\n",
    "filename = '../data/points.hdf5'\n",
    "\n",
    "if op.exists(filename):\n",
    "    os.remove(filename)\n",
    "\n",
    "with h5py.File(filename, 'w') as f:\n",
    "    f.create_dataset('interleaved', data=sorted_interleaved)\n",
    "    f.create_dataset('values', data=sorted_poi)\n",
    "    f.create_dataset('sorted_points', data=sorted_points)"
   ]
  },
  {
   "cell_type": "code",
   "execution_count": 19,
   "metadata": {},
   "outputs": [
    {
     "name": "stdout",
     "output_type": "stream",
     "text": [
      "tile_width: 8.381903171539307e-08\n"
     ]
    }
   ],
   "source": [
    "tile_width = (bounds[2] - bounds[0]) / 2 ** zoom\n",
    "float_points = (points - bounds[0]) // tile_width\n",
    "print(\"tile_width:\", tile_width)"
   ]
  },
  {
   "cell_type": "code",
   "execution_count": 20,
   "metadata": {},
   "outputs": [
    {
     "data": {
      "image/png": "[encoded data removed]",
      "text/plain": [
       "<Figure size 432x288 with 1 Axes>"
      ]
     },
     "metadata": {
      "needs_background": "light"
     },
     "output_type": "display_data"
    }
   ],
   "source": [
    "indeces = np.random.choice(range(len(t['x'])), 4000)\n",
    "rand = np.array([t['x'], t['y'], np.log(t['poi_town'])]).T[indeces]\n",
    "#indeces = np.random.choice(range(len(sorted_points)), 8000)\n",
    "#rand = np.array([sorted_points[:,0], sorted_points[:,1], sorted_interleaved]).T[indeces]\n",
    "x = rand[:,2][:]\n",
    "import matplotlib.pyplot as plt\n",
    "\n",
    "plt.scatter(rand[:,0], rand[:,1], c=x, marker='.', cmap='hsv')\n",
    "plt.show()"
   ]
  },
  {
   "cell_type": "markdown",
   "metadata": {},
   "source": [
    "## Nearest neighbor"
   ]
  },
  {
   "cell_type": "code",
   "execution_count": 21,
   "metadata": {},
   "outputs": [
    {
     "name": "stdout",
     "output_type": "stream",
     "text": [
      "CPU times: user 595 ms, sys: 4.25 ms, total: 599 ms\n",
      "Wall time: 599 ms\n"
     ]
    }
   ],
   "source": [
    "%%time\n",
    "\n",
    "def nn_interpolate(sorted_interleaved, region_bounds, \n",
    "                  global_bounds, width, zoom=32):\n",
    "    tile_width = (global_bounds[2] - global_bounds[0]) / 2 ** zoom\n",
    "\n",
    "    xmin = region_bounds[0]\n",
    "    xmax = region_bounds[2]\n",
    "    ymin = region_bounds[1]\n",
    "    ymax = region_bounds[3]\n",
    "    \n",
    "    X, Y = np.mgrid[xmin:xmax:complex(0,width), ymin:ymax:complex(0,width)]\n",
    "    \n",
    "    positions = np.vstack([X.ravel(), Y.ravel()]).T\n",
    "    int_points = ((positions - global_bounds[0]) // tile_width).astype(np.uint64)\n",
    "    \n",
    "    to_return = []\n",
    "    for pos in positions:\n",
    "        nn = zz.nearest_neighbor(pos, sorted_interleaved, global_bounds, zoom)\n",
    "        # print(\"nn\", nn)\n",
    "        to_return += [nn[0]]\n",
    "        \n",
    "    #x = zz.neire(int_points[:,0][:], int_points[:,1][:])  \n",
    "\n",
    "    # print(positions[:10])\n",
    "\n",
    "    # indeces = np.searchsorted(sorted_interleaved, x)\n",
    "    # points = ordered_points[indeces[indeces < len(ordered_points)]]\n",
    "    # fpositions = positions[indeces < len(ordered_points)]\n",
    "    \n",
    "    return to_return\n",
    "bounds = [-180, -180, 179.9, 179.9]\n",
    "\n",
    "nn_interpolate(sorted_interleaved, bounds, bounds, 10, zoom=32)"
   ]
  },
  {
   "cell_type": "markdown",
   "metadata": {},
   "source": [
    "## Z-Index based interpolation"
   ]
  },
  {
   "cell_type": "code",
   "execution_count": 34,
   "metadata": {},
   "outputs": [
    {
     "data": {
      "image/png": "[encoded data removed]",
      "text/plain": [
       "<Figure size 432x288 with 1 Axes>"
      ]
     },
     "metadata": {
      "needs_background": "light"
     },
     "output_type": "display_data"
    },
    {
     "name": "stdout",
     "output_type": "stream",
     "text": [
      "CPU times: user 438 ms, sys: 185 ms, total: 623 ms\n",
      "Wall time: 460 ms\n"
     ]
    }
   ],
   "source": [
    "%%time\n",
    "\n",
    "import zindex.zindex as zz\n",
    "\n",
    "def tile_data(z, x, y, tile_pixels=256):\n",
    "    '''\n",
    "    Get interpolated values for a tile as defined by the \n",
    "    zoom level (z), x position (x), y position (y) and \n",
    "    '''\n",
    "    tile_width = 360 / 2 ** z    \n",
    "    tile_x = -180 + x * tile_width\n",
    "    tile_y = 180 - (y + 1) * tile_width\n",
    "    \n",
    "    bounds = [tile_x, tile_y, \n",
    "              tile_x + tile_width, \n",
    "              tile_y + tile_width]\n",
    "    \n",
    "    f = h5py.File('../data/points.hdf5', 'r')\n",
    "    sorted_interleaved = f['interleaved']\n",
    "    sorted_points = f['sorted_points'][:]\n",
    "    sorted_poi = f['values'][:]\n",
    "    \n",
    "    (ixs, positions) = zz.interpolate(\n",
    "        f['interleaved'],\n",
    "        region_bounds=bounds,\n",
    "        global_bounds=[-180,-180,180,180],\n",
    "        width=tile_pixels, \n",
    "        height=tile_pixels\n",
    "    )\n",
    "    ixs[ixs == len(sorted_interleaved)] = len(sorted_interleaved) - 1\n",
    "    \n",
    "    residuals = ((positions - sorted_points[ixs]) ** 2).sum(axis=1)\n",
    "    new_array = sorted_poi[ixs]\n",
    "    # new_array[residuals > 2] = np.nan\n",
    "\n",
    "    mat = new_array.reshape((tile_pixels,tile_pixels))\n",
    "        \n",
    "    return mat.T.copy(order='C')\n",
    "\n",
    "mat = tile_data(1,1,0)\n",
    "plt.imshow(np.log(mat), cmap='hsv')\n",
    "plt.show()"
   ]
  },
  {
   "cell_type": "code",
   "execution_count": 23,
   "metadata": {},
   "outputs": [
    {
     "data": {
      "image/png": "[encoded data removed]",
      "text/plain": [
       "<Figure size 432x288 with 1 Axes>"
      ]
     },
     "metadata": {
      "needs_background": "light"
     },
     "output_type": "display_data"
    },
    {
     "name": "stdout",
     "output_type": "stream",
     "text": [
      "CPU times: user 985 ms, sys: 249 ms, total: 1.23 s\n",
      "Wall time: 1.06 s\n"
     ]
    }
   ],
   "source": [
    "%%time\n",
    "\n",
    "mat = tile_data(0,0,0, tile_pixels=256 * 2 ** 2)\n",
    "plt.imshow(np.log(mat), cmap='hsv')\n",
    "plt.show()"
   ]
  },
  {
   "cell_type": "code",
   "execution_count": 35,
   "metadata": {},
   "outputs": [
    {
     "name": "stdout",
     "output_type": "stream",
     "text": [
      "i: 0\n",
      "i: 1\n",
      "i: 2\n",
      "i: 3\n",
      "i: 4\n",
      "i: 5\n",
      "i: 6\n",
      "CPU times: user 3min 41s, sys: 2min 51s, total: 6min 33s\n",
      "Wall time: 13min 44s\n"
     ]
    }
   ],
   "source": [
    "%%time\n",
    "\n",
    "import h5py\n",
    "import os\n",
    "import os.path as op\n",
    "\n",
    "filename = '../data/int_matrices.hdf5'\n",
    "\n",
    "if op.exists(filename):\n",
    "    os.remove(filename)\n",
    "\n",
    "max_zoom = 6\n",
    "\n",
    "with h5py.File(filename, 'w') as f:\n",
    "    f.attrs['max-zoom'] = max_zoom\n",
    "    f.attrs['min-pos'] = [-180, -180]\n",
    "    f.attrs['max-pos'] = [180, 180]\n",
    "    \n",
    "    for i in range(max_zoom+1):\n",
    "        mat = tile_data(0,0,0, tile_pixels=256 * 2 ** (i))\n",
    "        print(\"i:\", i)\n",
    "        f.create_dataset('resolutions/{}'.format(2**(max_zoom - i)), data=mat, compression='gzip')"
   ]
  },
  {
   "cell_type": "markdown",
   "metadata": {},
   "source": [
    "## Tiles and server"
   ]
  },
  {
   "cell_type": "code",
   "execution_count": 231,
   "metadata": {
    "collapsed": true
   },
   "outputs": [],
   "source": [
    "import numpy as np\n",
    "import h5py\n",
    "import zindex.zindex as zz\n",
    "import matplotlib.pyplot as plt"
   ]
  },
  {
   "cell_type": "code",
   "execution_count": 30,
   "metadata": {},
   "outputs": [
    {
     "data": {
      "image/png": "[encoded data removed]",
      "text/plain": [
       "<Figure size 432x288 with 1 Axes>"
      ]
     },
     "metadata": {
      "needs_background": "light"
     },
     "output_type": "display_data"
    }
   ],
   "source": [
    "\n",
    "import zindex.zindex as zz\n",
    "\n",
    "def tile_data(z, x, y, width=1, height=1, tile_pixels=256):\n",
    "    '''\n",
    "    Get interpolated values for a tile as defined by the \n",
    "    zoom level (z), x position (x), y position (y) and \n",
    "    '''\n",
    "    tile_width = 360 / 2 ** z    \n",
    "    tile_x = -180 + x * tile_width\n",
    "    tile_y = 180 - (y + height) * tile_width\n",
    "    \n",
    "    bounds = [tile_x, tile_y, \n",
    "              tile_x + width * tile_width, \n",
    "              tile_y + height * tile_width]\n",
    "    \n",
    "    f = h5py.File('../data/points.hdf5', 'r')\n",
    "    \n",
    "    sorted_interleaved = f['interleaved']\n",
    "    sorted_points = f['sorted_points'][:]\n",
    "    sorted_poi = f['values'][:]\n",
    "    \n",
    "    (ixs, positions) = zz.interpolate(\n",
    "        f['interleaved'],\n",
    "        region_bounds=bounds,\n",
    "        global_bounds=[-180,-180,180,180],\n",
    "        width=tile_pixels * width, \n",
    "        height=tile_pixels * height\n",
    "    )\n",
    "    ixs[ixs == len(sorted_interleaved)] = len(sorted_interleaved) - 1\n",
    "    \n",
    "    residuals = ((positions - sorted_points[ixs]) ** 2).sum(axis=1)\n",
    "    new_array = sorted_poi[ixs]\n",
    "    # new_array[residuals > 2] = np.nan\n",
    "\n",
    "    mat = new_array.reshape((tile_pixels*width,tile_pixels*height))\n",
    "    \n",
    "    tiles = []\n",
    "    \n",
    "    mat = mat.T.copy(order='C')\n",
    "    for i in range(width):\n",
    "        for j in range(height):\n",
    "            tiles += [((z,x+i,y+j), \n",
    "                       mat[j*tile_pixels:(j+1) * tile_pixels,\n",
    "                           i*tile_pixels:(i+1) * tile_pixels])]\n",
    "            \n",
    "    \n",
    "    return tiles\n",
    "\n",
    "mat = tile_data(0,0,0)\n",
    "#print(\"mat:\", mat)\n",
    "plt.imshow(np.log(mat[0][1]), origin='lower', cmap='hsv')\n",
    "plt.show()"
   ]
  },
  {
   "cell_type": "code",
   "execution_count": 317,
   "metadata": {},
   "outputs": [
    {
     "data": {
      "text/plain": [
       "'\\nimport zindex.zindex as zz\\n\\ndef tile_data(z, x, y):\\n    \\'\\'\\'\\n    Get interpolated values for a tile as defined by the \\n    zoom level (z), x position (x), y position (y) and \\n    \\'\\'\\'\\n    tile_width = 360 / 2 ** z    \\n    tile_x = -180 + x * tile_width\\n    tile_y = 180 - (y + 1) * tile_width\\n    \\n    bounds = [tile_x, tile_y, \\n              tile_x + tile_width, \\n              tile_y + tile_width]\\n    \\n    f = h5py.File(\\'../data/points.hdf5\\', \\'r\\')\\n    tile_pixels = 256\\n    sorted_interleaved = f[\\'interleaved\\']\\n    sorted_points = f[\\'sorted_points\\'][:]\\n    sorted_poi = f[\\'values\\'][:]\\n    \\n    (ixs, positions) = zz.interpolate(\\n        f[\\'interleaved\\'],\\n        region_bounds=bounds,\\n        global_bounds=[-180,-180,180,180],\\n        width=tile_pixels, \\n        height=tile_pixels\\n    )\\n    ixs[ixs == len(sorted_interleaved)] = len(sorted_interleaved) - 1\\n    \\n    residuals = ((positions - sorted_points[ixs]) ** 2).sum(axis=1)\\n    new_array = sorted_poi[ixs]\\n    # new_array[residuals > 2] = np.nan\\n\\n    mat = new_array.reshape((tile_pixels,tile_pixels))\\n        \\n    return mat.T.copy(order=\\'C\\')            \\n\\nmat = tile_data(1,0,0)\\n#print(\"mat:\", mat)\\nplt.imshow(np.log(mat), origin=\\'lower\\', cmap=\\'hsv\\')\\nplt.show()'"
      ]
     },
     "execution_count": 317,
     "metadata": {},
     "output_type": "execute_result"
    }
   ],
   "source": [
    "\"\"\"\n",
    "import zindex.zindex as zz\n",
    "\n",
    "def tile_data(z, x, y):\n",
    "    '''\n",
    "    Get interpolated values for a tile as defined by the \n",
    "    zoom level (z), x position (x), y position (y) and \n",
    "    '''\n",
    "    tile_width = 360 / 2 ** z    \n",
    "    tile_x = -180 + x * tile_width\n",
    "    tile_y = 180 - (y + 1) * tile_width\n",
    "    \n",
    "    bounds = [tile_x, tile_y, \n",
    "              tile_x + tile_width, \n",
    "              tile_y + tile_width]\n",
    "    \n",
    "    f = h5py.File('../data/points.hdf5', 'r')\n",
    "    tile_pixels = 256\n",
    "    sorted_interleaved = f['interleaved']\n",
    "    sorted_points = f['sorted_points'][:]\n",
    "    sorted_poi = f['values'][:]\n",
    "    \n",
    "    (ixs, positions) = zz.interpolate(\n",
    "        f['interleaved'],\n",
    "        region_bounds=bounds,\n",
    "        global_bounds=[-180,-180,180,180],\n",
    "        width=tile_pixels, \n",
    "        height=tile_pixels\n",
    "    )\n",
    "    ixs[ixs == len(sorted_interleaved)] = len(sorted_interleaved) - 1\n",
    "    \n",
    "    residuals = ((positions - sorted_points[ixs]) ** 2).sum(axis=1)\n",
    "    new_array = sorted_poi[ixs]\n",
    "    # new_array[residuals > 2] = np.nan\n",
    "\n",
    "    mat = new_array.reshape((tile_pixels,tile_pixels))\n",
    "        \n",
    "    return mat.T.copy(order='C')            \n",
    "\n",
    "mat = tile_data(1,0,0)\n",
    "#print(\"mat:\", mat)\n",
    "plt.imshow(np.log(mat), origin='lower', cmap='hsv')\n",
    "plt.show()\"\"\""
   ]
  },
  {
   "cell_type": "code",
   "execution_count": 334,
   "metadata": {
    "collapsed": true
   },
   "outputs": [],
   "source": [
    "def tileset_info():\n",
    "    return {\n",
    "        'min_pos': [-180, -180],\n",
    "        'max_pos': [180, 180],\n",
    "        'max_width': 360,\n",
    "        'max_zoom': 8,\n",
    "        'mirror_tiles': 'false',\n",
    "        'bins_per_dimension': 256,\n",
    "    }"
   ]
  },
  {
   "cell_type": "code",
   "execution_count": 335,
   "metadata": {
    "collapsed": true
   },
   "outputs": [],
   "source": [
    "# f = lambda z,x,y: ((z,x,y), hgfo.format_dense_tile(tile_data(z, x, y)))\n",
    "# f(0,0,0)"
   ]
  },
  {
   "cell_type": "code",
   "execution_count": 336,
   "metadata": {},
   "outputs": [
    {
     "name": "stdout",
     "output_type": "stream",
     "text": [
      "terminating: EEFuKcWzR3iYuUvmyJIBGQ\n",
      "sleeping\n"
     ]
    },
    {
     "name": "stderr",
     "output_type": "stream",
     "text": [
      " * Running on http://0.0.0.0:51952/ (Press CTRL+C to quit)\n"
     ]
    },
    {
     "name": "stdout",
     "output_type": "stream",
     "text": [
      "sleeping\n"
     ]
    },
    {
     "name": "stderr",
     "output_type": "stream",
     "text": [
      "127.0.0.1 - - [09/Nov/2018 19:22:24] \"\u001b[37mGET /api/v1/tileset_info/?d=a HTTP/1.1\u001b[0m\" 200 -\n"
     ]
    },
    {
     "name": "stdout",
     "output_type": "stream",
     "text": [
      "ret: 200 b'{\\n  \"a\": {\\n    \"error\": \"No such tileset with uid: a\"\\n  }\\n}\\n'\n",
      "returning\n",
      "tile_group: ['bB3BNSVmQQeALLZNieKIDQ.4.4.5']\n"
     ]
    },
    {
     "name": "stderr",
     "output_type": "stream",
     "text": [
      "127.0.0.1 - - [09/Nov/2018 19:22:24] \"\u001b[37mGET /api/v1/tiles/?d=bB3BNSVmQQeALLZNieKIDQ.4.4.5 HTTP/1.1\u001b[0m\" 200 -\n",
      "127.0.0.1 - - [09/Nov/2018 19:22:25] \"\u001b[37mOPTIONS /api/v1/tileset_info/?d=bB3BNSVmQQeALLZNieKIDQ&s=U17Yy2yZSQmyVBl4z0nUIA HTTP/1.1\u001b[0m\" 200 -\n",
      "127.0.0.1 - - [09/Nov/2018 19:22:25] \"\u001b[37mGET /api/v1/tileset_info/?d=bB3BNSVmQQeALLZNieKIDQ&s=U17Yy2yZSQmyVBl4z0nUIA HTTP/1.1\u001b[0m\" 200 -\n",
      "127.0.0.1 - - [09/Nov/2018 19:22:26] \"\u001b[37mOPTIONS /api/v1/tiles/?d=bB3BNSVmQQeALLZNieKIDQ.3.4.4&d=bB3BNSVmQQeALLZNieKIDQ.3.4.5&d=bB3BNSVmQQeALLZNieKIDQ.3.4.6&d=bB3BNSVmQQeALLZNieKIDQ.3.5.4&d=bB3BNSVmQQeALLZNieKIDQ.3.5.5&d=bB3BNSVmQQeALLZNieKIDQ.3.5.6&d=bB3BNSVmQQeALLZNieKIDQ.3.6.4&d=bB3BNSVmQQeALLZNieKIDQ.3.6.5&d=bB3BNSVmQQeALLZNieKIDQ.3.6.6&d=bB3BNSVmQQeALLZNieKIDQ.1.0.0&d=bB3BNSVmQQeALLZNieKIDQ.1.0.1&d=bB3BNSVmQQeALLZNieKIDQ.1.1.0&d=bB3BNSVmQQeALLZNieKIDQ.1.1.1&s=U17Yy2yZSQmyVBl4z0nUIA HTTP/1.1\u001b[0m\" 200 -\n"
     ]
    },
    {
     "name": "stdout",
     "output_type": "stream",
     "text": [
      "tile_group: ['bB3BNSVmQQeALLZNieKIDQ.1.0.0', 'bB3BNSVmQQeALLZNieKIDQ.1.0.1', 'bB3BNSVmQQeALLZNieKIDQ.1.1.0', 'bB3BNSVmQQeALLZNieKIDQ.1.1.1']\n",
      "tile_group: ['bB3BNSVmQQeALLZNieKIDQ.3.4.4', 'bB3BNSVmQQeALLZNieKIDQ.3.4.5', 'bB3BNSVmQQeALLZNieKIDQ.3.4.6', 'bB3BNSVmQQeALLZNieKIDQ.3.5.4', 'bB3BNSVmQQeALLZNieKIDQ.3.5.5', 'bB3BNSVmQQeALLZNieKIDQ.3.5.6', 'bB3BNSVmQQeALLZNieKIDQ.3.6.4', 'bB3BNSVmQQeALLZNieKIDQ.3.6.5', 'bB3BNSVmQQeALLZNieKIDQ.3.6.6']\n"
     ]
    },
    {
     "name": "stderr",
     "output_type": "stream",
     "text": [
      "127.0.0.1 - - [09/Nov/2018 19:22:27] \"\u001b[37mGET /api/v1/tiles/?d=bB3BNSVmQQeALLZNieKIDQ.3.4.4&d=bB3BNSVmQQeALLZNieKIDQ.3.4.5&d=bB3BNSVmQQeALLZNieKIDQ.3.4.6&d=bB3BNSVmQQeALLZNieKIDQ.3.5.4&d=bB3BNSVmQQeALLZNieKIDQ.3.5.5&d=bB3BNSVmQQeALLZNieKIDQ.3.5.6&d=bB3BNSVmQQeALLZNieKIDQ.3.6.4&d=bB3BNSVmQQeALLZNieKIDQ.3.6.5&d=bB3BNSVmQQeALLZNieKIDQ.3.6.6&d=bB3BNSVmQQeALLZNieKIDQ.1.0.0&d=bB3BNSVmQQeALLZNieKIDQ.1.0.1&d=bB3BNSVmQQeALLZNieKIDQ.1.1.0&d=bB3BNSVmQQeALLZNieKIDQ.1.1.1&s=U17Yy2yZSQmyVBl4z0nUIA HTTP/1.1\u001b[0m\" 200 -\n",
      "127.0.0.1 - - [09/Nov/2018 19:22:45] \"\u001b[37mOPTIONS /api/v1/tiles/?d=bB3BNSVmQQeALLZNieKIDQ.2.1.0&d=bB3BNSVmQQeALLZNieKIDQ.2.1.1&d=bB3BNSVmQQeALLZNieKIDQ.2.1.2&d=bB3BNSVmQQeALLZNieKIDQ.2.2.0&d=bB3BNSVmQQeALLZNieKIDQ.2.2.1&d=bB3BNSVmQQeALLZNieKIDQ.2.2.2&d=bB3BNSVmQQeALLZNieKIDQ.2.3.0&d=bB3BNSVmQQeALLZNieKIDQ.2.3.1&d=bB3BNSVmQQeALLZNieKIDQ.2.3.2&s=U17Yy2yZSQmyVBl4z0nUIA HTTP/1.1\u001b[0m\" 200 -\n"
     ]
    },
    {
     "name": "stdout",
     "output_type": "stream",
     "text": [
      "tile_group: ['bB3BNSVmQQeALLZNieKIDQ.2.1.0', 'bB3BNSVmQQeALLZNieKIDQ.2.1.1', 'bB3BNSVmQQeALLZNieKIDQ.2.1.2', 'bB3BNSVmQQeALLZNieKIDQ.2.2.0', 'bB3BNSVmQQeALLZNieKIDQ.2.2.1', 'bB3BNSVmQQeALLZNieKIDQ.2.2.2', 'bB3BNSVmQQeALLZNieKIDQ.2.3.0', 'bB3BNSVmQQeALLZNieKIDQ.2.3.1', 'bB3BNSVmQQeALLZNieKIDQ.2.3.2']\n"
     ]
    },
    {
     "name": "stderr",
     "output_type": "stream",
     "text": [
      "127.0.0.1 - - [09/Nov/2018 19:22:46] \"\u001b[37mOPTIONS /api/v1/tiles/?d=bB3BNSVmQQeALLZNieKIDQ.3.3.2&d=bB3BNSVmQQeALLZNieKIDQ.3.3.3&d=bB3BNSVmQQeALLZNieKIDQ.3.3.4&d=bB3BNSVmQQeALLZNieKIDQ.3.4.2&d=bB3BNSVmQQeALLZNieKIDQ.3.4.3&d=bB3BNSVmQQeALLZNieKIDQ.3.4.4&d=bB3BNSVmQQeALLZNieKIDQ.3.5.2&d=bB3BNSVmQQeALLZNieKIDQ.3.5.3&d=bB3BNSVmQQeALLZNieKIDQ.3.5.4&d=bB3BNSVmQQeALLZNieKIDQ.3.6.2&d=bB3BNSVmQQeALLZNieKIDQ.3.6.3&d=bB3BNSVmQQeALLZNieKIDQ.3.6.4&s=U17Yy2yZSQmyVBl4z0nUIA HTTP/1.1\u001b[0m\" 200 -\n"
     ]
    },
    {
     "name": "stdout",
     "output_type": "stream",
     "text": [
      "tile_group: ['bB3BNSVmQQeALLZNieKIDQ.3.3.2', 'bB3BNSVmQQeALLZNieKIDQ.3.3.3', 'bB3BNSVmQQeALLZNieKIDQ.3.3.4', 'bB3BNSVmQQeALLZNieKIDQ.3.4.2', 'bB3BNSVmQQeALLZNieKIDQ.3.4.3', 'bB3BNSVmQQeALLZNieKIDQ.3.4.4', 'bB3BNSVmQQeALLZNieKIDQ.3.5.2', 'bB3BNSVmQQeALLZNieKIDQ.3.5.3', 'bB3BNSVmQQeALLZNieKIDQ.3.5.4', 'bB3BNSVmQQeALLZNieKIDQ.3.6.2', 'bB3BNSVmQQeALLZNieKIDQ.3.6.3', 'bB3BNSVmQQeALLZNieKIDQ.3.6.4']\n"
     ]
    },
    {
     "name": "stderr",
     "output_type": "stream",
     "text": [
      "127.0.0.1 - - [09/Nov/2018 19:22:47] \"\u001b[37mGET /api/v1/tiles/?d=bB3BNSVmQQeALLZNieKIDQ.2.1.0&d=bB3BNSVmQQeALLZNieKIDQ.2.1.1&d=bB3BNSVmQQeALLZNieKIDQ.2.1.2&d=bB3BNSVmQQeALLZNieKIDQ.2.2.0&d=bB3BNSVmQQeALLZNieKIDQ.2.2.1&d=bB3BNSVmQQeALLZNieKIDQ.2.2.2&d=bB3BNSVmQQeALLZNieKIDQ.2.3.0&d=bB3BNSVmQQeALLZNieKIDQ.2.3.1&d=bB3BNSVmQQeALLZNieKIDQ.2.3.2&s=U17Yy2yZSQmyVBl4z0nUIA HTTP/1.1\u001b[0m\" 200 -\n",
      "127.0.0.1 - - [09/Nov/2018 19:22:48] \"\u001b[37mGET /api/v1/tiles/?d=bB3BNSVmQQeALLZNieKIDQ.3.3.2&d=bB3BNSVmQQeALLZNieKIDQ.3.3.3&d=bB3BNSVmQQeALLZNieKIDQ.3.3.4&d=bB3BNSVmQQeALLZNieKIDQ.3.4.2&d=bB3BNSVmQQeALLZNieKIDQ.3.4.3&d=bB3BNSVmQQeALLZNieKIDQ.3.4.4&d=bB3BNSVmQQeALLZNieKIDQ.3.5.2&d=bB3BNSVmQQeALLZNieKIDQ.3.5.3&d=bB3BNSVmQQeALLZNieKIDQ.3.5.4&d=bB3BNSVmQQeALLZNieKIDQ.3.6.2&d=bB3BNSVmQQeALLZNieKIDQ.3.6.3&d=bB3BNSVmQQeALLZNieKIDQ.3.6.4&s=U17Yy2yZSQmyVBl4z0nUIA HTTP/1.1\u001b[0m\" 200 -\n",
      "127.0.0.1 - - [09/Nov/2018 19:22:51] \"\u001b[37mOPTIONS /api/v1/tiles/?d=bB3BNSVmQQeALLZNieKIDQ.4.7.5&d=bB3BNSVmQQeALLZNieKIDQ.4.7.6&d=bB3BNSVmQQeALLZNieKIDQ.4.8.5&d=bB3BNSVmQQeALLZNieKIDQ.4.8.6&d=bB3BNSVmQQeALLZNieKIDQ.4.9.5&d=bB3BNSVmQQeALLZNieKIDQ.4.9.6&s=U17Yy2yZSQmyVBl4z0nUIA HTTP/1.1\u001b[0m\" 200 -\n"
     ]
    },
    {
     "name": "stdout",
     "output_type": "stream",
     "text": [
      "tile_group: ['bB3BNSVmQQeALLZNieKIDQ.4.7.5', 'bB3BNSVmQQeALLZNieKIDQ.4.7.6', 'bB3BNSVmQQeALLZNieKIDQ.4.8.5', 'bB3BNSVmQQeALLZNieKIDQ.4.8.6', 'bB3BNSVmQQeALLZNieKIDQ.4.9.5', 'bB3BNSVmQQeALLZNieKIDQ.4.9.6']\n"
     ]
    },
    {
     "name": "stderr",
     "output_type": "stream",
     "text": [
      "127.0.0.1 - - [09/Nov/2018 19:22:52] \"\u001b[37mGET /api/v1/tiles/?d=bB3BNSVmQQeALLZNieKIDQ.4.7.5&d=bB3BNSVmQQeALLZNieKIDQ.4.7.6&d=bB3BNSVmQQeALLZNieKIDQ.4.8.5&d=bB3BNSVmQQeALLZNieKIDQ.4.8.6&d=bB3BNSVmQQeALLZNieKIDQ.4.9.5&d=bB3BNSVmQQeALLZNieKIDQ.4.9.6&s=U17Yy2yZSQmyVBl4z0nUIA HTTP/1.1\u001b[0m\" 200 -\n",
      "127.0.0.1 - - [09/Nov/2018 19:22:57] \"\u001b[37mOPTIONS /api/v1/tiles/?d=bB3BNSVmQQeALLZNieKIDQ.5.15.10&d=bB3BNSVmQQeALLZNieKIDQ.5.15.11&d=bB3BNSVmQQeALLZNieKIDQ.5.15.12&d=bB3BNSVmQQeALLZNieKIDQ.5.16.10&d=bB3BNSVmQQeALLZNieKIDQ.5.16.11&d=bB3BNSVmQQeALLZNieKIDQ.5.16.12&d=bB3BNSVmQQeALLZNieKIDQ.5.17.10&d=bB3BNSVmQQeALLZNieKIDQ.5.17.11&d=bB3BNSVmQQeALLZNieKIDQ.5.17.12&s=U17Yy2yZSQmyVBl4z0nUIA HTTP/1.1\u001b[0m\" 200 -\n"
     ]
    },
    {
     "name": "stdout",
     "output_type": "stream",
     "text": [
      "tile_group: ['bB3BNSVmQQeALLZNieKIDQ.5.15.10', 'bB3BNSVmQQeALLZNieKIDQ.5.15.11', 'bB3BNSVmQQeALLZNieKIDQ.5.15.12', 'bB3BNSVmQQeALLZNieKIDQ.5.16.10', 'bB3BNSVmQQeALLZNieKIDQ.5.16.11', 'bB3BNSVmQQeALLZNieKIDQ.5.16.12', 'bB3BNSVmQQeALLZNieKIDQ.5.17.10', 'bB3BNSVmQQeALLZNieKIDQ.5.17.11', 'bB3BNSVmQQeALLZNieKIDQ.5.17.12']\n"
     ]
    },
    {
     "name": "stderr",
     "output_type": "stream",
     "text": [
      "127.0.0.1 - - [09/Nov/2018 19:22:58] \"\u001b[37mGET /api/v1/tiles/?d=bB3BNSVmQQeALLZNieKIDQ.5.15.10&d=bB3BNSVmQQeALLZNieKIDQ.5.15.11&d=bB3BNSVmQQeALLZNieKIDQ.5.15.12&d=bB3BNSVmQQeALLZNieKIDQ.5.16.10&d=bB3BNSVmQQeALLZNieKIDQ.5.16.11&d=bB3BNSVmQQeALLZNieKIDQ.5.16.12&d=bB3BNSVmQQeALLZNieKIDQ.5.17.10&d=bB3BNSVmQQeALLZNieKIDQ.5.17.11&d=bB3BNSVmQQeALLZNieKIDQ.5.17.12&s=U17Yy2yZSQmyVBl4z0nUIA HTTP/1.1\u001b[0m\" 200 -\n",
      "127.0.0.1 - - [09/Nov/2018 19:23:02] \"\u001b[37mOPTIONS /api/v1/tiles/?d=bB3BNSVmQQeALLZNieKIDQ.6.31.21&d=bB3BNSVmQQeALLZNieKIDQ.6.31.22&d=bB3BNSVmQQeALLZNieKIDQ.6.31.23&d=bB3BNSVmQQeALLZNieKIDQ.6.32.21&d=bB3BNSVmQQeALLZNieKIDQ.6.32.22&d=bB3BNSVmQQeALLZNieKIDQ.6.32.23&d=bB3BNSVmQQeALLZNieKIDQ.6.33.21&d=bB3BNSVmQQeALLZNieKIDQ.6.33.22&d=bB3BNSVmQQeALLZNieKIDQ.6.33.23&s=U17Yy2yZSQmyVBl4z0nUIA HTTP/1.1\u001b[0m\" 200 -\n"
     ]
    },
    {
     "name": "stdout",
     "output_type": "stream",
     "text": [
      "tile_group: ['bB3BNSVmQQeALLZNieKIDQ.6.31.21', 'bB3BNSVmQQeALLZNieKIDQ.6.31.22', 'bB3BNSVmQQeALLZNieKIDQ.6.31.23', 'bB3BNSVmQQeALLZNieKIDQ.6.32.21', 'bB3BNSVmQQeALLZNieKIDQ.6.32.22', 'bB3BNSVmQQeALLZNieKIDQ.6.32.23', 'bB3BNSVmQQeALLZNieKIDQ.6.33.21', 'bB3BNSVmQQeALLZNieKIDQ.6.33.22', 'bB3BNSVmQQeALLZNieKIDQ.6.33.23']\n"
     ]
    },
    {
     "name": "stderr",
     "output_type": "stream",
     "text": [
      "127.0.0.1 - - [09/Nov/2018 19:23:03] \"\u001b[37mGET /api/v1/tiles/?d=bB3BNSVmQQeALLZNieKIDQ.6.31.21&d=bB3BNSVmQQeALLZNieKIDQ.6.31.22&d=bB3BNSVmQQeALLZNieKIDQ.6.31.23&d=bB3BNSVmQQeALLZNieKIDQ.6.32.21&d=bB3BNSVmQQeALLZNieKIDQ.6.32.22&d=bB3BNSVmQQeALLZNieKIDQ.6.32.23&d=bB3BNSVmQQeALLZNieKIDQ.6.33.21&d=bB3BNSVmQQeALLZNieKIDQ.6.33.22&d=bB3BNSVmQQeALLZNieKIDQ.6.33.23&s=U17Yy2yZSQmyVBl4z0nUIA HTTP/1.1\u001b[0m\" 200 -\n",
      "127.0.0.1 - - [09/Nov/2018 19:54:38] \"\u001b[37mOPTIONS /api/v1/tiles/?d=bB3BNSVmQQeALLZNieKIDQ.5.15.10&d=bB3BNSVmQQeALLZNieKIDQ.5.15.11&d=bB3BNSVmQQeALLZNieKIDQ.5.15.12&d=bB3BNSVmQQeALLZNieKIDQ.5.16.10&d=bB3BNSVmQQeALLZNieKIDQ.5.16.11&d=bB3BNSVmQQeALLZNieKIDQ.5.16.12&s=U17Yy2yZSQmyVBl4z0nUIA HTTP/1.1\u001b[0m\" 200 -\n"
     ]
    },
    {
     "name": "stdout",
     "output_type": "stream",
     "text": [
      "tile_group: ['bB3BNSVmQQeALLZNieKIDQ.5.15.10', 'bB3BNSVmQQeALLZNieKIDQ.5.15.11', 'bB3BNSVmQQeALLZNieKIDQ.5.15.12', 'bB3BNSVmQQeALLZNieKIDQ.5.16.10', 'bB3BNSVmQQeALLZNieKIDQ.5.16.11', 'bB3BNSVmQQeALLZNieKIDQ.5.16.12']\n"
     ]
    },
    {
     "name": "stderr",
     "output_type": "stream",
     "text": [
      "127.0.0.1 - - [09/Nov/2018 19:54:39] \"\u001b[37mGET /api/v1/tiles/?d=bB3BNSVmQQeALLZNieKIDQ.5.15.10&d=bB3BNSVmQQeALLZNieKIDQ.5.15.11&d=bB3BNSVmQQeALLZNieKIDQ.5.15.12&d=bB3BNSVmQQeALLZNieKIDQ.5.16.10&d=bB3BNSVmQQeALLZNieKIDQ.5.16.11&d=bB3BNSVmQQeALLZNieKIDQ.5.16.12&s=U17Yy2yZSQmyVBl4z0nUIA HTTP/1.1\u001b[0m\" 200 -\n",
      "127.0.0.1 - - [09/Nov/2018 19:54:44] \"\u001b[37mOPTIONS /api/v1/tiles/?d=bB3BNSVmQQeALLZNieKIDQ.5.15.13&d=bB3BNSVmQQeALLZNieKIDQ.5.16.13&s=U17Yy2yZSQmyVBl4z0nUIA HTTP/1.1\u001b[0m\" 200 -\n"
     ]
    },
    {
     "name": "stdout",
     "output_type": "stream",
     "text": [
      "tile_group: ['bB3BNSVmQQeALLZNieKIDQ.5.15.13', 'bB3BNSVmQQeALLZNieKIDQ.5.16.13']\n"
     ]
    },
    {
     "name": "stderr",
     "output_type": "stream",
     "text": [
      "127.0.0.1 - - [09/Nov/2018 19:54:45] \"\u001b[37mGET /api/v1/tiles/?d=bB3BNSVmQQeALLZNieKIDQ.5.15.13&d=bB3BNSVmQQeALLZNieKIDQ.5.16.13&s=U17Yy2yZSQmyVBl4z0nUIA HTTP/1.1\u001b[0m\" 200 -\n",
      "127.0.0.1 - - [09/Nov/2018 19:54:50] \"\u001b[37mOPTIONS /api/v1/tiles/?d=bB3BNSVmQQeALLZNieKIDQ.5.16.10&d=bB3BNSVmQQeALLZNieKIDQ.5.17.10&d=bB3BNSVmQQeALLZNieKIDQ.5.17.11&s=U17Yy2yZSQmyVBl4z0nUIA HTTP/1.1\u001b[0m\" 200 -\n"
     ]
    },
    {
     "name": "stdout",
     "output_type": "stream",
     "text": [
      "tile_group: ['bB3BNSVmQQeALLZNieKIDQ.5.16.10', 'bB3BNSVmQQeALLZNieKIDQ.5.17.10', 'bB3BNSVmQQeALLZNieKIDQ.5.17.11']\n"
     ]
    },
    {
     "name": "stderr",
     "output_type": "stream",
     "text": [
      "127.0.0.1 - - [09/Nov/2018 19:54:50] \"\u001b[37mGET /api/v1/tiles/?d=bB3BNSVmQQeALLZNieKIDQ.5.16.10&d=bB3BNSVmQQeALLZNieKIDQ.5.17.10&d=bB3BNSVmQQeALLZNieKIDQ.5.17.11&s=U17Yy2yZSQmyVBl4z0nUIA HTTP/1.1\u001b[0m\" 200 -\n",
      "127.0.0.1 - - [09/Nov/2018 19:54:53] \"\u001b[37mOPTIONS /api/v1/tiles/?d=bB3BNSVmQQeALLZNieKIDQ.5.16.12&d=bB3BNSVmQQeALLZNieKIDQ.5.17.12&s=U17Yy2yZSQmyVBl4z0nUIA HTTP/1.1\u001b[0m\" 200 -\n"
     ]
    },
    {
     "name": "stdout",
     "output_type": "stream",
     "text": [
      "tile_group: ['bB3BNSVmQQeALLZNieKIDQ.5.16.12', 'bB3BNSVmQQeALLZNieKIDQ.5.17.12']\n"
     ]
    },
    {
     "name": "stderr",
     "output_type": "stream",
     "text": [
      "127.0.0.1 - - [09/Nov/2018 19:54:53] \"\u001b[37mGET /api/v1/tiles/?d=bB3BNSVmQQeALLZNieKIDQ.5.16.12&d=bB3BNSVmQQeALLZNieKIDQ.5.17.12&s=U17Yy2yZSQmyVBl4z0nUIA HTTP/1.1\u001b[0m\" 200 -\n",
      "127.0.0.1 - - [09/Nov/2018 19:54:55] \"\u001b[37mOPTIONS /api/v1/tiles/?d=bB3BNSVmQQeALLZNieKIDQ.5.15.10&d=bB3BNSVmQQeALLZNieKIDQ.5.15.11&s=U17Yy2yZSQmyVBl4z0nUIA HTTP/1.1\u001b[0m\" 200 -\n"
     ]
    },
    {
     "name": "stdout",
     "output_type": "stream",
     "text": [
      "tile_group: ['bB3BNSVmQQeALLZNieKIDQ.5.15.10', 'bB3BNSVmQQeALLZNieKIDQ.5.15.11']\n"
     ]
    },
    {
     "name": "stderr",
     "output_type": "stream",
     "text": [
      "127.0.0.1 - - [09/Nov/2018 19:54:55] \"\u001b[37mGET /api/v1/tiles/?d=bB3BNSVmQQeALLZNieKIDQ.5.15.10&d=bB3BNSVmQQeALLZNieKIDQ.5.15.11&s=U17Yy2yZSQmyVBl4z0nUIA HTTP/1.1\u001b[0m\" 200 -\n",
      "127.0.0.1 - - [09/Nov/2018 19:54:59] \"\u001b[37mOPTIONS /api/v1/tiles/?d=bB3BNSVmQQeALLZNieKIDQ.6.32.20&d=bB3BNSVmQQeALLZNieKIDQ.6.32.21&d=bB3BNSVmQQeALLZNieKIDQ.6.32.22&d=bB3BNSVmQQeALLZNieKIDQ.6.33.20&d=bB3BNSVmQQeALLZNieKIDQ.6.33.21&d=bB3BNSVmQQeALLZNieKIDQ.6.33.22&s=U17Yy2yZSQmyVBl4z0nUIA HTTP/1.1\u001b[0m\" 200 -\n"
     ]
    },
    {
     "name": "stdout",
     "output_type": "stream",
     "text": [
      "tile_group: ['bB3BNSVmQQeALLZNieKIDQ.6.32.20', 'bB3BNSVmQQeALLZNieKIDQ.6.32.21', 'bB3BNSVmQQeALLZNieKIDQ.6.32.22', 'bB3BNSVmQQeALLZNieKIDQ.6.33.20', 'bB3BNSVmQQeALLZNieKIDQ.6.33.21', 'bB3BNSVmQQeALLZNieKIDQ.6.33.22']\n"
     ]
    },
    {
     "name": "stderr",
     "output_type": "stream",
     "text": [
      "127.0.0.1 - - [09/Nov/2018 19:54:59] \"\u001b[37mGET /api/v1/tiles/?d=bB3BNSVmQQeALLZNieKIDQ.6.32.20&d=bB3BNSVmQQeALLZNieKIDQ.6.32.21&d=bB3BNSVmQQeALLZNieKIDQ.6.32.22&d=bB3BNSVmQQeALLZNieKIDQ.6.33.20&d=bB3BNSVmQQeALLZNieKIDQ.6.33.21&d=bB3BNSVmQQeALLZNieKIDQ.6.33.22&s=U17Yy2yZSQmyVBl4z0nUIA HTTP/1.1\u001b[0m\" 200 -\n",
      "127.0.0.1 - - [09/Nov/2018 19:55:01] \"\u001b[37mOPTIONS /api/v1/tiles/?d=bB3BNSVmQQeALLZNieKIDQ.5.15.10&d=bB3BNSVmQQeALLZNieKIDQ.5.15.11&d=bB3BNSVmQQeALLZNieKIDQ.5.16.10&d=bB3BNSVmQQeALLZNieKIDQ.5.16.11&d=bB3BNSVmQQeALLZNieKIDQ.5.17.10&d=bB3BNSVmQQeALLZNieKIDQ.5.17.11&s=U17Yy2yZSQmyVBl4z0nUIA HTTP/1.1\u001b[0m\" 200 -\n"
     ]
    },
    {
     "name": "stdout",
     "output_type": "stream",
     "text": [
      "tile_group: ['bB3BNSVmQQeALLZNieKIDQ.5.15.10', 'bB3BNSVmQQeALLZNieKIDQ.5.15.11', 'bB3BNSVmQQeALLZNieKIDQ.5.16.10', 'bB3BNSVmQQeALLZNieKIDQ.5.16.11', 'bB3BNSVmQQeALLZNieKIDQ.5.17.10', 'bB3BNSVmQQeALLZNieKIDQ.5.17.11']\n"
     ]
    },
    {
     "name": "stderr",
     "output_type": "stream",
     "text": [
      "127.0.0.1 - - [09/Nov/2018 19:55:02] \"\u001b[37mGET /api/v1/tiles/?d=bB3BNSVmQQeALLZNieKIDQ.5.15.10&d=bB3BNSVmQQeALLZNieKIDQ.5.15.11&d=bB3BNSVmQQeALLZNieKIDQ.5.16.10&d=bB3BNSVmQQeALLZNieKIDQ.5.16.11&d=bB3BNSVmQQeALLZNieKIDQ.5.17.10&d=bB3BNSVmQQeALLZNieKIDQ.5.17.11&s=U17Yy2yZSQmyVBl4z0nUIA HTTP/1.1\u001b[0m\" 200 -\n",
      "127.0.0.1 - - [09/Nov/2018 19:55:04] \"\u001b[37mOPTIONS /api/v1/tiles/?d=bB3BNSVmQQeALLZNieKIDQ.5.15.12&d=bB3BNSVmQQeALLZNieKIDQ.5.16.12&d=bB3BNSVmQQeALLZNieKIDQ.5.17.12&s=U17Yy2yZSQmyVBl4z0nUIA HTTP/1.1\u001b[0m\" 200 -\n"
     ]
    },
    {
     "name": "stdout",
     "output_type": "stream",
     "text": [
      "tile_group: ['bB3BNSVmQQeALLZNieKIDQ.5.15.12', 'bB3BNSVmQQeALLZNieKIDQ.5.16.12', 'bB3BNSVmQQeALLZNieKIDQ.5.17.12']\n"
     ]
    },
    {
     "name": "stderr",
     "output_type": "stream",
     "text": [
      "127.0.0.1 - - [09/Nov/2018 19:55:04] \"\u001b[37mGET /api/v1/tiles/?d=bB3BNSVmQQeALLZNieKIDQ.5.15.12&d=bB3BNSVmQQeALLZNieKIDQ.5.16.12&d=bB3BNSVmQQeALLZNieKIDQ.5.17.12&s=U17Yy2yZSQmyVBl4z0nUIA HTTP/1.1\u001b[0m\" 200 -\n",
      "127.0.0.1 - - [09/Nov/2018 19:55:05] \"\u001b[37mOPTIONS /api/v1/tiles/?d=bB3BNSVmQQeALLZNieKIDQ.5.18.10&d=bB3BNSVmQQeALLZNieKIDQ.5.18.11&d=bB3BNSVmQQeALLZNieKIDQ.5.18.12&s=U17Yy2yZSQmyVBl4z0nUIA HTTP/1.1\u001b[0m\" 200 -\n"
     ]
    },
    {
     "name": "stdout",
     "output_type": "stream",
     "text": [
      "tile_group: ['bB3BNSVmQQeALLZNieKIDQ.5.18.10', 'bB3BNSVmQQeALLZNieKIDQ.5.18.11', 'bB3BNSVmQQeALLZNieKIDQ.5.18.12']\n"
     ]
    },
    {
     "name": "stderr",
     "output_type": "stream",
     "text": [
      "127.0.0.1 - - [09/Nov/2018 19:55:05] \"\u001b[37mGET /api/v1/tiles/?d=bB3BNSVmQQeALLZNieKIDQ.5.18.10&d=bB3BNSVmQQeALLZNieKIDQ.5.18.11&d=bB3BNSVmQQeALLZNieKIDQ.5.18.12&s=U17Yy2yZSQmyVBl4z0nUIA HTTP/1.1\u001b[0m\" 200 -\n",
      "127.0.0.1 - - [09/Nov/2018 19:55:08] \"\u001b[37mOPTIONS /api/v1/tiles/?d=bB3BNSVmQQeALLZNieKIDQ.5.19.11&d=bB3BNSVmQQeALLZNieKIDQ.5.19.12&s=U17Yy2yZSQmyVBl4z0nUIA HTTP/1.1\u001b[0m\" 200 -\n"
     ]
    },
    {
     "name": "stdout",
     "output_type": "stream",
     "text": [
      "tile_group: ['bB3BNSVmQQeALLZNieKIDQ.5.19.11', 'bB3BNSVmQQeALLZNieKIDQ.5.19.12']\n"
     ]
    },
    {
     "name": "stderr",
     "output_type": "stream",
     "text": [
      "127.0.0.1 - - [09/Nov/2018 19:55:09] \"\u001b[37mGET /api/v1/tiles/?d=bB3BNSVmQQeALLZNieKIDQ.5.19.11&d=bB3BNSVmQQeALLZNieKIDQ.5.19.12&s=U17Yy2yZSQmyVBl4z0nUIA HTTP/1.1\u001b[0m\" 200 -\n",
      "127.0.0.1 - - [09/Nov/2018 19:55:11] \"\u001b[37mOPTIONS /api/v1/tiles/?d=bB3BNSVmQQeALLZNieKIDQ.5.18.13&d=bB3BNSVmQQeALLZNieKIDQ.5.19.13&s=U17Yy2yZSQmyVBl4z0nUIA HTTP/1.1\u001b[0m\" 200 -\n"
     ]
    },
    {
     "name": "stdout",
     "output_type": "stream",
     "text": [
      "tile_group: ['bB3BNSVmQQeALLZNieKIDQ.5.18.13', 'bB3BNSVmQQeALLZNieKIDQ.5.19.13']\n"
     ]
    },
    {
     "name": "stderr",
     "output_type": "stream",
     "text": [
      "127.0.0.1 - - [09/Nov/2018 19:55:11] \"\u001b[37mGET /api/v1/tiles/?d=bB3BNSVmQQeALLZNieKIDQ.5.18.13&d=bB3BNSVmQQeALLZNieKIDQ.5.19.13&s=U17Yy2yZSQmyVBl4z0nUIA HTTP/1.1\u001b[0m\" 200 -\n",
      "127.0.0.1 - - [09/Nov/2018 19:55:13] \"\u001b[37mOPTIONS /api/v1/tiles/?d=bB3BNSVmQQeALLZNieKIDQ.5.17.13&s=U17Yy2yZSQmyVBl4z0nUIA HTTP/1.1\u001b[0m\" 200 -\n"
     ]
    },
    {
     "name": "stdout",
     "output_type": "stream",
     "text": [
      "tile_group: ['bB3BNSVmQQeALLZNieKIDQ.5.17.13']\n"
     ]
    },
    {
     "name": "stderr",
     "output_type": "stream",
     "text": [
      "127.0.0.1 - - [09/Nov/2018 19:55:13] \"\u001b[37mGET /api/v1/tiles/?d=bB3BNSVmQQeALLZNieKIDQ.5.17.13&s=U17Yy2yZSQmyVBl4z0nUIA HTTP/1.1\u001b[0m\" 200 -\n",
      "127.0.0.1 - - [09/Nov/2018 19:55:15] \"\u001b[37mOPTIONS /api/v1/tiles/?d=bB3BNSVmQQeALLZNieKIDQ.4.8.5&d=bB3BNSVmQQeALLZNieKIDQ.4.8.6&d=bB3BNSVmQQeALLZNieKIDQ.4.9.5&d=bB3BNSVmQQeALLZNieKIDQ.4.9.6&d=bB3BNSVmQQeALLZNieKIDQ.4.10.5&d=bB3BNSVmQQeALLZNieKIDQ.4.10.6&s=U17Yy2yZSQmyVBl4z0nUIA HTTP/1.1\u001b[0m\" 200 -\n"
     ]
    },
    {
     "name": "stdout",
     "output_type": "stream",
     "text": [
      "tile_group: ['bB3BNSVmQQeALLZNieKIDQ.4.8.5', 'bB3BNSVmQQeALLZNieKIDQ.4.8.6', 'bB3BNSVmQQeALLZNieKIDQ.4.9.5', 'bB3BNSVmQQeALLZNieKIDQ.4.9.6', 'bB3BNSVmQQeALLZNieKIDQ.4.10.5', 'bB3BNSVmQQeALLZNieKIDQ.4.10.6']\n"
     ]
    },
    {
     "name": "stderr",
     "output_type": "stream",
     "text": [
      "127.0.0.1 - - [09/Nov/2018 19:55:16] \"\u001b[37mGET /api/v1/tiles/?d=bB3BNSVmQQeALLZNieKIDQ.4.8.5&d=bB3BNSVmQQeALLZNieKIDQ.4.8.6&d=bB3BNSVmQQeALLZNieKIDQ.4.9.5&d=bB3BNSVmQQeALLZNieKIDQ.4.9.6&d=bB3BNSVmQQeALLZNieKIDQ.4.10.5&d=bB3BNSVmQQeALLZNieKIDQ.4.10.6&s=U17Yy2yZSQmyVBl4z0nUIA HTTP/1.1\u001b[0m\" 200 -\n",
      "127.0.0.1 - - [09/Nov/2018 19:55:18] \"\u001b[37mOPTIONS /api/v1/tiles/?d=bB3BNSVmQQeALLZNieKIDQ.4.7.4&d=bB3BNSVmQQeALLZNieKIDQ.4.7.5&d=bB3BNSVmQQeALLZNieKIDQ.4.7.6&d=bB3BNSVmQQeALLZNieKIDQ.4.8.4&d=bB3BNSVmQQeALLZNieKIDQ.4.9.4&s=U17Yy2yZSQmyVBl4z0nUIA HTTP/1.1\u001b[0m\" 200 -\n"
     ]
    },
    {
     "name": "stdout",
     "output_type": "stream",
     "text": [
      "tile_group: ['bB3BNSVmQQeALLZNieKIDQ.4.7.4', 'bB3BNSVmQQeALLZNieKIDQ.4.7.5', 'bB3BNSVmQQeALLZNieKIDQ.4.7.6', 'bB3BNSVmQQeALLZNieKIDQ.4.8.4', 'bB3BNSVmQQeALLZNieKIDQ.4.9.4']\n"
     ]
    },
    {
     "name": "stderr",
     "output_type": "stream",
     "text": [
      "127.0.0.1 - - [09/Nov/2018 19:55:19] \"\u001b[37mGET /api/v1/tiles/?d=bB3BNSVmQQeALLZNieKIDQ.4.7.4&d=bB3BNSVmQQeALLZNieKIDQ.4.7.5&d=bB3BNSVmQQeALLZNieKIDQ.4.7.6&d=bB3BNSVmQQeALLZNieKIDQ.4.8.4&d=bB3BNSVmQQeALLZNieKIDQ.4.9.4&s=U17Yy2yZSQmyVBl4z0nUIA HTTP/1.1\u001b[0m\" 200 -\n",
      "127.0.0.1 - - [09/Nov/2018 19:55:28] \"\u001b[37mOPTIONS /api/v1/tiles/?d=bB3BNSVmQQeALLZNieKIDQ.4.7.6&d=bB3BNSVmQQeALLZNieKIDQ.4.8.6&s=U17Yy2yZSQmyVBl4z0nUIA HTTP/1.1\u001b[0m\" 200 -\n"
     ]
    },
    {
     "name": "stdout",
     "output_type": "stream",
     "text": [
      "tile_group: ['bB3BNSVmQQeALLZNieKIDQ.4.7.6', 'bB3BNSVmQQeALLZNieKIDQ.4.8.6']\n"
     ]
    },
    {
     "name": "stderr",
     "output_type": "stream",
     "text": [
      "127.0.0.1 - - [09/Nov/2018 19:55:29] \"\u001b[37mGET /api/v1/tiles/?d=bB3BNSVmQQeALLZNieKIDQ.4.7.6&d=bB3BNSVmQQeALLZNieKIDQ.4.8.6&s=U17Yy2yZSQmyVBl4z0nUIA HTTP/1.1\u001b[0m\" 200 -\n",
      "127.0.0.1 - - [09/Nov/2018 19:55:31] \"\u001b[37mOPTIONS /api/v1/tiles/?d=bB3BNSVmQQeALLZNieKIDQ.4.7.6&d=bB3BNSVmQQeALLZNieKIDQ.4.8.6&s=U17Yy2yZSQmyVBl4z0nUIA HTTP/1.1\u001b[0m\" 200 -\n"
     ]
    },
    {
     "name": "stdout",
     "output_type": "stream",
     "text": [
      "tile_group: ['bB3BNSVmQQeALLZNieKIDQ.4.7.6', 'bB3BNSVmQQeALLZNieKIDQ.4.8.6']\n"
     ]
    },
    {
     "name": "stderr",
     "output_type": "stream",
     "text": [
      "127.0.0.1 - - [09/Nov/2018 19:55:31] \"\u001b[37mGET /api/v1/tiles/?d=bB3BNSVmQQeALLZNieKIDQ.4.7.6&d=bB3BNSVmQQeALLZNieKIDQ.4.8.6&s=U17Yy2yZSQmyVBl4z0nUIA HTTP/1.1\u001b[0m\" 200 -\n",
      "127.0.0.1 - - [09/Nov/2018 19:55:33] \"\u001b[37mOPTIONS /api/v1/tiles/?d=bB3BNSVmQQeALLZNieKIDQ.5.15.10&d=bB3BNSVmQQeALLZNieKIDQ.5.15.11&d=bB3BNSVmQQeALLZNieKIDQ.5.15.12&d=bB3BNSVmQQeALLZNieKIDQ.5.16.10&d=bB3BNSVmQQeALLZNieKIDQ.5.16.11&d=bB3BNSVmQQeALLZNieKIDQ.5.16.12&d=bB3BNSVmQQeALLZNieKIDQ.5.17.10&d=bB3BNSVmQQeALLZNieKIDQ.5.17.11&d=bB3BNSVmQQeALLZNieKIDQ.5.17.12&s=U17Yy2yZSQmyVBl4z0nUIA HTTP/1.1\u001b[0m\" 200 -\n"
     ]
    },
    {
     "name": "stdout",
     "output_type": "stream",
     "text": [
      "tile_group: ['bB3BNSVmQQeALLZNieKIDQ.5.15.10', 'bB3BNSVmQQeALLZNieKIDQ.5.15.11', 'bB3BNSVmQQeALLZNieKIDQ.5.15.12', 'bB3BNSVmQQeALLZNieKIDQ.5.16.10', 'bB3BNSVmQQeALLZNieKIDQ.5.16.11', 'bB3BNSVmQQeALLZNieKIDQ.5.16.12', 'bB3BNSVmQQeALLZNieKIDQ.5.17.10', 'bB3BNSVmQQeALLZNieKIDQ.5.17.11', 'bB3BNSVmQQeALLZNieKIDQ.5.17.12']\n"
     ]
    },
    {
     "name": "stderr",
     "output_type": "stream",
     "text": [
      "127.0.0.1 - - [09/Nov/2018 19:55:34] \"\u001b[37mGET /api/v1/tiles/?d=bB3BNSVmQQeALLZNieKIDQ.5.15.10&d=bB3BNSVmQQeALLZNieKIDQ.5.15.11&d=bB3BNSVmQQeALLZNieKIDQ.5.15.12&d=bB3BNSVmQQeALLZNieKIDQ.5.16.10&d=bB3BNSVmQQeALLZNieKIDQ.5.16.11&d=bB3BNSVmQQeALLZNieKIDQ.5.16.12&d=bB3BNSVmQQeALLZNieKIDQ.5.17.10&d=bB3BNSVmQQeALLZNieKIDQ.5.17.11&d=bB3BNSVmQQeALLZNieKIDQ.5.17.12&s=U17Yy2yZSQmyVBl4z0nUIA HTTP/1.1\u001b[0m\" 200 -\n",
      "127.0.0.1 - - [09/Nov/2018 19:55:40] \"\u001b[37mOPTIONS /api/v1/tiles/?d=bB3BNSVmQQeALLZNieKIDQ.5.15.10&d=bB3BNSVmQQeALLZNieKIDQ.5.15.11&s=U17Yy2yZSQmyVBl4z0nUIA HTTP/1.1\u001b[0m\" 200 -\n"
     ]
    },
    {
     "name": "stdout",
     "output_type": "stream",
     "text": [
      "tile_group: ['bB3BNSVmQQeALLZNieKIDQ.5.15.10', 'bB3BNSVmQQeALLZNieKIDQ.5.15.11']\n"
     ]
    },
    {
     "name": "stderr",
     "output_type": "stream",
     "text": [
      "127.0.0.1 - - [09/Nov/2018 19:55:41] \"\u001b[37mGET /api/v1/tiles/?d=bB3BNSVmQQeALLZNieKIDQ.5.15.10&d=bB3BNSVmQQeALLZNieKIDQ.5.15.11&s=U17Yy2yZSQmyVBl4z0nUIA HTTP/1.1\u001b[0m\" 200 -\n",
      "127.0.0.1 - - [09/Nov/2018 19:55:41] \"\u001b[37mOPTIONS /api/v1/tiles/?d=bB3BNSVmQQeALLZNieKIDQ.5.15.9&d=bB3BNSVmQQeALLZNieKIDQ.5.16.9&d=bB3BNSVmQQeALLZNieKIDQ.5.17.9&s=U17Yy2yZSQmyVBl4z0nUIA HTTP/1.1\u001b[0m\" 200 -\n"
     ]
    },
    {
     "name": "stdout",
     "output_type": "stream",
     "text": [
      "tile_group: ['bB3BNSVmQQeALLZNieKIDQ.5.15.9', 'bB3BNSVmQQeALLZNieKIDQ.5.16.9', 'bB3BNSVmQQeALLZNieKIDQ.5.17.9']\n"
     ]
    },
    {
     "name": "stderr",
     "output_type": "stream",
     "text": [
      "127.0.0.1 - - [09/Nov/2018 19:55:41] \"\u001b[37mGET /api/v1/tiles/?d=bB3BNSVmQQeALLZNieKIDQ.5.15.9&d=bB3BNSVmQQeALLZNieKIDQ.5.16.9&d=bB3BNSVmQQeALLZNieKIDQ.5.17.9&s=U17Yy2yZSQmyVBl4z0nUIA HTTP/1.1\u001b[0m\" 200 -\n",
      "127.0.0.1 - - [09/Nov/2018 19:55:41] \"\u001b[37mOPTIONS /api/v1/tiles/?d=bB3BNSVmQQeALLZNieKIDQ.5.18.10&d=bB3BNSVmQQeALLZNieKIDQ.5.18.11&s=U17Yy2yZSQmyVBl4z0nUIA HTTP/1.1\u001b[0m\" 200 -\n"
     ]
    },
    {
     "name": "stdout",
     "output_type": "stream",
     "text": [
      "tile_group: ['bB3BNSVmQQeALLZNieKIDQ.5.18.10', 'bB3BNSVmQQeALLZNieKIDQ.5.18.11']\n"
     ]
    },
    {
     "name": "stderr",
     "output_type": "stream",
     "text": [
      "127.0.0.1 - - [09/Nov/2018 19:55:42] \"\u001b[37mGET /api/v1/tiles/?d=bB3BNSVmQQeALLZNieKIDQ.5.18.10&d=bB3BNSVmQQeALLZNieKIDQ.5.18.11&s=U17Yy2yZSQmyVBl4z0nUIA HTTP/1.1\u001b[0m\" 200 -\n",
      "127.0.0.1 - - [09/Nov/2018 19:55:48] \"\u001b[37mOPTIONS /api/v1/tiles/?d=bB3BNSVmQQeALLZNieKIDQ.5.15.10&d=bB3BNSVmQQeALLZNieKIDQ.5.15.11&s=U17Yy2yZSQmyVBl4z0nUIA HTTP/1.1\u001b[0m\" 200 -\n"
     ]
    },
    {
     "name": "stdout",
     "output_type": "stream",
     "text": [
      "tile_group: ['bB3BNSVmQQeALLZNieKIDQ.5.15.10', 'bB3BNSVmQQeALLZNieKIDQ.5.15.11']\n"
     ]
    },
    {
     "name": "stderr",
     "output_type": "stream",
     "text": [
      "127.0.0.1 - - [09/Nov/2018 19:55:48] \"\u001b[37mGET /api/v1/tiles/?d=bB3BNSVmQQeALLZNieKIDQ.5.15.10&d=bB3BNSVmQQeALLZNieKIDQ.5.15.11&s=U17Yy2yZSQmyVBl4z0nUIA HTTP/1.1\u001b[0m\" 200 -\n",
      "127.0.0.1 - - [09/Nov/2018 19:55:53] \"\u001b[37mOPTIONS /api/v1/tiles/?d=bB3BNSVmQQeALLZNieKIDQ.5.15.9&d=bB3BNSVmQQeALLZNieKIDQ.5.16.9&d=bB3BNSVmQQeALLZNieKIDQ.5.17.9&s=U17Yy2yZSQmyVBl4z0nUIA HTTP/1.1\u001b[0m\" 200 -\n"
     ]
    },
    {
     "name": "stdout",
     "output_type": "stream",
     "text": [
      "tile_group: ['bB3BNSVmQQeALLZNieKIDQ.5.15.9', 'bB3BNSVmQQeALLZNieKIDQ.5.16.9', 'bB3BNSVmQQeALLZNieKIDQ.5.17.9']\n"
     ]
    },
    {
     "name": "stderr",
     "output_type": "stream",
     "text": [
      "127.0.0.1 - - [09/Nov/2018 19:55:54] \"\u001b[37mGET /api/v1/tiles/?d=bB3BNSVmQQeALLZNieKIDQ.5.15.9&d=bB3BNSVmQQeALLZNieKIDQ.5.16.9&d=bB3BNSVmQQeALLZNieKIDQ.5.17.9&s=U17Yy2yZSQmyVBl4z0nUIA HTTP/1.1\u001b[0m\" 200 -\n",
      "127.0.0.1 - - [09/Nov/2018 19:55:56] \"\u001b[37mOPTIONS /api/v1/tiles/?d=bB3BNSVmQQeALLZNieKIDQ.5.14.9&d=bB3BNSVmQQeALLZNieKIDQ.5.14.10&d=bB3BNSVmQQeALLZNieKIDQ.5.14.11&s=U17Yy2yZSQmyVBl4z0nUIA HTTP/1.1\u001b[0m\" 200 -\n"
     ]
    },
    {
     "name": "stdout",
     "output_type": "stream",
     "text": [
      "tile_group: ['bB3BNSVmQQeALLZNieKIDQ.5.14.9', 'bB3BNSVmQQeALLZNieKIDQ.5.14.10', 'bB3BNSVmQQeALLZNieKIDQ.5.14.11']\n"
     ]
    },
    {
     "name": "stderr",
     "output_type": "stream",
     "text": [
      "127.0.0.1 - - [09/Nov/2018 19:55:57] \"\u001b[37mGET /api/v1/tiles/?d=bB3BNSVmQQeALLZNieKIDQ.5.14.9&d=bB3BNSVmQQeALLZNieKIDQ.5.14.10&d=bB3BNSVmQQeALLZNieKIDQ.5.14.11&s=U17Yy2yZSQmyVBl4z0nUIA HTTP/1.1\u001b[0m\" 200 -\n",
      "127.0.0.1 - - [09/Nov/2018 19:55:57] \"\u001b[37mOPTIONS /api/v1/tiles/?d=bB3BNSVmQQeALLZNieKIDQ.4.7.4&d=bB3BNSVmQQeALLZNieKIDQ.4.7.5&d=bB3BNSVmQQeALLZNieKIDQ.4.8.4&d=bB3BNSVmQQeALLZNieKIDQ.4.8.5&s=U17Yy2yZSQmyVBl4z0nUIA HTTP/1.1\u001b[0m\" 200 -\n"
     ]
    },
    {
     "name": "stdout",
     "output_type": "stream",
     "text": [
      "tile_group: ['bB3BNSVmQQeALLZNieKIDQ.4.7.4', 'bB3BNSVmQQeALLZNieKIDQ.4.7.5', 'bB3BNSVmQQeALLZNieKIDQ.4.8.4', 'bB3BNSVmQQeALLZNieKIDQ.4.8.5']\n"
     ]
    },
    {
     "name": "stderr",
     "output_type": "stream",
     "text": [
      "127.0.0.1 - - [09/Nov/2018 19:55:57] \"\u001b[37mGET /api/v1/tiles/?d=bB3BNSVmQQeALLZNieKIDQ.4.7.4&d=bB3BNSVmQQeALLZNieKIDQ.4.7.5&d=bB3BNSVmQQeALLZNieKIDQ.4.8.4&d=bB3BNSVmQQeALLZNieKIDQ.4.8.5&s=U17Yy2yZSQmyVBl4z0nUIA HTTP/1.1\u001b[0m\" 200 -\n",
      "127.0.0.1 - - [09/Nov/2018 19:55:59] \"\u001b[37mOPTIONS /api/v1/tiles/?d=bB3BNSVmQQeALLZNieKIDQ.4.7.6&d=bB3BNSVmQQeALLZNieKIDQ.4.8.6&s=U17Yy2yZSQmyVBl4z0nUIA HTTP/1.1\u001b[0m\" 200 -\n"
     ]
    },
    {
     "name": "stdout",
     "output_type": "stream",
     "text": [
      "tile_group: ['bB3BNSVmQQeALLZNieKIDQ.4.7.6', 'bB3BNSVmQQeALLZNieKIDQ.4.8.6']\n"
     ]
    },
    {
     "name": "stderr",
     "output_type": "stream",
     "text": [
      "127.0.0.1 - - [09/Nov/2018 19:56:00] \"\u001b[37mGET /api/v1/tiles/?d=bB3BNSVmQQeALLZNieKIDQ.4.7.6&d=bB3BNSVmQQeALLZNieKIDQ.4.8.6&s=U17Yy2yZSQmyVBl4z0nUIA HTTP/1.1\u001b[0m\" 200 -\n",
      "127.0.0.1 - - [09/Nov/2018 19:56:03] \"\u001b[37mOPTIONS /api/v1/tiles/?d=bB3BNSVmQQeALLZNieKIDQ.4.7.7&d=bB3BNSVmQQeALLZNieKIDQ.4.8.7&s=U17Yy2yZSQmyVBl4z0nUIA HTTP/1.1\u001b[0m\" 200 -\n"
     ]
    },
    {
     "name": "stdout",
     "output_type": "stream",
     "text": [
      "tile_group: ['bB3BNSVmQQeALLZNieKIDQ.4.7.7', 'bB3BNSVmQQeALLZNieKIDQ.4.8.7']\n"
     ]
    },
    {
     "name": "stderr",
     "output_type": "stream",
     "text": [
      "127.0.0.1 - - [09/Nov/2018 19:56:03] \"\u001b[37mGET /api/v1/tiles/?d=bB3BNSVmQQeALLZNieKIDQ.4.7.7&d=bB3BNSVmQQeALLZNieKIDQ.4.8.7&s=U17Yy2yZSQmyVBl4z0nUIA HTTP/1.1\u001b[0m\" 200 -\n",
      "127.0.0.1 - - [09/Nov/2018 19:56:04] \"\u001b[37mOPTIONS /api/v1/tiles/?d=bB3BNSVmQQeALLZNieKIDQ.4.9.5&d=bB3BNSVmQQeALLZNieKIDQ.4.9.6&d=bB3BNSVmQQeALLZNieKIDQ.4.9.7&s=U17Yy2yZSQmyVBl4z0nUIA HTTP/1.1\u001b[0m\" 200 -\n"
     ]
    },
    {
     "name": "stdout",
     "output_type": "stream",
     "text": [
      "tile_group: ['bB3BNSVmQQeALLZNieKIDQ.4.9.5', 'bB3BNSVmQQeALLZNieKIDQ.4.9.6', 'bB3BNSVmQQeALLZNieKIDQ.4.9.7']\n"
     ]
    },
    {
     "name": "stderr",
     "output_type": "stream",
     "text": [
      "127.0.0.1 - - [09/Nov/2018 19:56:05] \"\u001b[37mGET /api/v1/tiles/?d=bB3BNSVmQQeALLZNieKIDQ.4.9.5&d=bB3BNSVmQQeALLZNieKIDQ.4.9.6&d=bB3BNSVmQQeALLZNieKIDQ.4.9.7&s=U17Yy2yZSQmyVBl4z0nUIA HTTP/1.1\u001b[0m\" 200 -\n",
      "127.0.0.1 - - [09/Nov/2018 19:56:29] \"\u001b[37mOPTIONS /api/v1/tiles/?d=bB3BNSVmQQeALLZNieKIDQ.3.3.2&d=bB3BNSVmQQeALLZNieKIDQ.3.3.3&d=bB3BNSVmQQeALLZNieKIDQ.3.3.4&d=bB3BNSVmQQeALLZNieKIDQ.3.4.2&d=bB3BNSVmQQeALLZNieKIDQ.3.4.3&d=bB3BNSVmQQeALLZNieKIDQ.3.4.4&s=U17Yy2yZSQmyVBl4z0nUIA HTTP/1.1\u001b[0m\" 200 -\n"
     ]
    },
    {
     "name": "stdout",
     "output_type": "stream",
     "text": [
      "tile_group: ['bB3BNSVmQQeALLZNieKIDQ.3.3.2', 'bB3BNSVmQQeALLZNieKIDQ.3.3.3', 'bB3BNSVmQQeALLZNieKIDQ.3.3.4', 'bB3BNSVmQQeALLZNieKIDQ.3.4.2', 'bB3BNSVmQQeALLZNieKIDQ.3.4.3', 'bB3BNSVmQQeALLZNieKIDQ.3.4.4']\n"
     ]
    },
    {
     "name": "stderr",
     "output_type": "stream",
     "text": [
      "127.0.0.1 - - [09/Nov/2018 19:56:30] \"\u001b[37mGET /api/v1/tiles/?d=bB3BNSVmQQeALLZNieKIDQ.3.3.2&d=bB3BNSVmQQeALLZNieKIDQ.3.3.3&d=bB3BNSVmQQeALLZNieKIDQ.3.3.4&d=bB3BNSVmQQeALLZNieKIDQ.3.4.2&d=bB3BNSVmQQeALLZNieKIDQ.3.4.3&d=bB3BNSVmQQeALLZNieKIDQ.3.4.4&s=U17Yy2yZSQmyVBl4z0nUIA HTTP/1.1\u001b[0m\" 200 -\n",
      "127.0.0.1 - - [09/Nov/2018 19:56:31] \"\u001b[37mOPTIONS /api/v1/tiles/?d=bB3BNSVmQQeALLZNieKIDQ.4.7.6&d=bB3BNSVmQQeALLZNieKIDQ.4.7.7&d=bB3BNSVmQQeALLZNieKIDQ.4.8.6&d=bB3BNSVmQQeALLZNieKIDQ.4.8.7&d=bB3BNSVmQQeALLZNieKIDQ.4.9.6&d=bB3BNSVmQQeALLZNieKIDQ.4.9.7&s=U17Yy2yZSQmyVBl4z0nUIA HTTP/1.1\u001b[0m\" 200 -\n"
     ]
    },
    {
     "name": "stdout",
     "output_type": "stream",
     "text": [
      "tile_group: ['bB3BNSVmQQeALLZNieKIDQ.4.7.6', 'bB3BNSVmQQeALLZNieKIDQ.4.7.7', 'bB3BNSVmQQeALLZNieKIDQ.4.8.6', 'bB3BNSVmQQeALLZNieKIDQ.4.8.7', 'bB3BNSVmQQeALLZNieKIDQ.4.9.6', 'bB3BNSVmQQeALLZNieKIDQ.4.9.7']\n"
     ]
    },
    {
     "name": "stderr",
     "output_type": "stream",
     "text": [
      "127.0.0.1 - - [09/Nov/2018 19:56:32] \"\u001b[37mGET /api/v1/tiles/?d=bB3BNSVmQQeALLZNieKIDQ.4.7.6&d=bB3BNSVmQQeALLZNieKIDQ.4.7.7&d=bB3BNSVmQQeALLZNieKIDQ.4.8.6&d=bB3BNSVmQQeALLZNieKIDQ.4.8.7&d=bB3BNSVmQQeALLZNieKIDQ.4.9.6&d=bB3BNSVmQQeALLZNieKIDQ.4.9.7&s=U17Yy2yZSQmyVBl4z0nUIA HTTP/1.1\u001b[0m\" 200 -\n",
      "127.0.0.1 - - [09/Nov/2018 19:57:09] \"\u001b[37mOPTIONS /api/v1/tiles/?d=bB3BNSVmQQeALLZNieKIDQ.5.15.12&d=bB3BNSVmQQeALLZNieKIDQ.5.15.13&d=bB3BNSVmQQeALLZNieKIDQ.5.15.14&d=bB3BNSVmQQeALLZNieKIDQ.5.16.12&d=bB3BNSVmQQeALLZNieKIDQ.5.16.13&d=bB3BNSVmQQeALLZNieKIDQ.5.16.14&d=bB3BNSVmQQeALLZNieKIDQ.5.17.12&d=bB3BNSVmQQeALLZNieKIDQ.5.17.13&d=bB3BNSVmQQeALLZNieKIDQ.5.17.14&s=U17Yy2yZSQmyVBl4z0nUIA HTTP/1.1\u001b[0m\" 200 -\n"
     ]
    },
    {
     "name": "stdout",
     "output_type": "stream",
     "text": [
      "tile_group: ['bB3BNSVmQQeALLZNieKIDQ.5.15.12', 'bB3BNSVmQQeALLZNieKIDQ.5.15.13', 'bB3BNSVmQQeALLZNieKIDQ.5.15.14', 'bB3BNSVmQQeALLZNieKIDQ.5.16.12', 'bB3BNSVmQQeALLZNieKIDQ.5.16.13', 'bB3BNSVmQQeALLZNieKIDQ.5.16.14', 'bB3BNSVmQQeALLZNieKIDQ.5.17.12', 'bB3BNSVmQQeALLZNieKIDQ.5.17.13', 'bB3BNSVmQQeALLZNieKIDQ.5.17.14']\n"
     ]
    },
    {
     "name": "stderr",
     "output_type": "stream",
     "text": [
      "127.0.0.1 - - [09/Nov/2018 19:57:10] \"\u001b[37mOPTIONS /api/v1/tiles/?d=bB3BNSVmQQeALLZNieKIDQ.6.31.26&d=bB3BNSVmQQeALLZNieKIDQ.6.31.27&d=bB3BNSVmQQeALLZNieKIDQ.6.31.28&d=bB3BNSVmQQeALLZNieKIDQ.6.32.26&d=bB3BNSVmQQeALLZNieKIDQ.6.32.27&d=bB3BNSVmQQeALLZNieKIDQ.6.32.28&d=bB3BNSVmQQeALLZNieKIDQ.6.33.26&d=bB3BNSVmQQeALLZNieKIDQ.6.33.27&d=bB3BNSVmQQeALLZNieKIDQ.6.33.28&d=bB3BNSVmQQeALLZNieKIDQ.6.34.26&d=bB3BNSVmQQeALLZNieKIDQ.6.34.27&d=bB3BNSVmQQeALLZNieKIDQ.6.34.28&s=U17Yy2yZSQmyVBl4z0nUIA HTTP/1.1\u001b[0m\" 200 -\n"
     ]
    },
    {
     "name": "stdout",
     "output_type": "stream",
     "text": [
      "tile_group: ['bB3BNSVmQQeALLZNieKIDQ.6.31.26', 'bB3BNSVmQQeALLZNieKIDQ.6.31.27', 'bB3BNSVmQQeALLZNieKIDQ.6.31.28', 'bB3BNSVmQQeALLZNieKIDQ.6.32.26', 'bB3BNSVmQQeALLZNieKIDQ.6.32.27', 'bB3BNSVmQQeALLZNieKIDQ.6.32.28', 'bB3BNSVmQQeALLZNieKIDQ.6.33.26', 'bB3BNSVmQQeALLZNieKIDQ.6.33.27', 'bB3BNSVmQQeALLZNieKIDQ.6.33.28', 'bB3BNSVmQQeALLZNieKIDQ.6.34.26', 'bB3BNSVmQQeALLZNieKIDQ.6.34.27', 'bB3BNSVmQQeALLZNieKIDQ.6.34.28']\n"
     ]
    },
    {
     "name": "stderr",
     "output_type": "stream",
     "text": [
      "127.0.0.1 - - [09/Nov/2018 19:57:11] \"\u001b[37mGET /api/v1/tiles/?d=bB3BNSVmQQeALLZNieKIDQ.5.15.12&d=bB3BNSVmQQeALLZNieKIDQ.5.15.13&d=bB3BNSVmQQeALLZNieKIDQ.5.15.14&d=bB3BNSVmQQeALLZNieKIDQ.5.16.12&d=bB3BNSVmQQeALLZNieKIDQ.5.16.13&d=bB3BNSVmQQeALLZNieKIDQ.5.16.14&d=bB3BNSVmQQeALLZNieKIDQ.5.17.12&d=bB3BNSVmQQeALLZNieKIDQ.5.17.13&d=bB3BNSVmQQeALLZNieKIDQ.5.17.14&s=U17Yy2yZSQmyVBl4z0nUIA HTTP/1.1\u001b[0m\" 200 -\n",
      "127.0.0.1 - - [09/Nov/2018 19:57:11] \"\u001b[37mGET /api/v1/tiles/?d=bB3BNSVmQQeALLZNieKIDQ.6.31.26&d=bB3BNSVmQQeALLZNieKIDQ.6.31.27&d=bB3BNSVmQQeALLZNieKIDQ.6.31.28&d=bB3BNSVmQQeALLZNieKIDQ.6.32.26&d=bB3BNSVmQQeALLZNieKIDQ.6.32.27&d=bB3BNSVmQQeALLZNieKIDQ.6.32.28&d=bB3BNSVmQQeALLZNieKIDQ.6.33.26&d=bB3BNSVmQQeALLZNieKIDQ.6.33.27&d=bB3BNSVmQQeALLZNieKIDQ.6.33.28&d=bB3BNSVmQQeALLZNieKIDQ.6.34.26&d=bB3BNSVmQQeALLZNieKIDQ.6.34.27&d=bB3BNSVmQQeALLZNieKIDQ.6.34.28&s=U17Yy2yZSQmyVBl4z0nUIA HTTP/1.1\u001b[0m\" 200 -\n",
      "127.0.0.1 - - [09/Nov/2018 19:57:14] \"\u001b[37mOPTIONS /api/v1/tiles/?d=bB3BNSVmQQeALLZNieKIDQ.4.7.6&d=bB3BNSVmQQeALLZNieKIDQ.4.7.7&d=bB3BNSVmQQeALLZNieKIDQ.4.8.6&d=bB3BNSVmQQeALLZNieKIDQ.4.8.7&d=bB3BNSVmQQeALLZNieKIDQ.4.9.6&d=bB3BNSVmQQeALLZNieKIDQ.4.9.7&s=U17Yy2yZSQmyVBl4z0nUIA HTTP/1.1\u001b[0m\" 200 -\n"
     ]
    },
    {
     "name": "stdout",
     "output_type": "stream",
     "text": [
      "tile_group: ['bB3BNSVmQQeALLZNieKIDQ.4.7.6', 'bB3BNSVmQQeALLZNieKIDQ.4.7.7', 'bB3BNSVmQQeALLZNieKIDQ.4.8.6', 'bB3BNSVmQQeALLZNieKIDQ.4.8.7', 'bB3BNSVmQQeALLZNieKIDQ.4.9.6', 'bB3BNSVmQQeALLZNieKIDQ.4.9.7']\n"
     ]
    },
    {
     "name": "stderr",
     "output_type": "stream",
     "text": [
      "127.0.0.1 - - [09/Nov/2018 19:57:15] \"\u001b[37mOPTIONS /api/v1/tiles/?d=bB3BNSVmQQeALLZNieKIDQ.4.7.5&d=bB3BNSVmQQeALLZNieKIDQ.4.8.5&d=bB3BNSVmQQeALLZNieKIDQ.4.9.5&s=U17Yy2yZSQmyVBl4z0nUIA HTTP/1.1\u001b[0m\" 200 -\n"
     ]
    },
    {
     "name": "stdout",
     "output_type": "stream",
     "text": [
      "tile_group: ['bB3BNSVmQQeALLZNieKIDQ.4.7.5', 'bB3BNSVmQQeALLZNieKIDQ.4.8.5', 'bB3BNSVmQQeALLZNieKIDQ.4.9.5']\n"
     ]
    },
    {
     "name": "stderr",
     "output_type": "stream",
     "text": [
      "127.0.0.1 - - [09/Nov/2018 19:57:16] \"\u001b[37mGET /api/v1/tiles/?d=bB3BNSVmQQeALLZNieKIDQ.4.7.6&d=bB3BNSVmQQeALLZNieKIDQ.4.7.7&d=bB3BNSVmQQeALLZNieKIDQ.4.8.6&d=bB3BNSVmQQeALLZNieKIDQ.4.8.7&d=bB3BNSVmQQeALLZNieKIDQ.4.9.6&d=bB3BNSVmQQeALLZNieKIDQ.4.9.7&s=U17Yy2yZSQmyVBl4z0nUIA HTTP/1.1\u001b[0m\" 200 -\n",
      "127.0.0.1 - - [09/Nov/2018 19:57:16] \"\u001b[37mGET /api/v1/tiles/?d=bB3BNSVmQQeALLZNieKIDQ.4.7.5&d=bB3BNSVmQQeALLZNieKIDQ.4.8.5&d=bB3BNSVmQQeALLZNieKIDQ.4.9.5&s=U17Yy2yZSQmyVBl4z0nUIA HTTP/1.1\u001b[0m\" 200 -\n"
     ]
    }
   ],
   "source": [
    "import hgflask.server as hgse\n",
    "import hgflask.tilesets as hfti\n",
    "import hgtiles.format as hgfo\n",
    "import hgtiles.utils as hgut\n",
    "    \n",
    "ts = hfti.Tileset(\n",
    "    tileset_info=tileset_info,\n",
    "    tiles=lambda tile_ids: \n",
    "        hgut.bundled_tiles_wrapper_2d(tile_ids,\n",
    "            lambda z,x,y,width=1,height=1: \n",
    "                [(tile_id, hgfo.format_dense_tile(tile)) for \n",
    "                  (tile_id, tile) in tile_data(z, x, y, width, height)]))\n",
    "server = hgse.start([ts])"
   ]
  },
  {
   "cell_type": "code",
   "execution_count": 337,
   "metadata": {},
   "outputs": [
    {
     "data": {
      "text/plain": [
       "'import hgflask.server as hgse\\nimport hgflask.tilesets as hfti\\nimport hgtiles.format as hgfo\\nimport hgtiles.utils as hgut\\n\\nts = hfti.Tileset(\\n    tileset_info=tileset_info,\\n    tiles=lambda tile_ids: hgut.tiles_wrapper_2d(tile_ids,\\n                    lambda z,x,y: hgfo.format_dense_tile(tile_data(z, x, y)))\\n)\\n\\nserver = hgse.start([ts])'"
      ]
     },
     "execution_count": 337,
     "metadata": {},
     "output_type": "execute_result"
    }
   ],
   "source": [
    "\"\"\"import hgflask.server as hgse\n",
    "import hgflask.tilesets as hfti\n",
    "import hgtiles.format as hgfo\n",
    "import hgtiles.utils as hgut\n",
    "\n",
    "ts = hfti.Tileset(\n",
    "    tileset_info=tileset_info,\n",
    "    tiles=lambda tile_ids: hgut.tiles_wrapper_2d(tile_ids,\n",
    "                    lambda z,x,y: hgfo.format_dense_tile(tile_data(z, x, y)))\n",
    ")\n",
    "\n",
    "server = hgse.start([ts])\"\"\""
   ]
  },
  {
   "cell_type": "code",
   "execution_count": 338,
   "metadata": {},
   "outputs": [
    {
     "name": "stdout",
     "output_type": "stream",
     "text": [
      "CPU times: user 9.8 ms, sys: 6.64 ms, total: 16.4 ms\n",
      "Wall time: 572 ms\n"
     ]
    }
   ],
   "source": [
    "%%time\n",
    "\n",
    "x = server.tiles(ts.uuid, 4,4,5)"
   ]
  },
  {
   "cell_type": "code",
   "execution_count": 339,
   "metadata": {},
   "outputs": [
    {
     "data": {
      "text/plain": [
       "51952"
      ]
     },
     "execution_count": 339,
     "metadata": {},
     "output_type": "execute_result"
    }
   ],
   "source": [
    "server.port"
   ]
  },
  {
   "cell_type": "code",
   "execution_count": 340,
   "metadata": {
    "collapsed": true
   },
   "outputs": [],
   "source": [
    "!curl http://localhost:{server.port}/api/v1/tiles/?d={ts.uuid}.4.4.5&d={ts.uuid}.4.4.5"
   ]
  },
  {
   "cell_type": "code",
   "execution_count": 341,
   "metadata": {
    "scrolled": false
   },
   "outputs": [
    {
     "name": "stdout",
     "output_type": "stream",
     "text": [
      "track.position top\n",
      "track.position left\n",
      "track.position center\n"
     ]
    },
    {
     "data": {
      "application/vnd.jupyter.widget-view+json": {
       "model_id": "66aeba6ce61449d8b5005fe02873715c",
       "version_major": 2,
       "version_minor": 0
      },
      "text/plain": [
       "A Jupyter Widget"
      ]
     },
     "metadata": {},
     "output_type": "display_data"
    }
   ],
   "source": [
    "import higlass_jupyter as hiju\n",
    "import hgflask.client as hgc\n",
    "\n",
    "conf = hgc.ViewConf([\n",
    "    hgc.View([\n",
    "        hgc.Track(track_type='top-axis', position='top'),\n",
    "        hgc.Track(track_type='left-axis', position='left'),\n",
    "        hgc.Track(track_type='heatmap', position='center',\n",
    "                 tileset_uuid=ts.uuid,\n",
    "                  api_url=server.api_address,\n",
    "                  height=250),\n",
    "\n",
    "    ])\n",
    "])\n",
    "\n",
    "hiju.HiGlassDisplay(viewconf=conf.to_json())"
   ]
  },
  {
   "cell_type": "code",
   "execution_count": null,
   "metadata": {
    "collapsed": true
   },
   "outputs": [],
   "source": []
  },
  {
   "cell_type": "code",
   "execution_count": null,
   "metadata": {
    "collapsed": true
   },
   "outputs": [],
   "source": []
  }
 ],
 "metadata": {
  "kernelspec": {
   "display_name": "Python 3",
   "language": "python",
   "name": "python3"
  },
  "language_info": {
   "codemirror_mode": {
    "name": "ipython",
    "version": 3
   },
   "file_extension": ".py",
   "mimetype": "text/x-python",
   "name": "python",
   "nbconvert_exporter": "python",
   "pygments_lexer": "ipython3",
   "version": "3.6.2"
  }
 },
 "nbformat": 4,
 "nbformat_minor": 2
}
