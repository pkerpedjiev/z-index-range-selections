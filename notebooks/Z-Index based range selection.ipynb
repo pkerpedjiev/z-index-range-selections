{
 "cells": [
  {
   "cell_type": "code",
   "execution_count": 5,
   "metadata": {
    "collapsed": true
   },
   "outputs": [],
   "source": [
    "%load_ext autoreload\n",
    "%autoreload 2"
   ]
  },
  {
   "cell_type": "code",
   "execution_count": 6,
   "metadata": {},
   "outputs": [
    {
     "name": "stdout",
     "output_type": "stream",
     "text": [
      "-------------\n"
     ]
    },
    {
     "data": {
      "text/plain": [
       "1"
      ]
     },
     "execution_count": 6,
     "metadata": {},
     "output_type": "execute_result"
    }
   ],
   "source": [
    "import numpy as np\n",
    "import functools as ft\n",
    "\n",
    "def less_than(a, b):\n",
    "    '''\n",
    "    Assuming a and b are on adjacent vertices of\n",
    "    a z-order curve, return -1 if a < b, 0 if\n",
    "    a == b and 1 if a > b\n",
    "    \n",
    "    Parameters\n",
    "    ----------\n",
    "    a: (float, float)\n",
    "        Point\n",
    "    b: (float, float)\n",
    "        Point\n",
    "    '''\n",
    "    \n",
    "    x = np.array(a)\n",
    "    y = np.array(b)\n",
    "        \n",
    "    ret = 1\n",
    "    \n",
    "    if a[0] == b[0] and a[1] == b[1]:\n",
    "        return 0\n",
    "    \n",
    "    if a[1] < b[1]:\n",
    "        ret = -1\n",
    "    else:\n",
    "        if a[0] < b[0]:\n",
    "            ret = -1\n",
    "    if a[1] > b[1]:\n",
    "        ret = 1\n",
    "    \n",
    "    #print(ret)\n",
    "    return ret\n",
    "    \n",
    "    print(a[1] < b[1], a[0] < b[0], a[1] > b[1], ret)\n",
    "    #return True if a[1] <= b[1] else a[0] <= b[0]\n",
    "    #print(a[1] <= b[1], a[0] <= b[0]\n",
    "    \n",
    "less_than([0,0], [0,1]) # -1 or True\n",
    "less_than([0,0], [1,0]) # -1 or True\n",
    "less_than([0,0], [1,1]) # -1 or True\n",
    "\n",
    "less_than([1,0], [0,1]) # -1 or True\n",
    "less_than([1,0], [1,1]) # -1 or True\n",
    "\n",
    "less_than([0,1], [1,1]) # -1 or True\n",
    "print(\"-------------\")\n",
    "\n",
    "less_than([0,1], [0,0]) #\n",
    "less_than([1,0], [0,0]) #\n",
    "less_than([1,1], [0,0]) #\n",
    "\n",
    "less_than([0,1], [1,0]) # False\n",
    "less_than([1,1], [1,0]) #\n",
    "\n",
    "less_than([1,1], [0,1]) #"
   ]
  },
  {
   "cell_type": "code",
   "execution_count": 81,
   "metadata": {},
   "outputs": [
    {
     "name": "stdout",
     "output_type": "stream",
     "text": [
      "False\n",
      "False\n",
      "False\n",
      "True\n"
     ]
    }
   ],
   "source": [
    "def in_tile(a, tile):\n",
    "    '''\n",
    "    Is a point in a tile\n",
    "    \n",
    "    Parameters\n",
    "    ----------\n",
    "    a: (float, float)\n",
    "    b: (float, float)\n",
    "    tile: (float, float, float, float)\n",
    "    '''\n",
    "    return a[0] >= tile[0] and a[1] >= tile[1] and a[0] < tile[2] and a[1] < tile[3]\n",
    "\n",
    "print(in_tile([1,1], [0,0,1,1]))\n",
    "print(in_tile([2,2], [0,0,1,1]))\n",
    "print(in_tile([-1,1], [0,0,1,1]))\n",
    "print(in_tile([0.5,0.5], [0,0,1,1]))"
   ]
  },
  {
   "cell_type": "code",
   "execution_count": 82,
   "metadata": {},
   "outputs": [
    {
     "data": {
      "text/plain": [
       "[[0, 0, 0.5, 0.5], [0, 0.5, 0.5, 1], [0.5, 0, 1, 0.5], [0.5, 0.5, 1, 1]]"
      ]
     },
     "execution_count": 82,
     "metadata": {},
     "output_type": "execute_result"
    }
   ],
   "source": [
    "def tile_children(tile):\n",
    "    '''\n",
    "    Split a tile into its four children\n",
    "    \n",
    "    Parameters\n",
    "    ----------\n",
    "    tile: (float, float, float, float)\n",
    "    '''\n",
    "    tile_width = tile[2] - tile[0]\n",
    "    tile_height = tile[3] - tile[1]\n",
    "    \n",
    "    return [\n",
    "        [tile[0], tile[1], tile[0] + tile_width / 2, tile[1] + tile_height / 2],\n",
    "        [tile[0], tile[1] + tile_height / 2, tile[0] + tile_width / 2, tile[3]],\n",
    "        [tile[0] + tile_width / 2, tile[1], tile[2], tile[1] + tile_height / 2],\n",
    "        [tile[0] + tile_width / 2, tile[1] + tile_height / 2, tile[2], tile[3]]\n",
    "    ]\n",
    "        \n",
    "tile_children([0,0,1,1])"
   ]
  },
  {
   "cell_type": "code",
   "execution_count": 83,
   "metadata": {
    "collapsed": true
   },
   "outputs": [],
   "source": [
    "big_tile=[0,0,8,8]"
   ]
  },
  {
   "cell_type": "code",
   "execution_count": 113,
   "metadata": {},
   "outputs": [],
   "source": [
    "def zindex_compare(a,b,tile):\n",
    "    '''\n",
    "    Compare two points along z curve wihin the bounds of \n",
    "    the given tile.\n",
    "    \n",
    "    Parameters\n",
    "    ----------\n",
    "    a: (float, float)\n",
    "        Point 1\n",
    "    b: (float, float)\n",
    "        Point 2\n",
    "    tile: (float, float, float, float)\n",
    "        The bounds of the region in which we want to compare them\n",
    "    '''\n",
    "    #print(a, tile, in_tile(a,tile))\n",
    "    #print(\"a,b,tile\", a,b, tile)\n",
    "    assert(in_tile(a,tile))\n",
    "    assert(in_tile(b, tile))\n",
    "    \n",
    "    #print(\"comparing\", a, b)\n",
    "    \n",
    "    if a[0] == b[0] and a[1] == b[1]:\n",
    "        return 0\n",
    "    \n",
    "    children = tile_children(tile)\n",
    "    \n",
    "    for child in children:\n",
    "        #print(\"child:\", child)\n",
    "        \n",
    "        if in_tile(a, child):\n",
    "            child_a = child\n",
    "        if in_tile(b, child):\n",
    "            child_b = child\n",
    "            \n",
    "    if child_a == child_b:\n",
    "        #print(\"child_a\", child_a, \"child_b\", child_b)\n",
    "        return zindex_compare(a, b, child_a)\n",
    "    else:\n",
    "        return less_than(child_a[:2], child_b[:2])\n",
    "        \n",
    "\n",
    "assert(zindex_compare([2,2], [2,2], [0,0,8,8]) == 0)\n",
    "assert(zindex_compare([0,4], [3,4], [0,0,8,8]) == -1)\n",
    "assert(zindex_compare([6,4], [3,1], [0,0,8,8]) == 1)\n",
    "assert(zindex_compare([3,1], [2,2], [0,0,8,8]) == -1)\n",
    "assert(zindex_compare([2,2], [3,1], [0,0,8,8]) == 1)\n",
    "assert(zindex_compare([7,1], [2,2], [0,0,8,8]) == 1)\n",
    "assert(zindex_compare([2,2], [7,1], [0,0,8,8]) == -1)"
   ]
  },
  {
   "cell_type": "code",
   "execution_count": 114,
   "metadata": {},
   "outputs": [
    {
     "name": "stdout",
     "output_type": "stream",
     "text": [
      "[[3, 1], [2, 2], [7, 1], [4, 2], [0, 4], [3, 4], [1, 6], [6, 4]]\n",
      "CPU times: user 448 µs, sys: 206 µs, total: 654 µs\n",
      "Wall time: 472 µs\n"
     ]
    }
   ],
   "source": [
    "%%time\n",
    "\n",
    "points_list = sorted([\n",
    "    [6,4],[7,1],[2,2],[3,1],[3,4],[0,4],[1,6],[4,2]\n",
    "], key=ft.cmp_to_key(lambda a,b: zindex_compare(a,b, [0,0,8,8])))\n",
    "\n",
    "print(points_list)"
   ]
  },
  {
   "cell_type": "code",
   "execution_count": 115,
   "metadata": {},
   "outputs": [
    {
     "name": "stdout",
     "output_type": "stream",
     "text": [
      "6\n",
      "7\n"
     ]
    }
   ],
   "source": [
    "def lower_bound(sequence, value, compare=None):\n",
    "    \"\"\"Find the index of the first element in sequence >= value\"\"\"\n",
    "    elements = len(sequence)\n",
    "    offset = 0\n",
    "    middle = 0\n",
    "    found = len(sequence)\n",
    " \n",
    "    while elements > 0:\n",
    "        middle = elements // 2\n",
    "        #print(\"middle:\", middle)\n",
    "        if compare(value, sequence[offset + middle]) > 0:\n",
    "            offset = offset + middle + 1\n",
    "            elements = elements - (middle + 1)\n",
    "        else:\n",
    "            found = offset + middle\n",
    "            elements = middle\n",
    "    return found\n",
    "\n",
    "def upper_bound(sequence, value, compare):\n",
    "    \"\"\"Find the index of the first element in sequence > value\"\"\"\n",
    "    elements = len(sequence)\n",
    "    offset = 0\n",
    "    middle = 0\n",
    "    found = 0\n",
    " \n",
    "    while elements > 0:\n",
    "        middle = elements // 2\n",
    "        if compare(value, sequence[offset + middle]) < 0:\n",
    "            elements = middle\n",
    "        else:\n",
    "            offset = offset + middle + 1\n",
    "            found = offset\n",
    "            elements = elements - (middle + 1)\n",
    "    return found\n",
    "\n",
    "print(lower_bound(points_list, [1,6], lambda a,b: zindex_compare(a,b, [0,0,8,8])))\n",
    "print(upper_bound(points_list, [1,6], lambda a,b: zindex_compare(a,b, [0,0,8,8])))"
   ]
  },
  {
   "cell_type": "code",
   "execution_count": 230,
   "metadata": {},
   "outputs": [
    {
     "data": {
      "text/plain": [
       "[[3, 1], [2, 2]]"
      ]
     },
     "execution_count": 230,
     "metadata": {},
     "output_type": "execute_result"
    }
   ],
   "source": [
    "def all_point_boundaries(points_list, tile, bounding_tile):\n",
    "    cmp = lambda a,b: zindex_compare(a,b, bounding_tile)\n",
    "    \n",
    "    left_index = lower_bound(points_list, [tile[0], tile[1]], cmp)\n",
    "    right_index = lower_bound(points_list, [tile[2] - 0.000001, tile[3] - 0.000001], cmp)\n",
    "    #print(\"right_index\", right_index)\n",
    "    \n",
    "    return left_index, right_index\n",
    "\n",
    "def all_points(points_list, tile, bounding_tile):\n",
    "    '''\n",
    "    Return all points that are in the tile given tile\n",
    "    '''\n",
    "    left_index, right_index = all_point_boundaries(points_list, tile, bounding_tile)\n",
    "    \n",
    "    return points_list[left_index:right_index]\n",
    "\n",
    "all_points(points_list, [0.0, 0.0, 4.0, 4.0], big_tile)"
   ]
  },
  {
   "cell_type": "code",
   "execution_count": 231,
   "metadata": {},
   "outputs": [],
   "source": [
    "#all_points(points_list, [3.0, 1.9999999999999998, 3.0000000000000004, 2.0]"
   ]
  },
  {
   "cell_type": "code",
   "execution_count": 234,
   "metadata": {},
   "outputs": [],
   "source": [
    "def all_in(tile, rect):\n",
    "    '''\n",
    "    Is this tile completely enclosed in the rectangle:\n",
    "    \n",
    "    Parameters\n",
    "    ----------\n",
    "    tile: [float, float, float, float]\n",
    "        The xmin,ymin,xmax,ymax of the tile\n",
    "    rect: [float, float, float, float]\n",
    "        The xmin, ymin, xmas, ymax of the rectangle\n",
    "    '''\n",
    "    ret = (tile[0] >= rect[0] and\n",
    "            tile[1] >= rect[1] and \n",
    "            tile[2] <= rect[2] and\n",
    "            tile[3] <= rect[3])\n",
    "    #print(\"all_in:\", ret, tile, rect)\n",
    "    return ret\n",
    "\n",
    "def some_in(tile, rect):\n",
    "    '''\n",
    "    Is part of this tile within the rectangle?\n",
    "    \n",
    "    Parameters\n",
    "    ----------\n",
    "    tile: [float, float, float, float]\n",
    "        The xmin,ymin,xmax,ymax of the tile\n",
    "    rect: [float, float, float, float]\n",
    "        The xmin, ymin, xmas, ymax of the tile\n",
    "    '''\n",
    "    ret = (tile[0] < rect[2] and\n",
    "            tile[1] < rect[3] and \n",
    "            tile[2] > rect[0] and\n",
    "            tile[3] >= rect[1])\n",
    "    \n",
    "    #print(\"some_in\", ret)\n",
    "    return ret\n",
    "\n",
    "def get_points(points_list, rect, tile, bounding_tile):\n",
    "    '''\n",
    "    Get all the points in the tile that intersect the rectangle\n",
    "    \n",
    "    Parameters\n",
    "    ----------\n",
    "    rect: [float, float, float, float]\n",
    "        minx, miny, maxx, maxy\n",
    "    tile: [float, float, float, float]\n",
    "        minx, miny, maxx, maxy\n",
    "    '''\n",
    "    points = []\n",
    "    \n",
    "    left_index, right_index = all_point_boundaries(points_list, tile, bounding_tile)\n",
    "    \n",
    "    #if len(points_in_tile) == 0:\n",
    "    #    return []\n",
    "    \n",
    "    #print(\"tile:\", tile, points_in_tile)\n",
    "    # points_in_tile\n",
    "    if left_index == right_index:\n",
    "        return []\n",
    "    \n",
    "    if not some_in(tile, rect):\n",
    "        # no intersection\n",
    "        return []\n",
    "    if all_in(tile, rect):\n",
    "        #print(\"all points\", tile)\n",
    "        return points_list[left_index:right_index]\n",
    "    \n",
    "    for child in tile_children(tile):\n",
    "        points += get_points(points_list, rect, child, bounding_tile) \n",
    "        \n",
    "    return points"
   ]
  },
  {
   "cell_type": "code",
   "execution_count": 235,
   "metadata": {},
   "outputs": [
    {
     "data": {
      "text/plain": [
       "[[3, 1], [2, 2]]"
      ]
     },
     "execution_count": 235,
     "metadata": {},
     "output_type": "execute_result"
    }
   ],
   "source": [
    "get_points(points_list, [0,0,4,4], [0,0,8,8], [0,0,16,16])"
   ]
  },
  {
   "cell_type": "code",
   "execution_count": 236,
   "metadata": {},
   "outputs": [
    {
     "data": {
      "text/plain": [
       "[[3, 1], [2, 2], [0, 4], [3, 4], [4, 2]]"
      ]
     },
     "execution_count": 236,
     "metadata": {},
     "output_type": "execute_result"
    }
   ],
   "source": [
    "get_points(points_list, [0,0,5,5], [0,0,8,8], [0,0,16,16])"
   ]
  },
  {
   "cell_type": "code",
   "execution_count": 237,
   "metadata": {},
   "outputs": [
    {
     "data": {
      "text/plain": [
       "[[3, 1], [7, 1]]"
      ]
     },
     "execution_count": 237,
     "metadata": {},
     "output_type": "execute_result"
    }
   ],
   "source": [
    "get_points(points_list, [0,0,8,1.5], [0,0,8,8], [0,0,16,16])"
   ]
  },
  {
   "cell_type": "code",
   "execution_count": null,
   "metadata": {},
   "outputs": [
    {
     "name": "stdout",
     "output_type": "stream",
     "text": [
      "CPU times: user 3.7 ms, sys: 2.79 ms, total: 6.49 ms\n",
      "Wall time: 13.1 ms\n"
     ]
    }
   ],
   "source": [
    "%time new_points = np.random.random((64000,2))\n",
    "\n",
    "test_bounds = [0,0,2,2]\n",
    "\n",
    "%time new_points_list = sorted(new_points, key=ft.cmp_to_key(lambda a,b: zindex_compare(a,b, test_bounds)))"
   ]
  },
  {
   "cell_type": "code",
   "execution_count": null,
   "metadata": {},
   "outputs": [],
   "source": [
    "def run_query_z_index():\n",
    "    #print(query_bounds)\n",
    "    min_pos = [random.random(), random.random()]\n",
    "    a = 1 - min_pos[0]\n",
    "    b = 1 - min_pos[1]\n",
    "    max_pos = [min_pos[0] + a * random.random(), min_pos[1] + b * random.random()]\n",
    "    query_bounds = min_pos + max_pos\n",
    "    \n",
    "    return get_points(new_points_list, query_bounds, test_bounds, test_bounds)\n",
    "\n",
    "#def naive_filter():\n",
    "    \n",
    "\n",
    "%timeit run_query_z_index()\n",
    "#print(len(x), query_bounds)"
   ]
  },
  {
   "cell_type": "markdown",
   "metadata": {},
   "source": [
    "1000: 241ms\n",
    "2000: 435ms\n",
    "4000: 318ms\n",
    "8000: 1.05s\n",
    "16000: 2.4s\n",
    "32000: 1.97s"
   ]
  }
 ],
 "metadata": {
  "kernelspec": {
   "display_name": "Python 3",
   "language": "python",
   "name": "python3"
  },
  "language_info": {
   "codemirror_mode": {
    "name": "ipython",
    "version": 3
   },
   "file_extension": ".py",
   "mimetype": "text/x-python",
   "name": "python",
   "nbconvert_exporter": "python",
   "pygments_lexer": "ipython3",
   "version": "3.6.3"
  }
 },
 "nbformat": 4,
 "nbformat_minor": 2
}
