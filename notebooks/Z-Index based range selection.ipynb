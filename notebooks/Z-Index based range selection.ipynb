{
 "cells": [
  {
   "cell_type": "code",
   "execution_count": 1,
   "metadata": {},
   "outputs": [],
   "source": [
    "%load_ext autoreload\n",
    "%autoreload 2\n",
    "%matplotlib inline"
   ]
  },
  {
   "cell_type": "code",
   "execution_count": 112,
   "metadata": {},
   "outputs": [
    {
     "name": "stdout",
     "output_type": "stream",
     "text": [
      "-------------\n"
     ]
    },
    {
     "data": {
      "text/plain": [
       "1"
      ]
     },
     "execution_count": 112,
     "metadata": {},
     "output_type": "execute_result"
    }
   ],
   "source": [
    "import numba\n",
    "import numpy as np\n",
    "import functools as ft\n",
    "\n",
    "@numba.jit(nopython=True)\n",
    "def less_than(xa, ya, xb, yb):\n",
    "    '''\n",
    "    Assuming a and b are on adjacent vertices of\n",
    "    a z-order curve, return -1 if a < b, 0 if\n",
    "    a == b and 1 if a > b\n",
    "    \n",
    "    Parameters\n",
    "    ----------\n",
    "    a: (float, float)\n",
    "        Point\n",
    "    b: (float, float)\n",
    "        Point\n",
    "    '''\n",
    "    #print(\"less_than\")\n",
    "        \n",
    "    ret = 1\n",
    "    \n",
    "    if xa == xb and ya == yb:\n",
    "        return 0\n",
    "    \n",
    "    if ya < yb:\n",
    "        ret = -1\n",
    "    else:\n",
    "        if xa < xb:\n",
    "            ret = -1\n",
    "    if ya > yb:\n",
    "        ret = 1\n",
    "    \n",
    "    #print(ret)\n",
    "    return ret\n",
    "    \n",
    "    #print(a[1] < b[1], a[0] < b[0], a[1] > b[1], ret)\n",
    "    #return True if a[1] <= b[1] else a[0] <= b[0]\n",
    "    #print(a[1] <= b[1], a[0] <= b[0]\n",
    "    \n",
    "less_than(0,0, 0,1) # -1 or True\n",
    "less_than(0,0, 1,0) # -1 or True\n",
    "less_than(0,0, 1,1) # -1 or True\n",
    "\n",
    "less_than(1,0, 0,1) # -1 or True\n",
    "less_than(1,0, 1,1) # -1 or True\n",
    "\n",
    "less_than(0,1, 1,1) # -1 or True\n",
    "print(\"-------------\")\n",
    "\n",
    "less_than(0,1, 0,0) #\n",
    "less_than(1,0, 0,0) #\n",
    "less_than(1,1, 0,0) #\n",
    "\n",
    "less_than(0,1, 1,0) # False\n",
    "less_than(1,1, 1,0) #\n",
    "\n",
    "less_than(1,1, 0,1) #"
   ]
  },
  {
   "cell_type": "code",
   "execution_count": 113,
   "metadata": {},
   "outputs": [
    {
     "data": {
      "text/plain": [
       "array([ 0. ,  0. ,  0.5,  0.5,  0. ,  0.5,  0.5,  1. ,  0.5,  0. ,  1. ,\n",
       "        0.5,  0.5,  0.5,  1. ,  1. ])"
      ]
     },
     "execution_count": 113,
     "metadata": {},
     "output_type": "execute_result"
    }
   ],
   "source": [
    "@numba.jit(nopython=True)\n",
    "def tile_children(a,b,c,d):\n",
    "    '''\n",
    "    Split a tile into its four children\n",
    "    \n",
    "    Parameters\n",
    "    ----------\n",
    "    tile: (float, float, float, float)\n",
    "    '''\n",
    "    tile_width = c - a\n",
    "    tile_height = d - b\n",
    "    \n",
    "    return np.array([a, b, a + tile_width / 2, b + tile_height / 2,\n",
    "            a, b + tile_height / 2, a + tile_width / 2, d,\n",
    "           a + tile_width / 2, b, c, b + tile_height / 2,\n",
    "           a + tile_width / 2, b + tile_height / 2, c, d])\n",
    "        \n",
    "tile_children(0,0,1,1)\n"
   ]
  },
  {
   "cell_type": "code",
   "execution_count": 114,
   "metadata": {
    "collapsed": true
   },
   "outputs": [],
   "source": [
    "big_tile=[0,0,8,8]"
   ]
  },
  {
   "cell_type": "code",
   "execution_count": 115,
   "metadata": {},
   "outputs": [],
   "source": [
    "import math\n",
    "\n",
    "@numba.jit(nopython=True)\n",
    "def zindex_compare(a,b,tx0, ty0, tx1, ty1):\n",
    "    '''\n",
    "    Compare two points along z curve wihin the bounds of \n",
    "    the given tile.\n",
    "    \n",
    "    Parameters\n",
    "    ----------\n",
    "    a: (float, float)\n",
    "        Point 1\n",
    "    b: (float, float)\n",
    "        Point 2\n",
    "    tile: (float, float, float, float)\n",
    "        The bounds of the region in which we want to compare them\n",
    "    '''\n",
    "    #print(a, tile, in_tile(a,tile))\n",
    "    #print(\"a,b,tile\", a,b, tile)\n",
    "    # assert(in_tile(a,tile))\n",
    "    # assert(in_tile(b, tile))\n",
    "    \n",
    "    #print(\"comparing\", a, b)\n",
    "    \n",
    "    if a[0] == b[0] and a[1] == b[1]:\n",
    "        return 0\n",
    "    \n",
    "    tile_width = tx1 - tx0\n",
    "    tile_height = ty1 - ty0\n",
    "    \n",
    "    #children = tile_children(*tile)\n",
    "    \n",
    "    quadrant_a = (math.floor( 2 * (a[0] - tx0) / tile_width), \n",
    "                        math.floor( 2 * (a[1] - ty0) / tile_height))\n",
    "    quadrant_b = (math.floor( 2 * (b[0] - tx0) / tile_width), \n",
    "                        math.floor( 2 * (b[1] - ty0) / tile_height))\n",
    "    \n",
    "    if quadrant_a[0] == quadrant_b[0] and quadrant_a[1] == quadrant_b[1]:\n",
    "        #print(\"child_a\", child_a, \"child_b\", child_b)\n",
    "        x0 = tx0 + quadrant_a[0] * tile_width / 2\n",
    "        y0 = ty0 + quadrant_a[1] * tile_height / 2\n",
    "        \n",
    "        x1 = x0 + tile_width / 2\n",
    "        y1 = y0 + tile_width / 2\n",
    "        \n",
    "        return zindex_compare(a, b, x0,y0,x1,y1)\n",
    "    else:\n",
    "        xa = tx0 + quadrant_a[0] * tile_width / 2\n",
    "        ya = ty0 + quadrant_a[1] * tile_height / 2\n",
    "        \n",
    "        xb = tx0 + quadrant_b[0] * tile_width / 2\n",
    "        yb = ty0 + quadrant_b[1] * tile_height / 2\n",
    "        \n",
    "        return less_than(xa,ya,xb,yb)\n",
    "        #return less_than(child_a[:2], child_b[:2])\n",
    "        \n",
    "\n",
    "test_bounds = [0,0,2,2]\n",
    "new_points = [ [ 0.64297498,  0.53004252], [ 0.64344366,  0.52946568]]\n",
    "new_points_list = sorted(new_points, key=ft.cmp_to_key(lambda a,b: zindex_compare(a,b, *test_bounds)))\n",
    "\n",
    "assert(zindex_compare(np.array([2,2]), np.array([2,2]), 0,0,8,8) == 0)\n",
    "assert(zindex_compare(np.array([0,4]), np.array([3,4]), 0,0,8,8) == -1)\n",
    "assert(zindex_compare([6,4], [3,1], 0,0,8,8) == 1)\n",
    "assert(zindex_compare([3,1], [2,2], 0,0,8,8) == -1)\n",
    "assert(zindex_compare([2,2], [3,1], 0,0,8,8) == 1)\n",
    "assert(zindex_compare([7,1], [2,2], 0,0,8,8) == 1)\n",
    "assert(zindex_compare([2,2], [7,1], 0,0,8,8) == -1)"
   ]
  },
  {
   "cell_type": "code",
   "execution_count": 116,
   "metadata": {},
   "outputs": [
    {
     "name": "stdout",
     "output_type": "stream",
     "text": [
      "[[3, 1], [2, 2], [7, 1], [4, 2], [0, 4], [3, 4], [1, 6], [6, 4]]\n",
      "CPU times: user 305 µs, sys: 544 µs, total: 849 µs\n",
      "Wall time: 545 µs\n"
     ]
    }
   ],
   "source": [
    "%%time\n",
    "\n",
    "points_list = sorted([\n",
    "    [6,4],[7,1],[2,2],[3,1],[3,4],[0,4],[1,6],[4,2]\n",
    "], key=ft.cmp_to_key(lambda a,b: zindex_compare(a,b, 0,0,8,8)))\n",
    "\n",
    "print(points_list)"
   ]
  },
  {
   "cell_type": "code",
   "execution_count": 117,
   "metadata": {},
   "outputs": [
    {
     "name": "stdout",
     "output_type": "stream",
     "text": [
      "6\n",
      "7\n"
     ]
    }
   ],
   "source": [
    "def lower_bound(sequence, value, compare=None):\n",
    "    \"\"\"Find the index of the first element in sequence >= value\"\"\"\n",
    "    elements = len(sequence)\n",
    "    offset = 0\n",
    "    middle = 0\n",
    "    found = len(sequence)\n",
    " \n",
    "    while elements > 0:\n",
    "        middle = elements // 2\n",
    "        #print(\"middle:\", middle)\n",
    "        if compare(value, sequence[offset + middle]) > 0:\n",
    "            offset = offset + middle + 1\n",
    "            elements = elements - (middle + 1)\n",
    "        else:\n",
    "            found = offset + middle\n",
    "            elements = middle\n",
    "    return found\n",
    "\n",
    "def upper_bound(sequence, value, compare):\n",
    "    \"\"\"Find the index of the first element in sequence > value\"\"\"\n",
    "    elements = len(sequence)\n",
    "    offset = 0\n",
    "    middle = 0\n",
    "    found = 0\n",
    " \n",
    "    while elements > 0:\n",
    "        middle = elements // 2\n",
    "        if compare(value, sequence[offset + middle]) < 0:\n",
    "            elements = middle\n",
    "        else:\n",
    "            offset = offset + middle + 1\n",
    "            found = offset\n",
    "            elements = elements - (middle + 1)\n",
    "    return found\n",
    "\n",
    "print(lower_bound(points_list, [1,6], lambda a,b: zindex_compare(a,b, 0,0,8,8)))\n",
    "print(upper_bound(points_list, [1,6], lambda a,b: zindex_compare(a,b, 0,0,8,8)))"
   ]
  },
  {
   "cell_type": "code",
   "execution_count": 118,
   "metadata": {},
   "outputs": [
    {
     "data": {
      "text/plain": [
       "[[3, 1], [2, 2]]"
      ]
     },
     "execution_count": 118,
     "metadata": {},
     "output_type": "execute_result"
    }
   ],
   "source": [
    "def all_point_boundaries(points_list, tile, bounding_tile):\n",
    "    cmp = lambda a,b: zindex_compare(a,b, *bounding_tile)\n",
    "    \n",
    "    left_index = lower_bound(points_list, [tile[0], tile[1]], cmp)\n",
    "    right_index = lower_bound(points_list, [tile[2] - 0.000001, tile[3] - 0.000001], cmp)\n",
    "    #print(\"right_index\", right_index)\n",
    "    \n",
    "    return left_index, right_index\n",
    "\n",
    "def all_points(points_list, tile, bounding_tile):\n",
    "    '''\n",
    "    Return all points that are in the tile given tile\n",
    "    '''\n",
    "    left_index, right_index = all_point_boundaries(points_list, tile, bounding_tile)\n",
    "    \n",
    "    return points_list[left_index:right_index]\n",
    "\n",
    "all_points(points_list, [0.0, 0.0, 4.0, 4.0], big_tile)"
   ]
  },
  {
   "cell_type": "code",
   "execution_count": 119,
   "metadata": {},
   "outputs": [],
   "source": [
    "#all_points(points_list, [3.0, 1.9999999999999998, 3.0000000000000004, 2.0]"
   ]
  },
  {
   "cell_type": "code",
   "execution_count": 120,
   "metadata": {},
   "outputs": [],
   "source": [
    "def all_in(tile, rect):\n",
    "    '''\n",
    "    Is this tile completely enclosed in the rectangle:\n",
    "    \n",
    "    Parameters\n",
    "    ----------\n",
    "    tile: [float, float, float, float]\n",
    "        The xmin,ymin,xmax,ymax of the tile\n",
    "    rect: [float, float, float, float]\n",
    "        The xmin, ymin, xmas, ymax of the rectangle\n",
    "    '''\n",
    "    ret = (tile[0] >= rect[0] and\n",
    "            tile[1] >= rect[1] and \n",
    "            tile[2] <= rect[2] and\n",
    "            tile[3] <= rect[3])\n",
    "    #print(\"all_in:\", ret, tile, rect)\n",
    "    return ret\n",
    "\n",
    "def some_in(tile, rect):\n",
    "    '''\n",
    "    Is part of this tile within the rectangle?\n",
    "    \n",
    "    Parameters\n",
    "    ----------\n",
    "    tile: [float, float, float, float]\n",
    "        The xmin,ymin,xmax,ymax of the tile\n",
    "    rect: [float, float, float, float]\n",
    "        The xmin, ymin, xmas, ymax of the tile\n",
    "    '''\n",
    "    ret = (tile[0] < rect[2] and\n",
    "            tile[1] < rect[3] and \n",
    "            tile[2] > rect[0] and\n",
    "            tile[3] >= rect[1])\n",
    "    \n",
    "    #print(\"some_in\", ret)\n",
    "    return ret\n",
    "\n",
    "def get_points(points_list, rect, tile, bounding_tile):\n",
    "    '''\n",
    "    Get all the points in the tile that intersect the rectangle\n",
    "    \n",
    "    Parameters\n",
    "    ----------\n",
    "    rect: [float, float, float, float]\n",
    "        minx, miny, maxx, maxy\n",
    "    tile: [float, float, float, float]\n",
    "        minx, miny, maxx, maxy\n",
    "    '''\n",
    "    points = []\n",
    "    #print(\"tile:\", tile)\n",
    "    tiles_to_check = [tile]\n",
    "    \n",
    "    while len(tiles_to_check) > 0:\n",
    "        tile = tiles_to_check.pop()\n",
    "        \n",
    "        left_index, right_index = all_point_boundaries(points_list, tile, bounding_tile)\n",
    "    \n",
    "    \n",
    "        #if len(points_in_tile) == 0:\n",
    "        #    return []\n",
    "    \n",
    "        #print(\"tile:\", tile)\n",
    "        # points_in_tile\n",
    "        if left_index == right_index:\n",
    "            continue\n",
    "    \n",
    "        if not some_in(tile, rect):\n",
    "            # no intersection\n",
    "            continue\n",
    "            \n",
    "        if all_in(tile, rect):\n",
    "            #print(\"all points\", tile)\n",
    "            points += points_list[left_index:right_index]\n",
    "            continue\n",
    "    \n",
    "        for child in np.array(tile_children(*tile)).reshape((4,-1)):\n",
    "            tiles_to_check += [child]\n",
    "            #points += get_points(points_list, rect, child, bounding_tile) \n",
    "        \n",
    "    return points"
   ]
  },
  {
   "cell_type": "code",
   "execution_count": 121,
   "metadata": {},
   "outputs": [
    {
     "data": {
      "text/plain": [
       "[[3, 1], [2, 2]]"
      ]
     },
     "execution_count": 121,
     "metadata": {},
     "output_type": "execute_result"
    }
   ],
   "source": [
    "get_points(points_list, [0,0,4,4], [0,0,8,8], [0,0,16,16])"
   ]
  },
  {
   "cell_type": "code",
   "execution_count": 122,
   "metadata": {},
   "outputs": [
    {
     "data": {
      "text/plain": [
       "[[4, 2], [3, 4], [0, 4], [3, 1], [2, 2]]"
      ]
     },
     "execution_count": 122,
     "metadata": {},
     "output_type": "execute_result"
    }
   ],
   "source": [
    "get_points(points_list, [0,0,5,5], [0,0,8,8], [0,0,16,16])"
   ]
  },
  {
   "cell_type": "code",
   "execution_count": 123,
   "metadata": {},
   "outputs": [
    {
     "data": {
      "text/plain": [
       "[[7, 1], [3, 1]]"
      ]
     },
     "execution_count": 123,
     "metadata": {},
     "output_type": "execute_result"
    }
   ],
   "source": [
    "get_points(points_list, [0,0,8,1.5], [0,0,8,8], [0,0,16,16])"
   ]
  },
  {
   "cell_type": "code",
   "execution_count": 124,
   "metadata": {},
   "outputs": [],
   "source": [
    "new_points = [ [ 0.64297498,  0.53004252], [ 0.64344366,  0.52946568]]\n",
    "\n",
    "new_points_list = sorted(new_points, key=ft.cmp_to_key(lambda a,b: zindex_compare(a,b, *test_bounds)))"
   ]
  },
  {
   "cell_type": "code",
   "execution_count": 125,
   "metadata": {},
   "outputs": [
    {
     "data": {
      "text/plain": [
       "2"
      ]
     },
     "execution_count": 125,
     "metadata": {},
     "output_type": "execute_result"
    }
   ],
   "source": [
    "len(new_points_list)"
   ]
  },
  {
   "cell_type": "code",
   "execution_count": 133,
   "metadata": {},
   "outputs": [
    {
     "name": "stdout",
     "output_type": "stream",
     "text": [
      "CPU times: user 10.4 ms, sys: 3.45 ms, total: 13.9 ms\n",
      "Wall time: 12.9 ms\n",
      "CPU times: user 2.8 s, sys: 30.8 ms, total: 2.83 s\n",
      "Wall time: 2.86 s\n",
      "CPU times: user 5.6 s, sys: 50.5 ms, total: 5.65 s\n",
      "Wall time: 5.67 s\n"
     ]
    }
   ],
   "source": [
    "%time new_points = np.random.random((256000,2))\n",
    "%time sorted(new_points, key=ft.cmp_to_key(lambda a,b: a[0] - b[0]))\n",
    "test_bounds = [0,0,2,2]\n",
    "\n",
    "%time new_points_list = sorted(new_points, key=ft.cmp_to_key(ft.partial(zindex_compare,tx0= test_bounds[0],ty0=test_bounds[1], tx1=test_bounds[2], ty1=test_bounds[3])))"
   ]
  },
  {
   "cell_type": "code",
   "execution_count": 143,
   "metadata": {},
   "outputs": [
    {
     "ename": "KeyboardInterrupt",
     "evalue": "",
     "output_type": "error",
     "traceback": [
      "\u001b[0;31m---------------------------------------------------------------------------\u001b[0m",
      "\u001b[0;31mKeyboardInterrupt\u001b[0m                         Traceback (most recent call last)",
      "\u001b[0;32m<ipython-input-143-059e740ee9c9>\u001b[0m in \u001b[0;36m<module>\u001b[0;34m()\u001b[0m\n\u001b[1;32m     17\u001b[0m \u001b[0;34m\u001b[0m\u001b[0m\n\u001b[1;32m     18\u001b[0m \u001b[0;31m#%timeit run_query_z_index()\u001b[0m\u001b[0;34m\u001b[0m\u001b[0;34m\u001b[0m\u001b[0m\n\u001b[0;32m---> 19\u001b[0;31m \u001b[0mtimeit\u001b[0m\u001b[0;34m.\u001b[0m\u001b[0mtimeit\u001b[0m\u001b[0;34m(\u001b[0m\u001b[0mrun_query_z_index\u001b[0m\u001b[0;34m,\u001b[0m \u001b[0mnumber\u001b[0m\u001b[0;34m=\u001b[0m\u001b[0;36m1\u001b[0m\u001b[0;34m)\u001b[0m\u001b[0;34m\u001b[0m\u001b[0m\n\u001b[0m\u001b[1;32m     20\u001b[0m \u001b[0;31m#print(len(x), query_bounds)\u001b[0m\u001b[0;34m\u001b[0m\u001b[0;34m\u001b[0m\u001b[0m\n",
      "\u001b[0;32m~/miniconda3/envs/cenv3/lib/python3.6/timeit.py\u001b[0m in \u001b[0;36mtimeit\u001b[0;34m(stmt, setup, timer, number, globals)\u001b[0m\n\u001b[1;32m    231\u001b[0m            number=default_number, globals=None):\n\u001b[1;32m    232\u001b[0m     \u001b[0;34m\"\"\"Convenience function to create Timer object and call timeit method.\"\"\"\u001b[0m\u001b[0;34m\u001b[0m\u001b[0m\n\u001b[0;32m--> 233\u001b[0;31m     \u001b[0;32mreturn\u001b[0m \u001b[0mTimer\u001b[0m\u001b[0;34m(\u001b[0m\u001b[0mstmt\u001b[0m\u001b[0;34m,\u001b[0m \u001b[0msetup\u001b[0m\u001b[0;34m,\u001b[0m \u001b[0mtimer\u001b[0m\u001b[0;34m,\u001b[0m \u001b[0mglobals\u001b[0m\u001b[0;34m)\u001b[0m\u001b[0;34m.\u001b[0m\u001b[0mtimeit\u001b[0m\u001b[0;34m(\u001b[0m\u001b[0mnumber\u001b[0m\u001b[0;34m)\u001b[0m\u001b[0;34m\u001b[0m\u001b[0m\n\u001b[0m\u001b[1;32m    234\u001b[0m \u001b[0;34m\u001b[0m\u001b[0m\n\u001b[1;32m    235\u001b[0m def repeat(stmt=\"pass\", setup=\"pass\", timer=default_timer,\n",
      "\u001b[0;32m~/miniconda3/envs/cenv3/lib/python3.6/timeit.py\u001b[0m in \u001b[0;36mtimeit\u001b[0;34m(self, number)\u001b[0m\n\u001b[1;32m    176\u001b[0m         \u001b[0mgc\u001b[0m\u001b[0;34m.\u001b[0m\u001b[0mdisable\u001b[0m\u001b[0;34m(\u001b[0m\u001b[0;34m)\u001b[0m\u001b[0;34m\u001b[0m\u001b[0m\n\u001b[1;32m    177\u001b[0m         \u001b[0;32mtry\u001b[0m\u001b[0;34m:\u001b[0m\u001b[0;34m\u001b[0m\u001b[0m\n\u001b[0;32m--> 178\u001b[0;31m             \u001b[0mtiming\u001b[0m \u001b[0;34m=\u001b[0m \u001b[0mself\u001b[0m\u001b[0;34m.\u001b[0m\u001b[0minner\u001b[0m\u001b[0;34m(\u001b[0m\u001b[0mit\u001b[0m\u001b[0;34m,\u001b[0m \u001b[0mself\u001b[0m\u001b[0;34m.\u001b[0m\u001b[0mtimer\u001b[0m\u001b[0;34m)\u001b[0m\u001b[0;34m\u001b[0m\u001b[0m\n\u001b[0m\u001b[1;32m    179\u001b[0m         \u001b[0;32mfinally\u001b[0m\u001b[0;34m:\u001b[0m\u001b[0;34m\u001b[0m\u001b[0m\n\u001b[1;32m    180\u001b[0m             \u001b[0;32mif\u001b[0m \u001b[0mgcold\u001b[0m\u001b[0;34m:\u001b[0m\u001b[0;34m\u001b[0m\u001b[0m\n",
      "\u001b[0;32m~/miniconda3/envs/cenv3/lib/python3.6/timeit.py\u001b[0m in \u001b[0;36minner\u001b[0;34m(_it, _timer, _stmt)\u001b[0m\n",
      "\u001b[0;32m<ipython-input-143-059e740ee9c9>\u001b[0m in \u001b[0;36mrun_query_z_index\u001b[0;34m()\u001b[0m\n\u001b[1;32m     10\u001b[0m     \u001b[0mquery_bounds\u001b[0m \u001b[0;34m=\u001b[0m \u001b[0mmin_pos\u001b[0m \u001b[0;34m+\u001b[0m \u001b[0mmax_pos\u001b[0m\u001b[0;34m\u001b[0m\u001b[0m\n\u001b[1;32m     11\u001b[0m \u001b[0;34m\u001b[0m\u001b[0m\n\u001b[0;32m---> 12\u001b[0;31m     \u001b[0;32mreturn\u001b[0m \u001b[0mget_points\u001b[0m\u001b[0;34m(\u001b[0m\u001b[0mnew_points_list\u001b[0m\u001b[0;34m,\u001b[0m \u001b[0mquery_bounds\u001b[0m\u001b[0;34m,\u001b[0m \u001b[0mtest_bounds\u001b[0m\u001b[0;34m,\u001b[0m \u001b[0mtest_bounds\u001b[0m\u001b[0;34m)\u001b[0m\u001b[0;34m\u001b[0m\u001b[0m\n\u001b[0m\u001b[1;32m     13\u001b[0m \u001b[0;34m\u001b[0m\u001b[0m\n\u001b[1;32m     14\u001b[0m \u001b[0;31m#def naive_filter():\u001b[0m\u001b[0;34m\u001b[0m\u001b[0;34m\u001b[0m\u001b[0m\n",
      "\u001b[0;32m<ipython-input-120-5011c8715275>\u001b[0m in \u001b[0;36mget_points\u001b[0;34m(points_list, rect, tile, bounding_tile)\u001b[0m\n\u001b[1;32m     74\u001b[0m             \u001b[0;32mcontinue\u001b[0m\u001b[0;34m\u001b[0m\u001b[0m\n\u001b[1;32m     75\u001b[0m \u001b[0;34m\u001b[0m\u001b[0m\n\u001b[0;32m---> 76\u001b[0;31m         \u001b[0;32mfor\u001b[0m \u001b[0mchild\u001b[0m \u001b[0;32min\u001b[0m \u001b[0mnp\u001b[0m\u001b[0;34m.\u001b[0m\u001b[0marray\u001b[0m\u001b[0;34m(\u001b[0m\u001b[0mtile_children\u001b[0m\u001b[0;34m(\u001b[0m\u001b[0;34m*\u001b[0m\u001b[0mtile\u001b[0m\u001b[0;34m)\u001b[0m\u001b[0;34m)\u001b[0m\u001b[0;34m.\u001b[0m\u001b[0mreshape\u001b[0m\u001b[0;34m(\u001b[0m\u001b[0;34m(\u001b[0m\u001b[0;36m4\u001b[0m\u001b[0;34m,\u001b[0m\u001b[0;34m-\u001b[0m\u001b[0;36m1\u001b[0m\u001b[0;34m)\u001b[0m\u001b[0;34m)\u001b[0m\u001b[0;34m:\u001b[0m\u001b[0;34m\u001b[0m\u001b[0m\n\u001b[0m\u001b[1;32m     77\u001b[0m             \u001b[0mtiles_to_check\u001b[0m \u001b[0;34m+=\u001b[0m \u001b[0;34m[\u001b[0m\u001b[0mchild\u001b[0m\u001b[0;34m]\u001b[0m\u001b[0;34m\u001b[0m\u001b[0m\n\u001b[1;32m     78\u001b[0m             \u001b[0;31m#points += get_points(points_list, rect, child, bounding_tile)\u001b[0m\u001b[0;34m\u001b[0m\u001b[0;34m\u001b[0m\u001b[0m\n",
      "\u001b[0;31mKeyboardInterrupt\u001b[0m: "
     ]
    }
   ],
   "source": [
    "import random\n",
    "\n",
    "def run_query_z_index():\n",
    "    #print(query_bounds)\n",
    "    min_pos = [random.random(), random.random()]\n",
    "    a = 1 - min_pos[0]\n",
    "    b = 1 - min_pos[1]\n",
    "    max_pos = [min_pos[0] + a * random.random(), min_pos[1] + b * random.random()]\n",
    "    #print(min_pos, max_pos)\n",
    "    query_bounds = min_pos + max_pos\n",
    "    \n",
    "    return get_points(new_points_list, query_bounds, test_bounds, test_bounds)\n",
    "\n",
    "#def naive_filter():\n",
    "    \n",
    "import timeit\n",
    "\n",
    "#%timeit run_query_z_index()\n",
    "timeit.timeit(run_query_z_index, number=1)\n",
    "#print(len(x), query_bounds)"
   ]
  },
  {
   "cell_type": "code",
   "execution_count": 111,
   "metadata": {
    "collapsed": true
   },
   "outputs": [],
   "source": [
    "times = np.array([\n",
    "    [1000, 17, 14],\n",
    "    [2000, 29, 24],\n",
    "    [4000, 81, 35],\n",
    "    [8000, 144, 55],\n",
    "    [16000, 251, 102],\n",
    "    [32000, 525, 140],\n",
    "    [64000, 1140, 242],\n",
    "    [128000, 2600, 315],\n",
    "    [256000, 5690,  ],\n",
    "    [512000, ]\n",
    "])"
   ]
  },
  {
   "cell_type": "code",
   "execution_count": null,
   "metadata": {
    "collapsed": true
   },
   "outputs": [],
   "source": [
    "times1 = np.array([\n",
    "    [1000, 159, 118],\n",
    "    [2000, 374, 217],\n",
    "    [4000, 810, 281],\n",
    "    [8000, 1740, 462],\n",
    "    [16000, 3880, 1000],\n",
    "    [32000, 8810, 1350],\n",
    "    [64000, 19800, 1470],\n",
    "    [132000, 45000, 2830]\n",
    "])"
   ]
  },
  {
   "cell_type": "code",
   "execution_count": null,
   "metadata": {},
   "outputs": [],
   "source": [
    "import matplotlib.pyplot as plt\n",
    "plt.plot(times[:,1], times[:,2])"
   ]
  },
  {
   "cell_type": "code",
   "execution_count": null,
   "metadata": {},
   "outputs": [],
   "source": [
    "%timeit x(78,81)"
   ]
  },
  {
   "cell_type": "code",
   "execution_count": null,
   "metadata": {},
   "outputs": [],
   "source": [
    "%timeit add(78,81)"
   ]
  },
  {
   "cell_type": "code",
   "execution_count": null,
   "metadata": {},
   "outputs": [],
   "source": [
    "%timeit z(78, 81)"
   ]
  },
  {
   "cell_type": "code",
   "execution_count": null,
   "metadata": {
    "collapsed": true
   },
   "outputs": [],
   "source": []
  }
 ],
 "metadata": {
  "kernelspec": {
   "display_name": "Python 3",
   "language": "python",
   "name": "python3"
  },
  "language_info": {
   "codemirror_mode": {
    "name": "ipython",
    "version": 3
   },
   "file_extension": ".py",
   "mimetype": "text/x-python",
   "name": "python",
   "nbconvert_exporter": "python",
   "pygments_lexer": "ipython3",
   "version": "3.6.3"
  }
 },
 "nbformat": 4,
 "nbformat_minor": 2
}
