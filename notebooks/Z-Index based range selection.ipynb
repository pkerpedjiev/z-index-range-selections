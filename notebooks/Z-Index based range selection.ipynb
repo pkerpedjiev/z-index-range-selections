{
 "cells": [
  {
   "cell_type": "code",
   "execution_count": 1,
   "metadata": {
    "collapsed": true
   },
   "outputs": [],
   "source": [
    "%load_ext autoreload\n",
    "%autoreload 2"
   ]
  },
  {
   "cell_type": "code",
   "execution_count": 25,
   "metadata": {},
   "outputs": [
    {
     "name": "stdout",
     "output_type": "stream",
     "text": [
      "-------------\n"
     ]
    },
    {
     "data": {
      "text/plain": [
       "1"
      ]
     },
     "execution_count": 25,
     "metadata": {},
     "output_type": "execute_result"
    }
   ],
   "source": [
    "import numpy as np\n",
    "import functools as ft\n",
    "\n",
    "def less_than(a, b):\n",
    "    '''\n",
    "    Assuming a and b are on adjacent vertices of\n",
    "    a z-order curve, return -1 if a < b, 0 if\n",
    "    a == b and 1 if a > b\n",
    "    \n",
    "    Parameters\n",
    "    ----------\n",
    "    a: (float, float)\n",
    "        Point\n",
    "    b: (float, float)\n",
    "        Point\n",
    "    '''\n",
    "    \n",
    "    x = np.array(a)\n",
    "    y = np.array(b)\n",
    "        \n",
    "    ret = 1\n",
    "    \n",
    "    if a[0] == b[0] and a[1] == b[1]:\n",
    "        return 0\n",
    "    \n",
    "    if a[1] < b[1]:\n",
    "        ret = -1\n",
    "    else:\n",
    "        if a[0] < b[0]:\n",
    "            ret = -1\n",
    "    if a[1] > b[1]:\n",
    "        ret = 1\n",
    "    \n",
    "    #print(ret)\n",
    "    return ret\n",
    "    \n",
    "    print(a[1] < b[1], a[0] < b[0], a[1] > b[1], ret)\n",
    "    #return True if a[1] <= b[1] else a[0] <= b[0]\n",
    "    #print(a[1] <= b[1], a[0] <= b[0]\n",
    "    \n",
    "less_than([0,0], [0,1]) # -1 or True\n",
    "less_than([0,0], [1,0]) # -1 or True\n",
    "less_than([0,0], [1,1]) # -1 or True\n",
    "\n",
    "less_than([1,0], [0,1]) # -1 or True\n",
    "less_than([1,0], [1,1]) # -1 or True\n",
    "\n",
    "less_than([0,1], [1,1]) # -1 or True\n",
    "print(\"-------------\")\n",
    "\n",
    "less_than([0,1], [0,0]) #\n",
    "less_than([1,0], [0,0]) #\n",
    "less_than([1,1], [0,0]) #\n",
    "\n",
    "less_than([0,1], [1,0]) # False\n",
    "less_than([1,1], [1,0]) #\n",
    "\n",
    "less_than([1,1], [0,1]) #"
   ]
  },
  {
   "cell_type": "code",
   "execution_count": 26,
   "metadata": {},
   "outputs": [
    {
     "name": "stdout",
     "output_type": "stream",
     "text": [
      "True\n",
      "False\n",
      "False\n",
      "True\n"
     ]
    }
   ],
   "source": [
    "def in_tile(a, tile):\n",
    "    '''\n",
    "    Is a point in a tile\n",
    "    \n",
    "    Parameters\n",
    "    ----------\n",
    "    a: (float, float)\n",
    "    b: (float, float)\n",
    "    tile: (float, float, float, float)\n",
    "    '''\n",
    "    return a[0] >= tile[0] and a[1] >= tile[1] and a[0] <= tile[2] and a[1] <= tile[3]\n",
    "\n",
    "print(in_tile([1,1], [0,0,1,1]))\n",
    "print(in_tile([2,2], [0,0,1,1]))\n",
    "print(in_tile([-1,1], [0,0,1,1]))\n",
    "print(in_tile([0.5,0.5], [0,0,1,1]))"
   ]
  },
  {
   "cell_type": "code",
   "execution_count": 27,
   "metadata": {},
   "outputs": [
    {
     "data": {
      "text/plain": [
       "[[0, 0, 0.5, 0.5], [0, 0.5, 0.5, 1], [0.5, 0, 1, 0.5], [0.5, 0.5, 1, 1]]"
      ]
     },
     "execution_count": 27,
     "metadata": {},
     "output_type": "execute_result"
    }
   ],
   "source": [
    "def tile_children(tile):\n",
    "    '''\n",
    "    Split a tile into its four children\n",
    "    \n",
    "    Parameters\n",
    "    ----------\n",
    "    tile: (float, float, float, float)\n",
    "    '''\n",
    "    tile_width = tile[2] - tile[0]\n",
    "    tile_height = tile[3] - tile[1]\n",
    "    \n",
    "    return [\n",
    "        [tile[0], tile[1], tile[0] + tile_width / 2, tile[1] + tile_height / 2],\n",
    "        [tile[0], tile[1] + tile_height / 2, tile[0] + tile_width / 2, tile[3]],\n",
    "        [tile[0] + tile_width / 2, tile[1], tile[2], tile[1] + tile_height / 2],\n",
    "        [tile[0] + tile_width / 2, tile[1] + tile_height / 2, tile[2], tile[3]]\n",
    "    ]\n",
    "        \n",
    "tile_children([0,0,1,1])"
   ]
  },
  {
   "cell_type": "code",
   "execution_count": 28,
   "metadata": {},
   "outputs": [],
   "source": [
    "def zindex_compare(a,b,tile):\n",
    "    '''\n",
    "    Compare two points along z curve wihin the bounds of \n",
    "    the given tile.\n",
    "    \n",
    "    Parameters\n",
    "    ----------\n",
    "    a: (float, float)\n",
    "        Point 1\n",
    "    b: (float, float)\n",
    "        Point 2\n",
    "    tile: (float, float, float, float)\n",
    "        The bounds of the region in which we want to compare them\n",
    "    '''\n",
    "    #print(a, tile, in_tile(a,tile))\n",
    "    assert(in_tile(a,tile))\n",
    "    assert(in_tile(b, tile))\n",
    "    \n",
    "    children = tile_children(tile)\n",
    "    \n",
    "    for child in children:\n",
    "        #print(\"child:\", child)\n",
    "        \n",
    "        if in_tile(a, child):\n",
    "            child_a = child\n",
    "        if in_tile(b, child):\n",
    "            child_b = child\n",
    "            \n",
    "    if child_a == child_b:\n",
    "        #print(\"child_a\", child_a, \"child_b\", child_b)\n",
    "        return zindex_compare(a, b, child_a)\n",
    "    else:\n",
    "        return less_than(child_a[:2], child_b[:2])\n",
    "        \n",
    "\n",
    "assert(zindex_less_than([0,4], [3,4], [0,0,8,8]) == -1)\n",
    "assert(zindex_less_than([6,4], [3,1], [0,0,8,8]) == 1)\n",
    "assert(zindex_less_than([3,1], [2,2], [0,0,8,8]) == -1)\n",
    "assert(zindex_less_than([2,2], [3,1], [0,0,8,8]) == 1)\n",
    "assert(zindex_less_than([7,1], [2,2], [0,0,8,8]) == 1)\n",
    "assert(zindex_less_than([2,2], [7,1], [0,0,8,8]) == -1)"
   ]
  },
  {
   "cell_type": "code",
   "execution_count": 34,
   "metadata": {},
   "outputs": [
    {
     "name": "stdout",
     "output_type": "stream",
     "text": [
      "CPU times: user 192 µs, sys: 1 µs, total: 193 µs\n",
      "Wall time: 207 µs\n"
     ]
    },
    {
     "data": {
      "text/plain": [
       "[[3, 1], [2, 2], [7, 1], [4, 2], [0, 4], [3, 4], [1, 6], [6, 4]]"
      ]
     },
     "execution_count": 34,
     "metadata": {},
     "output_type": "execute_result"
    }
   ],
   "source": [
    "%%time\n",
    "\n",
    "sorted([\n",
    "    [6,4],[7,1],[2,2],[3,1],[3,4],[0,4],[1,6],[4,2]\n",
    "], key=ft.cmp_to_key(lambda a,b: zindex_less_than(a,b, [0,0,8,8])))"
   ]
  },
  {
   "cell_type": "code",
   "execution_count": null,
   "metadata": {
    "collapsed": true
   },
   "outputs": [],
   "source": [
    "def all_in()"
   ]
  }
 ],
 "metadata": {
  "kernelspec": {
   "display_name": "Python 3",
   "language": "python",
   "name": "python3"
  },
  "language_info": {
   "codemirror_mode": {
    "name": "ipython",
    "version": 3
   },
   "file_extension": ".py",
   "mimetype": "text/x-python",
   "name": "python",
   "nbconvert_exporter": "python",
   "pygments_lexer": "ipython3",
   "version": "3.6.3"
  }
 },
 "nbformat": 4,
 "nbformat_minor": 2
}
