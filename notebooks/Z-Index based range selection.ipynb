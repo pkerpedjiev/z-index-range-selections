{
 "cells": [
  {
   "cell_type": "code",
   "execution_count": 1,
   "metadata": {},
   "outputs": [],
   "source": [
    "%load_ext autoreload\n",
    "%autoreload 2\n",
    "\n",
    "%matplotlib inline"
   ]
  },
  {
   "cell_type": "code",
   "execution_count": 2,
   "metadata": {
    "collapsed": true
   },
   "outputs": [],
   "source": [
    "import zindex.zindex as zz"
   ]
  },
  {
   "cell_type": "code",
   "execution_count": 3,
   "metadata": {},
   "outputs": [
    {
     "name": "stdout",
     "output_type": "stream",
     "text": [
      "-------------\n"
     ]
    },
    {
     "data": {
      "text/plain": [
       "1"
      ]
     },
     "execution_count": 3,
     "metadata": {},
     "output_type": "execute_result"
    }
   ],
   "source": [
    "\n",
    "    \n",
    "    #print(a[1] < b[1], a[0] < b[0], a[1] > b[1], ret)\n",
    "    #return True if a[1] <= b[1] else a[0] <= b[0]\n",
    "    #print(a[1] <= b[1], a[0] <= b[0]\n",
    "    \n",
    "zz.less_than(0,0, 0,1) # -1 or True\n",
    "zz.less_than(0,0, 1,0) # -1 or True\n",
    "zz.less_than(0,0, 1,1) # -1 or True\n",
    "\n",
    "zz.less_than(1,0, 0,1) # -1 or True\n",
    "zz.less_than(1,0, 1,1) # -1 or True\n",
    "\n",
    "zz.less_than(0,1, 1,1) # -1 or True\n",
    "print(\"-------------\")\n",
    "\n",
    "zz.less_than(0,1, 0,0) #\n",
    "zz.less_than(1,0, 0,0) #\n",
    "zz.less_than(1,1, 0,0) #\n",
    "\n",
    "zz.less_than(0,1, 1,0) # False\n",
    "zz.less_than(1,1, 1,0) #\n",
    "\n",
    "zz.less_than(1,1, 0,1) #"
   ]
  },
  {
   "cell_type": "code",
   "execution_count": 9,
   "metadata": {},
   "outputs": [
    {
     "name": "stdout",
     "output_type": "stream",
     "text": [
      "[0.  0.  0.5 0.5 0.  0.5 0.5 1.  0.5 0.  1.  0.5 0.5 0.5 1.  1. ]\n",
      "CPU times: user 1.46 s, sys: 14.6 ms, total: 1.48 s\n",
      "Wall time: 1.48 s\n"
     ]
    }
   ],
   "source": [
    "%%time\n",
    "import functools as ft\n",
    "import numpy as np\n",
    "\n",
    "print(zz.tile_children(0,0,1,1))\n",
    "\n",
    "test_bounds = [0,0,2,2]\n",
    "new_points = [ [ 0.64297498,  0.53004252], [ 0.64344366,  0.52946568]]\n",
    "new_points_list = sorted(new_points, key=ft.cmp_to_key(lambda a,b: zz.zindex_compare(a,b, *test_bounds)))\n",
    "\n",
    "assert(zz.zindex_compare(np.array([2,2]), np.array([2,2]), 0,0,8,8) == 0)\n",
    "assert(zz.zindex_compare(np.array([0,4]), np.array([3,4]), 0,0,8,8) == -1)\n",
    "assert(zz.zindex_compare([6,4], [3,1], 0,0,8,8) == 1)\n",
    "assert(zz.zindex_compare([3,1], [2,2], 0,0,8,8) == -1)\n",
    "assert(zz.zindex_compare([2,2], [3,1], 0,0,8,8) == 1)\n",
    "assert(zz.zindex_compare([7,1], [2,2], 0,0,8,8) == 1)\n",
    "assert(zz.zindex_compare([2,2], [7,1], 0,0,8,8) == -1)"
   ]
  },
  {
   "cell_type": "code",
   "execution_count": 10,
   "metadata": {},
   "outputs": [
    {
     "name": "stdout",
     "output_type": "stream",
     "text": [
      "CPU times: user 275 µs, sys: 1e+03 ns, total: 276 µs\n",
      "Wall time: 279 µs\n"
     ]
    }
   ],
   "source": [
    "%%time \n",
    "\n",
    "points_list = sorted([\n",
    "    [6,4],[7,1],[2,2],[3,1],[3,4],[0,4],[1,6],[4,2]\n",
    "], key=ft.cmp_to_key(lambda a,b: zz.zindex_compare(a,b, 0,0,8,8)))"
   ]
  },
  {
   "cell_type": "code",
   "execution_count": 11,
   "metadata": {},
   "outputs": [
    {
     "name": "stdout",
     "output_type": "stream",
     "text": [
      "[[3, 1], [2, 2], [7, 1], [4, 2], [0, 4], [3, 4], [1, 6], [6, 4]]\n",
      "6\n",
      "7\n",
      "[[3, 1], [2, 2]]\n",
      "[[3, 1], [2, 2]]\n",
      "[[4, 2], [3, 4], [0, 4], [3, 1], [2, 2]]\n",
      "[[7, 1], [3, 1]]\n",
      "[[0.64344366, 0.52946568], [0.64297498, 0.53004252]]\n"
     ]
    }
   ],
   "source": [
    "\n",
    "big_tile=[0,0,8,8]\n",
    "print(points_list)\n",
    "\n",
    "print(zz.lower_bound(points_list, [1,6], lambda a,b: zz.zindex_compare(a,b, 0,0,8,8)))\n",
    "print(zz.upper_bound(points_list, [1,6], lambda a,b: zz.zindex_compare(a,b, 0,0,8,8)))\n",
    "print(zz.all_points(points_list, [0.0, 0.0, 4.0, 4.0], big_tile))\n",
    "\n",
    "print(zz.get_points(points_list, [0,0,4,4], [0,0,8,8], [0,0,16,16]))\n",
    "print(zz.get_points(points_list, [0,0,5,5], [0,0,8,8], [0,0,16,16]))\n",
    "print(zz.get_points(points_list, [0,0,8,1.5], [0,0,8,8], [0,0,16,16]))\n",
    "new_points = [ [ 0.64297498,  0.53004252], [ 0.64344366,  0.52946568]]\n",
    "\n",
    "new_points_list = sorted(new_points, key=ft.cmp_to_key(lambda a,b: zz.zindex_compare(a,b, *test_bounds)))\n",
    "print(new_points_list)"
   ]
  },
  {
   "cell_type": "code",
   "execution_count": 149,
   "metadata": {
    "collapsed": true
   },
   "outputs": [],
   "source": [
    "import random\n",
    "import zindex.zindex as zi\n",
    "\n",
    "def run_query_z_index(new_points_list):\n",
    "    #print(query_bounds)\n",
    "    min_pos = [random.random(), random.random()]\n",
    "    a = 1 - min_pos[0]\n",
    "    b = 1 - min_pos[1]\n",
    "    max_pos = [min_pos[0] + a * random.random(), min_pos[1] + b * random.random()]\n",
    "    #print(min_pos, max_pos)\n",
    "    query_bounds = min_pos + max_pos\n",
    "    \n",
    "    return zi.get_points(new_points_list, query_bounds, test_bounds, test_bounds)"
   ]
  },
  {
   "cell_type": "code",
   "execution_count": 166,
   "metadata": {},
   "outputs": [
    {
     "name": "stdout",
     "output_type": "stream",
     "text": [
      "[1000, 11.542081832885742, 59.702609095256776]\n",
      "[2000, 17.956972122192383, 102.60713669704273]\n",
      "[4000, 42.730093002319336, 205.06135880132206]\n",
      "[8000, 85.94584465026855, 247.39904389716685]\n",
      "[16000, 183.72392654418945, 381.3084511028137]\n",
      "times: [[1000, 11.542081832885742, 59.702609095256776], [2000, 17.956972122192383, 102.60713669704273], [4000, 42.730093002319336, 205.06135880132206], [8000, 85.94584465026855, 247.39904389716685], [16000, 183.72392654418945, 381.3084511028137]]\n"
     ]
    }
   ],
   "source": [
    "import time\n",
    "times = []\n",
    "\n",
    "for i in ([1000, 2000, 4000]):\n",
    "#for i in ([2048000, 4096000, 8192000, 16384000]):\n",
    "    new_points = np.random.random((i,2))\n",
    "    ts1 = time.time()\n",
    "    new_points_list = sorted(new_points, \n",
    "                              key=ft.cmp_to_key(\n",
    "                                  ft.partial(zz.zindex_compare,\n",
    "                                             tx0= test_bounds[0],\n",
    "                                             ty0=test_bounds[1], \n",
    "                                             tx1=test_bounds[2], \n",
    "                                             ty1=test_bounds[3])))\n",
    "    ts2 = time.time()\n",
    "    \n",
    "    t1 = ts2 - ts1\n",
    "    num = 20\n",
    "    t2 = timeit.timeit(lambda: run_query_z_index(new_points_list), number=num)\n",
    "    times += [[i, 1000 * t1, 1000 * t2 / num]]\n",
    "    print(times[-1])\n",
    "    \n",
    "print(\"times:\", times) "
   ]
  },
  {
   "cell_type": "code",
   "execution_count": 159,
   "metadata": {},
   "outputs": [],
   "source": [
    "times =  np.array([[1000, 9.168863296508789, 50.41221599676646],\n",
    "[2000, 16.98470115661621, 93.40575349633582],\n",
    "[4000, 36.752939224243164, 134.90044319769368],\n",
    "[8000, 90.03210067749023, 215.87846255279146],\n",
    "[16000, 181.4291477203369, 318.6693516501691],\n",
    "[32000, 403.6710262298584, 566.6372809500899],\n",
    "[64000, 885.6968879699707, 947.4282511975616],\n",
    "[128000, 1955.841064453125, 1438.8111696520355],\n",
    "[256000, 4423.8152503967285, 1898.9170490473043],\n",
    "[512000, 9313.93575668335, 2943.4117220458575],\n",
    "[1024000, 19957.006216049194, 3433.2461752987],\n",
    "[2048000, 42536.39817237854, 5050.250917550875],\n",
    "[4096000, 91611.70196533203, 7668.613841303159],               \n",
    "])"
   ]
  },
  {
   "cell_type": "code",
   "execution_count": 165,
   "metadata": {},
   "outputs": [
    {
     "data": {
      "text/plain": [
       "[<matplotlib.lines.Line2D at 0x1175ade10>]"
      ]
     },
     "execution_count": 165,
     "metadata": {},
     "output_type": "execute_result"
    },
    {
     "data": {
      "image/png": "[encoded data removed]",
      "text/plain": [
       "<matplotlib.figure.Figure at 0x1175435c0>"
      ]
     },
     "metadata": {},
     "output_type": "display_data"
    }
   ],
   "source": [
    "import matplotlib.pyplot as plt\n",
    "plt.plot(times[:,0], times[:,1])"
   ]
  },
  {
   "cell_type": "code",
   "execution_count": 82,
   "metadata": {},
   "outputs": [
    {
     "name": "stderr",
     "output_type": "stream",
     "text": [
      "/Users/peter/miniconda3/envs/cenv3/lib/python3.6/site-packages/ipykernel_launcher.py:1: DeprecationWarning: decodestring() is a deprecated alias since Python 3.1, use decodebytes()\n",
      "  \"\"\"Entry point for launching an IPython kernel.\n",
      "/Users/peter/miniconda3/envs/cenv3/lib/python3.6/site-packages/ipykernel_launcher.py:2: DeprecationWarning: decodestring() is a deprecated alias since Python 3.1, use decodebytes()\n",
      "  \n"
     ]
    },
    {
     "data": {
      "text/plain": [
       "array([0.84978676, 0.99374044, 0.84978676, 0.99374044])"
      ]
     },
     "execution_count": 82,
     "metadata": {},
     "output_type": "execute_result"
    }
   ],
   "source": [
    "rect=np.frombuffer(base64.decodestring(b'JHN5J0Z44j8PYCKBtAHvP7FAiVgJaO8/MR2NwbjM7z8='), dtype=np.float64)\n",
    "tile=np.frombuffer(base64.decodestring(b'qP///3Mx6z8wHY3BuMzvP6r///9zMes/Mh2NwbjM7z8='), dtype=np.float64)\n",
    " \n",
    "zz.tile_children(*tile).reshape((4,-1))[0]"
   ]
  },
  {
   "cell_type": "code",
   "execution_count": 94,
   "metadata": {},
   "outputs": [
    {
     "name": "stdout",
     "output_type": "stream",
     "text": [
      "0.8497867584228418\n",
      "0.9937404423043628\n",
      "0.8497867584228420\n",
      "0.9937404423043630\n",
      "--------------\n",
      "0.8497867584228418\n",
      "0.9937404423043628\n",
      "0.8497867584228419\n",
      "0.9937404423043629\n",
      "True\n",
      "0.8497867584228418\n",
      "0.9937404423043629\n",
      "0.8497867584228419\n",
      "0.9937404423043630\n",
      "True\n",
      "0.8497867584228419\n",
      "0.9937404423043628\n",
      "0.8497867584228420\n",
      "0.9937404423043629\n",
      "True\n",
      "0.8497867584228419\n",
      "0.9937404423043629\n",
      "0.8497867584228420\n",
      "0.9937404423043630\n",
      "True\n"
     ]
    }
   ],
   "source": [
    "for c in tile:\n",
    "    print('{0:.16f}'.format(c))  \n",
    "print('--------------')\n",
    "for child in zz.tile_children(*tile).reshape((4,-1)):\n",
    "    for c in child:\n",
    "        print('{0:.16f}'.format(c))\n",
    "    #print(\"child\", child, rect)\n",
    "    print(zz.all_in(child, rect))"
   ]
  },
  {
   "cell_type": "code",
   "execution_count": 90,
   "metadata": {},
   "outputs": [
    {
     "name": "stdout",
     "output_type": "stream",
     "text": [
      "ret1: False\n",
      "ret2: False\n"
     ]
    },
    {
     "data": {
      "text/plain": [
       "False"
      ]
     },
     "execution_count": 90,
     "metadata": {},
     "output_type": "execute_result"
    }
   ],
   "source": [
    "zz.all_in(tile, rect)"
   ]
  },
  {
   "cell_type": "code",
   "execution_count": null,
   "metadata": {
    "collapsed": true
   },
   "outputs": [],
   "source": [
    "times1 = np.array([\n",
    "    [1000, 159, 118],\n",
    "    [2000, 374, 217],\n",
    "    [4000, 810, 281],\n",
    "    [8000, 1740, 462],\n",
    "    [16000, 3880, 1000],\n",
    "    [32000, 8810, 1350],\n",
    "    [64000, 19800, 1470],\n",
    "    [132000, 45000, 2830]\n",
    "])"
   ]
  }
 ],
 "metadata": {
  "kernelspec": {
   "display_name": "Python 3",
   "language": "python",
   "name": "python3"
  },
  "language_info": {
   "codemirror_mode": {
    "name": "ipython",
    "version": 3
   },
   "file_extension": ".py",
   "mimetype": "text/x-python",
   "name": "python",
   "nbconvert_exporter": "python",
   "pygments_lexer": "ipython3",
   "version": "3.6.1"
  }
 },
 "nbformat": 4,
 "nbformat_minor": 2
}
