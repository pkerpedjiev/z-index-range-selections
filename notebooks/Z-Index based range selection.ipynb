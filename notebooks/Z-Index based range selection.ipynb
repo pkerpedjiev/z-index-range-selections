{
 "cells": [
  {
   "cell_type": "code",
   "execution_count": 1,
   "metadata": {},
   "outputs": [],
   "source": [
    "%load_ext autoreload\n",
    "%autoreload 2\n",
    "\n",
    "%matplotlib inline"
   ]
  },
  {
   "cell_type": "code",
   "execution_count": 2,
   "metadata": {
    "collapsed": true
   },
   "outputs": [],
   "source": [
    "import zindex.zindex as zz"
   ]
  },
  {
   "cell_type": "code",
   "execution_count": 3,
   "metadata": {
    "collapsed": true
   },
   "outputs": [],
   "source": [
    "import random\n",
    "import zindex.zindex as zi\n",
    "\n",
    "width = 100\n",
    "test_bounds = [0,0,width,width]\n",
    "\n",
    "def get_random_bounds():\n",
    "    min_pos = [random.random(), random.random()]\n",
    "    a = 1 - min_pos[0]\n",
    "    b = 1 - min_pos[1]\n",
    "    max_pos = [min_pos[0] + a * random.random(), min_pos[1] + b * random.random()]\n",
    "    #print(min_pos, max_pos)\n",
    "    query_bounds = min_pos + max_pos\n",
    "    return query_bounds\n",
    "    \n",
    "def run_query_z_index(new_points_list):\n",
    "    #print(query_bounds)\n",
    "    query_bounds = get_random_bounds()\n",
    "    \n",
    "    return zi.get_points(new_points_list, query_bounds, test_bounds, test_bounds)\n",
    "\n",
    "def run_query_filter(new_points_list):\n",
    "    query_bounds = get_random_bounds()\n",
    "    \n",
    "    x = new_points_list\n",
    "    \n",
    "    x = x[x[:,0] > query_bounds[0]]\n",
    "    x = x[x[:,1] > query_bounds[1]]\n",
    "    x = x[x[:,0] < query_bounds[2]]\n",
    "    x = x[x[:,1] < query_bounds[1]]\n",
    "    \n",
    "    return x"
   ]
  },
  {
   "cell_type": "code",
   "execution_count": 4,
   "metadata": {},
   "outputs": [
    {
     "name": "stdout",
     "output_type": "stream",
     "text": [
      "[1000, 2.249002456665039, 888.164758682251, 35.773487703409046, 0.05214140983298421]\n",
      "[2000, 0.031948089599609375, 13.3209228515625, 0.35292254760861397, 0.09375044610351324]\n",
      "[4000, 0.05316734313964844, 29.943227767944336, 0.35947549622505903, 0.15806545270606875]\n",
      "[8000, 0.09799003601074219, 68.44782829284668, 0.44762344332411885, 0.290718802716583]\n",
      "[16000, 0.4019737243652344, 145.01619338989258, 0.5350995459593832, 0.6628581089898944]\n",
      "[32000, 0.6163120269775391, 326.030969619751, 0.7009165943600237, 1.219102751929313]\n",
      "[64000, 1.1477470397949219, 711.2603187561035, 0.9363194927573204, 2.907755644991994]\n",
      "[128000, 2.579927444458008, 1647.5310325622559, 1.1395980487577617, 4.9903858453035355]\n",
      "[256000, 5.15294075012207, 3346.6131687164307, 1.3718685484491289, 10.712525248527527]\n",
      "[512000, 10.027885437011719, 7192.609071731567, 1.5939741977490485, 21.477403200697154]\n",
      "[1024000, 20.509004592895508, 15136.85417175293, 3.067282901611179, 45.88372650323436]\n"
     ]
    },
    {
     "ename": "KeyboardInterrupt",
     "evalue": "",
     "output_type": "error",
     "traceback": [
      "\u001b[0;31m---------------------------------------------------------------------------\u001b[0m",
      "\u001b[0;31mKeyboardInterrupt\u001b[0m                         Traceback (most recent call last)",
      "\u001b[0;32m<ipython-input-4-f089a603e0cd>\u001b[0m in \u001b[0;36m<module>\u001b[0;34m()\u001b[0m\n\u001b[1;32m     10\u001b[0m     \u001b[0mnew_points\u001b[0m \u001b[0;34m=\u001b[0m \u001b[0;36m100\u001b[0m \u001b[0;34m*\u001b[0m \u001b[0mnp\u001b[0m\u001b[0;34m.\u001b[0m\u001b[0mrandom\u001b[0m\u001b[0;34m.\u001b[0m\u001b[0mrandom\u001b[0m\u001b[0;34m(\u001b[0m\u001b[0;34m(\u001b[0m\u001b[0mi\u001b[0m\u001b[0;34m,\u001b[0m\u001b[0;36m2\u001b[0m\u001b[0;34m)\u001b[0m\u001b[0;34m)\u001b[0m\u001b[0;34m\u001b[0m\u001b[0m\n\u001b[1;32m     11\u001b[0m     \u001b[0mts1\u001b[0m \u001b[0;34m=\u001b[0m \u001b[0mtime\u001b[0m\u001b[0;34m.\u001b[0m\u001b[0mtime\u001b[0m\u001b[0;34m(\u001b[0m\u001b[0;34m)\u001b[0m\u001b[0;34m\u001b[0m\u001b[0m\n\u001b[0;32m---> 12\u001b[0;31m     \u001b[0mnew_points_list\u001b[0m \u001b[0;34m=\u001b[0m \u001b[0mzz\u001b[0m\u001b[0;34m.\u001b[0m\u001b[0mzindex_sort\u001b[0m\u001b[0;34m(\u001b[0m\u001b[0mnew_points\u001b[0m\u001b[0;34m,\u001b[0m \u001b[0mtest_bounds\u001b[0m\u001b[0;34m)\u001b[0m\u001b[0;34m\u001b[0m\u001b[0m\n\u001b[0m\u001b[1;32m     13\u001b[0m     \u001b[0mts2\u001b[0m \u001b[0;34m=\u001b[0m \u001b[0mtime\u001b[0m\u001b[0;34m.\u001b[0m\u001b[0mtime\u001b[0m\u001b[0;34m(\u001b[0m\u001b[0;34m)\u001b[0m\u001b[0;34m\u001b[0m\u001b[0m\n\u001b[1;32m     14\u001b[0m     \u001b[0mt1\u001b[0m \u001b[0;34m=\u001b[0m \u001b[0mts2\u001b[0m \u001b[0;34m-\u001b[0m \u001b[0mts1\u001b[0m\u001b[0;34m\u001b[0m\u001b[0m\n",
      "\u001b[0;32m~/projects/z-index-range-selections/zindex/zindex.py\u001b[0m in \u001b[0;36mzindex_sort\u001b[0;34m(points, bounds)\u001b[0m\n\u001b[1;32m    395\u001b[0m     return quicksort_zindex(points.reshape((-1,)), \n\u001b[1;32m    396\u001b[0m                                    \u001b[0;36m0\u001b[0m\u001b[0;34m,\u001b[0m \u001b[0mlen\u001b[0m\u001b[0;34m(\u001b[0m\u001b[0mpoints\u001b[0m\u001b[0;34m)\u001b[0m\u001b[0;34m,\u001b[0m\u001b[0;34m\u001b[0m\u001b[0m\n\u001b[0;32m--> 397\u001b[0;31m                                    *bounds).reshape((-1,2))\n\u001b[0m\u001b[1;32m    398\u001b[0m \u001b[0;34m\u001b[0m\u001b[0m\n\u001b[1;32m    399\u001b[0m \u001b[0;34m\u001b[0m\u001b[0m\n",
      "\u001b[0;31mKeyboardInterrupt\u001b[0m: "
     ]
    }
   ],
   "source": [
    "import numpy as np\n",
    "import time\n",
    "import timeit\n",
    "times = []\n",
    "\n",
    "for i in ([1000, 2000, 4000, 8000, 16000, 32000, 64000, 128000, \n",
    "           256000, 512000, 1024000, 2048000, 4096000,\n",
    "          8192000, 16384000, 32768000, 65536000, 131072000]):\n",
    "#for i in ([2048000, 4096000, 8192000, 16384000]):\n",
    "    new_points = 100 * np.random.random((i,2))\n",
    "    ts1 = time.time()\n",
    "    new_points_list = zz.zindex_sort(new_points, test_bounds)\n",
    "    ts2 = time.time()\n",
    "    t1 = ts2 - ts1\n",
    "\n",
    "    new_points_copy = np.copy(new_points)\n",
    "    ts1 = time.time()\n",
    "    np.sort(new_points_copy)\n",
    "    ts2 = time.time()\n",
    "    t0 = ts2 - ts1\n",
    "    \n",
    "    num = 20\n",
    "    t2 = timeit.timeit(lambda: run_query_z_index(new_points_list), number=num)\n",
    "    t3 = timeit.timeit(lambda: run_query_filter(new_points_list), number=num)\n",
    "    times += [[i, 1000 * t0, 1000 * t1, 1000 * t2 / num, 1000 * t3 / num]]\n",
    "    print(times[-1])\n",
    "    \n",
    "print(\"times:\", times) "
   ]
  },
  {
   "cell_type": "markdown",
   "metadata": {},
   "source": [
    "## Detritus"
   ]
  },
  {
   "cell_type": "code",
   "execution_count": 3,
   "metadata": {},
   "outputs": [
    {
     "name": "stdout",
     "output_type": "stream",
     "text": [
      "-------------\n"
     ]
    },
    {
     "data": {
      "text/plain": [
       "1"
      ]
     },
     "execution_count": 3,
     "metadata": {},
     "output_type": "execute_result"
    }
   ],
   "source": [
    "\n",
    "    \n",
    "    #print(a[1] < b[1], a[0] < b[0], a[1] > b[1], ret)\n",
    "    #return True if a[1] <= b[1] else a[0] <= b[0]\n",
    "    #print(a[1] <= b[1], a[0] <= b[0]\n",
    "    \n",
    "zz.less_than(0,0, 0,1) # -1 or True\n",
    "zz.less_than(0,0, 1,0) # -1 or True\n",
    "zz.less_than(0,0, 1,1) # -1 or True\n",
    "\n",
    "zz.less_than(1,0, 0,1) # -1 or True\n",
    "zz.less_than(1,0, 1,1) # -1 or True\n",
    "\n",
    "zz.less_than(0,1, 1,1) # -1 or True\n",
    "print(\"-------------\")\n",
    "\n",
    "zz.less_than(0,1, 0,0) #\n",
    "zz.less_than(1,0, 0,0) #\n",
    "zz.less_than(1,1, 0,0) #\n",
    "\n",
    "zz.less_than(0,1, 1,0) # False\n",
    "zz.less_than(1,1, 1,0) #\n",
    "\n",
    "zz.less_than(1,1, 0,1) #"
   ]
  },
  {
   "cell_type": "code",
   "execution_count": 4,
   "metadata": {},
   "outputs": [
    {
     "name": "stdout",
     "output_type": "stream",
     "text": [
      "[0.  0.  0.5 0.5 0.  0.5 0.5 1.  0.5 0.  1.  0.5 0.5 0.5 1.  1. ]\n",
      "CPU times: user 1.46 s, sys: 21.2 ms, total: 1.48 s\n",
      "Wall time: 1.48 s\n"
     ]
    }
   ],
   "source": [
    "%%time\n",
    "import functools as ft\n",
    "import numpy as np\n",
    "\n",
    "print(zz.tile_children(0,0,1,1))\n",
    "\n",
    "test_bounds = [0,0,2,2]\n",
    "new_points = [ [ 0.64297498,  0.53004252], [ 0.64344366,  0.52946568]]\n",
    "new_points_list = sorted(new_points, key=ft.cmp_to_key(lambda a,b: zz.zindex_compare(a,b, *test_bounds)))\n",
    "\n",
    "assert(zz.zindex_compare(np.array([2,2]), np.array([2,2]), 0,0,8,8) == 0)\n",
    "assert(zz.zindex_compare(np.array([0,4]), np.array([3,4]), 0,0,8,8) == -1)\n",
    "assert(zz.zindex_compare([6,4], [3,1], 0,0,8,8) == 1)\n",
    "assert(zz.zindex_compare([3,1], [2,2], 0,0,8,8) == -1)\n",
    "assert(zz.zindex_compare([2,2], [3,1], 0,0,8,8) == 1)\n",
    "assert(zz.zindex_compare([7,1], [2,2], 0,0,8,8) == 1)\n",
    "assert(zz.zindex_compare([2,2], [7,1], 0,0,8,8) == -1)"
   ]
  },
  {
   "cell_type": "code",
   "execution_count": 63,
   "metadata": {},
   "outputs": [
    {
     "data": {
      "text/plain": [
       "array([6, 4, 7, 1, 2, 2, 3, 1, 3, 4, 0, 4, 1, 6, 4, 2])"
      ]
     },
     "execution_count": 63,
     "metadata": {},
     "output_type": "execute_result"
    }
   ],
   "source": [
    "unordered_points = np.array([\n",
    "    [6,4],[7,1],[2,2],[3,1],[3,4],[0,4],[1,6],[4,2]\n",
    "])\n",
    "\n",
    "np.reshape(unordered_points, (-1,))"
   ]
  },
  {
   "cell_type": "code",
   "execution_count": 64,
   "metadata": {},
   "outputs": [
    {
     "name": "stdout",
     "output_type": "stream",
     "text": [
      "[[3 1]\n",
      " [2 2]\n",
      " [7 1]\n",
      " [4 2]\n",
      " [0 4]\n",
      " [3 4]\n",
      " [1 6]\n",
      " [6 4]]\n",
      "CPU times: user 420 µs, sys: 177 µs, total: 597 µs\n",
      "Wall time: 443 µs\n"
     ]
    }
   ],
   "source": [
    "%%time \n",
    "\n",
    "points_list = np.array(sorted(np.copy(unordered_points), \n",
    "                              key=ft.cmp_to_key(lambda a,b: zz.zindex_compare(a,b, *[0,0,8,8]))))\n",
    "print(points_list)"
   ]
  },
  {
   "cell_type": "code",
   "execution_count": 72,
   "metadata": {},
   "outputs": [
    {
     "name": "stdout",
     "output_type": "stream",
     "text": [
      "[[3 1]\n",
      " [2 2]\n",
      " [7 1]\n",
      " [4 2]\n",
      " [0 4]\n",
      " [3 4]\n",
      " [1 6]\n",
      " [6 4]]\n",
      "CPU times: user 513 µs, sys: 198 µs, total: 711 µs\n",
      "Wall time: 573 µs\n"
     ]
    }
   ],
   "source": [
    "%%time\n",
    "\n",
    "points_list1 = zz.zindex_sort(np.copy(unordered_points), [0,0,8,8])\n",
    "print(points_list1)"
   ]
  },
  {
   "cell_type": "code",
   "execution_count": 73,
   "metadata": {},
   "outputs": [],
   "source": [
    "unordered_points = np.random.random((4000,2))\n",
    "\n"
   ]
  },
  {
   "cell_type": "code",
   "execution_count": 56,
   "metadata": {},
   "outputs": [
    {
     "name": "stdout",
     "output_type": "stream",
     "text": [
      "CPU times: user 40.5 ms, sys: 828 µs, total: 41.3 ms\n",
      "Wall time: 41.6 ms\n"
     ]
    }
   ],
   "source": [
    "%%time \n",
    "\n",
    "expanded_points = np.copy(unordered_points).reshape((-1,))\n",
    "points_list1 = zz.quicksort_zindex(expanded_points, \n",
    "                                   0, len(unordered_points), \n",
    "                                   *[0,0,8,8]).reshape((-1,2))"
   ]
  },
  {
   "cell_type": "code",
   "execution_count": 57,
   "metadata": {},
   "outputs": [
    {
     "name": "stdout",
     "output_type": "stream",
     "text": [
      "CPU times: user 51.6 ms, sys: 2.52 ms, total: 54.1 ms\n",
      "Wall time: 53.2 ms\n"
     ]
    }
   ],
   "source": [
    "%%time \n",
    "\n",
    "points_list = np.array(sorted(np.copy(unordered_points), \n",
    "                              key=ft.cmp_to_key(lambda a,b: zz.zindex_compare(a,b, *[0,0,8,8]))))\n",
    "\n"
   ]
  },
  {
   "cell_type": "code",
   "execution_count": 58,
   "metadata": {},
   "outputs": [
    {
     "data": {
      "text/plain": [
       "[[1, 2], [9, 10], [5, 6], [3, 4]]"
      ]
     },
     "execution_count": 58,
     "metadata": {},
     "output_type": "execute_result"
    }
   ],
   "source": [
    "a = [[1,2],[3,4],[5,6],[7,8]]\n",
    "\n",
    "a[3] = a[1]\n",
    "a[1] = [9,10]\n",
    "a"
   ]
  },
  {
   "cell_type": "code",
   "execution_count": 66,
   "metadata": {},
   "outputs": [
    {
     "data": {
      "text/plain": [
       "'\\nbig_tile=[0,0,8,8]\\nprint(points_list)\\nprint(zz.lower_bound(np.array(points_list), np.array([1,6]), 0,0,8,8))\\n\\nprint(zz.upper_bound(np.array(points_list), np.array([1,6]), 0,0,8,8))\\nprint(zz.all_points(points_list, [0.0, 0.0, 4.0, 4.0], big_tile))\\n\\nprint(zz.get_points(points_list, [0,0,4,4], [0,0,8.,8.], [0,0,16,16]))\\nprint(zz.get_points(points_list, [0,0,5,5], [0,0,8.,8.], [0,0,16,16]))\\nprint(zz.get_points(points_list, [0.,0.,8.,1.5], [0.,0.,8.,8.], [0.,0.,16.,16.]))\\nnew_points = np.array([ [ 0.64297498,  0.53004252], [ 0.64344366,  0.52946568]])\\n\\nnew_points_list1 = zz.quicksort_zindex(new_points, 0, len(new_points)-1, *test_bounds)\\nnew_points_list2 = sorted(new_points, key=ft.cmp_to_key(lambda a,b: zz.zindex_compare(a,b, *test_bounds)))\\n'"
      ]
     },
     "execution_count": 66,
     "metadata": {},
     "output_type": "execute_result"
    }
   ],
   "source": [
    "\n",
    "\"\"\"\n",
    "big_tile=[0,0,8,8]\n",
    "print(points_list)\n",
    "print(zz.lower_bound(np.array(points_list), np.array([1,6]), 0,0,8,8))\n",
    "\n",
    "print(zz.upper_bound(np.array(points_list), np.array([1,6]), 0,0,8,8))\n",
    "print(zz.all_points(points_list, [0.0, 0.0, 4.0, 4.0], big_tile))\n",
    "\n",
    "print(zz.get_points(points_list, [0,0,4,4], [0,0,8.,8.], [0,0,16,16]))\n",
    "print(zz.get_points(points_list, [0,0,5,5], [0,0,8.,8.], [0,0,16,16]))\n",
    "print(zz.get_points(points_list, [0.,0.,8.,1.5], [0.,0.,8.,8.], [0.,0.,16.,16.]))\n",
    "new_points = np.array([ [ 0.64297498,  0.53004252], [ 0.64344366,  0.52946568]])\n",
    "\n",
    "new_points_list1 = zz.quicksort_zindex(new_points, 0, len(new_points)-1, *test_bounds)\n",
    "new_points_list2 = sorted(new_points, key=ft.cmp_to_key(lambda a,b: zz.zindex_compare(a,b, *test_bounds)))\n",
    "\"\"\"\n",
    "#print(new_points_list)"
   ]
  },
  {
   "cell_type": "code",
   "execution_count": 79,
   "metadata": {
    "collapsed": true
   },
   "outputs": [],
   "source": [
    "import random\n",
    "import zindex.zindex as zi\n",
    "\n",
    "width = 100\n",
    "test_bounds = [0,0,width,width]\n",
    "\n",
    "def get_random_bounds():\n",
    "    min_pos = [random.random(), random.random()]\n",
    "    a = 1 - min_pos[0]\n",
    "    b = 1 - min_pos[1]\n",
    "    max_pos = [min_pos[0] + a * random.random(), min_pos[1] + b * random.random()]\n",
    "    #print(min_pos, max_pos)\n",
    "    query_bounds = min_pos + max_pos\n",
    "    return query_bounds\n",
    "    \n",
    "def run_query_z_index(new_points_list):\n",
    "    #print(query_bounds)\n",
    "    query_bounds = get_random_bounds()\n",
    "    \n",
    "    return zi.get_points(new_points_list, query_bounds, test_bounds, test_bounds)\n",
    "\n",
    "def run_query_filter(new_points_list):\n",
    "    query_bounds = get_random_bounds()\n",
    "    \n",
    "    x = new_points_list\n",
    "    \n",
    "    x = x[x[:,0] > query_bounds[0]]\n",
    "    x = x[x[:,1] > query_bounds[1]]\n",
    "    x = x[x[:,0] < query_bounds[2]]\n",
    "    x = x[x[:,1] < query_bounds[1]]\n",
    "    \n",
    "    return x"
   ]
  },
  {
   "cell_type": "code",
   "execution_count": 88,
   "metadata": {},
   "outputs": [
    {
     "name": "stdout",
     "output_type": "stream",
     "text": [
      "[1000, 12.845754623413086, 0.050030346028506756, 0.11947890743613243]\n",
      "[2000, 13.593673706054688, 0.054146908223629, 0.09248870192095637]\n",
      "[4000, 32.32598304748535, 0.31762439757585526, 0.2326757530681789]\n",
      "[8000, 62.39724159240723, 0.057877355720847845, 0.29814474983140826]\n",
      "[16000, 128.01408767700195, 0.18645740346983075, 0.7739907945506275]\n",
      "[32000, 286.3619327545166, 0.37012904649600387, 1.3291987008415163]\n",
      "[64000, 634.7901821136475, 0.3314267029054463, 3.286579600535333]\n",
      "[128000, 1337.968111038208, 0.35391999408602715, 5.5846595438197255]\n",
      "[256000, 2874.2218017578125, 0.7159242988564074, 11.73308469587937]\n",
      "[512000, 5767.416954040527, 0.6679147481918335, 22.836200310848653]\n",
      "[1024000, 12900.49695968628, 1.5442186500877142, 49.07309775007889]\n",
      "[2048000, 28464.2550945282, 3.0788553529419005, 103.21310785366222]\n"
     ]
    },
    {
     "ename": "KeyboardInterrupt",
     "evalue": "",
     "output_type": "error",
     "traceback": [
      "\u001b[0;31m---------------------------------------------------------------------------\u001b[0m",
      "\u001b[0;31mKeyboardInterrupt\u001b[0m                         Traceback (most recent call last)",
      "\u001b[0;32m<ipython-input-88-5d1e7cc3efa7>\u001b[0m in \u001b[0;36m<module>\u001b[0;34m()\u001b[0m\n\u001b[1;32m      9\u001b[0m     \u001b[0mnew_points\u001b[0m \u001b[0;34m=\u001b[0m \u001b[0;36m100\u001b[0m \u001b[0;34m*\u001b[0m \u001b[0mnp\u001b[0m\u001b[0;34m.\u001b[0m\u001b[0mrandom\u001b[0m\u001b[0;34m.\u001b[0m\u001b[0mrandom\u001b[0m\u001b[0;34m(\u001b[0m\u001b[0;34m(\u001b[0m\u001b[0mi\u001b[0m\u001b[0;34m,\u001b[0m\u001b[0;36m2\u001b[0m\u001b[0;34m)\u001b[0m\u001b[0;34m)\u001b[0m\u001b[0;34m\u001b[0m\u001b[0m\n\u001b[1;32m     10\u001b[0m     \u001b[0mts1\u001b[0m \u001b[0;34m=\u001b[0m \u001b[0mtime\u001b[0m\u001b[0;34m.\u001b[0m\u001b[0mtime\u001b[0m\u001b[0;34m(\u001b[0m\u001b[0;34m)\u001b[0m\u001b[0;34m\u001b[0m\u001b[0m\n\u001b[0;32m---> 11\u001b[0;31m     \u001b[0mnew_points_list\u001b[0m \u001b[0;34m=\u001b[0m \u001b[0mzz\u001b[0m\u001b[0;34m.\u001b[0m\u001b[0mzindex_sort\u001b[0m\u001b[0;34m(\u001b[0m\u001b[0mnew_points\u001b[0m\u001b[0;34m,\u001b[0m \u001b[0mtest_bounds\u001b[0m\u001b[0;34m)\u001b[0m\u001b[0;34m\u001b[0m\u001b[0m\n\u001b[0m\u001b[1;32m     12\u001b[0m     \u001b[0mts2\u001b[0m \u001b[0;34m=\u001b[0m \u001b[0mtime\u001b[0m\u001b[0;34m.\u001b[0m\u001b[0mtime\u001b[0m\u001b[0;34m(\u001b[0m\u001b[0;34m)\u001b[0m\u001b[0;34m\u001b[0m\u001b[0m\n\u001b[1;32m     13\u001b[0m \u001b[0;34m\u001b[0m\u001b[0m\n",
      "\u001b[0;32m~/projects/z-index-range-selections/zindex/zindex.py\u001b[0m in \u001b[0;36mzindex_sort\u001b[0;34m(points, bounds)\u001b[0m\n\u001b[1;32m    395\u001b[0m     return quicksort_zindex(points.reshape((-1,)), \n\u001b[1;32m    396\u001b[0m                                    \u001b[0;36m0\u001b[0m\u001b[0;34m,\u001b[0m \u001b[0mlen\u001b[0m\u001b[0;34m(\u001b[0m\u001b[0mpoints\u001b[0m\u001b[0;34m)\u001b[0m\u001b[0;34m,\u001b[0m\u001b[0;34m\u001b[0m\u001b[0m\n\u001b[0;32m--> 397\u001b[0;31m                                    *bounds).reshape((-1,2))\n\u001b[0m\u001b[1;32m    398\u001b[0m \u001b[0;34m\u001b[0m\u001b[0m\n\u001b[1;32m    399\u001b[0m \u001b[0;34m\u001b[0m\u001b[0m\n",
      "\u001b[0;31mKeyboardInterrupt\u001b[0m: "
     ]
    }
   ],
   "source": [
    "import time\n",
    "import timeit\n",
    "times = []\n",
    "\n",
    "for i in ([1000, 2000, 4000, 8000, 16000, 32000, 64000, 128000, \n",
    "           256000, 512000, 1024000, 2048000, 4096000,\n",
    "          8192000, 16384000, 32768000, 65536000, 131072000]):\n",
    "#for i in ([2048000, 4096000, 8192000, 16384000]):\n",
    "    new_points = 100 * np.random.random((i,2))\n",
    "    ts1 = time.time()\n",
    "    new_points_list = zz.zindex_sort(new_points, test_bounds)\n",
    "    ts2 = time.time()\n",
    "    \n",
    "    t1 = ts2 - ts1\n",
    "    num = 20\n",
    "    t2 = timeit.timeit(lambda: run_query_z_index(new_points_list), number=num)\n",
    "    t3 = timeit.timeit(lambda: run_query_filter(new_points_list), number=num)\n",
    "    times += [[i, 1000 * t1, 1000 * t2 / num, 1000 * t3 / num]]\n",
    "    print(times[-1])\n",
    "    \n",
    "print(\"times:\", times) "
   ]
  },
  {
   "cell_type": "code",
   "execution_count": null,
   "metadata": {
    "collapsed": true
   },
   "outputs": [],
   "source": [
    "# JIT compiled get_points function and quicksort function\n",
    "[[1000, 8.343696594238281, 5.857501155696809],\n",
    "[2000, 14.657974243164062, 8.73991585103795],\n",
    "[4000, 32.17267990112305, 9.934303304180503],\n",
    "[8000, 66.30706787109375, 19.047390355262905],\n",
    "[16000, 150.0110626220703, 22.90619524428621],\n",
    "[32000, 338.67597579956055, 29.36189044266939],\n",
    "[64000, 699.23996925354, 46.52934119803831],\n",
    "[128000, 1630.383014678955, 81.52290630387142],\n",
    "[256000, 3382.7571868896484, 121.25531400088221],\n",
    "[512000, 7451.72905921936, 165.87364844745025],\n",
    "[1024000, 16158.413648605347, 201.22555199777707],\n",
    "[2048000, 34105.74817657471, 451.70394025044516],\n",
    "[4096000, 71596.06003761292, 501.6868827515282]]"
   ]
  },
  {
   "cell_type": "code",
   "execution_count": 159,
   "metadata": {},
   "outputs": [],
   "source": [
    "#Naive, JIT compiled\n",
    "\n",
    "times =  np.array([[1000, 9.168863296508789, 50.41221599676646],\n",
    "[2000, 16.98470115661621, 93.40575349633582],\n",
    "[4000, 36.752939224243164, 134.90044319769368],\n",
    "[8000, 90.03210067749023, 215.87846255279146],\n",
    "[16000, 181.4291477203369, 318.6693516501691],\n",
    "[32000, 403.6710262298584, 566.6372809500899],\n",
    "[64000, 885.6968879699707, 947.4282511975616],\n",
    "[128000, 1955.841064453125, 1438.8111696520355],\n",
    "[256000, 4423.8152503967285, 1898.9170490473043],\n",
    "[512000, 9313.93575668335, 2943.4117220458575],\n",
    "[1024000, 19957.006216049194, 3433.2461752987],\n",
    "[2048000, 42536.39817237854, 5050.250917550875],\n",
    "[4096000, 91611.70196533203, 7668.613841303159],               \n",
    "])"
   ]
  },
  {
   "cell_type": "code",
   "execution_count": null,
   "metadata": {
    "collapsed": true
   },
   "outputs": [],
   "source": []
  },
  {
   "cell_type": "code",
   "execution_count": 83,
   "metadata": {},
   "outputs": [
    {
     "data": {
      "text/plain": [
       "[<matplotlib.lines.Line2D at 0x116164a20>]"
      ]
     },
     "execution_count": 83,
     "metadata": {},
     "output_type": "execute_result"
    },
    {
     "data": {
      "image/png": "[encoded data removed]",
      "text/plain": [
       "<matplotlib.figure.Figure at 0x1161647f0>"
      ]
     },
     "metadata": {},
     "output_type": "display_data"
    }
   ],
   "source": [
    "import matplotlib.pyplot as plt\n",
    "times = np.array(times)\n",
    "plt.plot(times[:,0], times[:,2])\n",
    "plt.plot(times[:,0], times[:,3])"
   ]
  },
  {
   "cell_type": "code",
   "execution_count": 82,
   "metadata": {},
   "outputs": [
    {
     "name": "stderr",
     "output_type": "stream",
     "text": [
      "/Users/peter/miniconda3/envs/cenv3/lib/python3.6/site-packages/ipykernel_launcher.py:1: DeprecationWarning: decodestring() is a deprecated alias since Python 3.1, use decodebytes()\n",
      "  \"\"\"Entry point for launching an IPython kernel.\n",
      "/Users/peter/miniconda3/envs/cenv3/lib/python3.6/site-packages/ipykernel_launcher.py:2: DeprecationWarning: decodestring() is a deprecated alias since Python 3.1, use decodebytes()\n",
      "  \n"
     ]
    },
    {
     "data": {
      "text/plain": [
       "array([0.84978676, 0.99374044, 0.84978676, 0.99374044])"
      ]
     },
     "execution_count": 82,
     "metadata": {},
     "output_type": "execute_result"
    }
   ],
   "source": [
    "rect=np.frombuffer(base64.decodestring(b'JHN5J0Z44j8PYCKBtAHvP7FAiVgJaO8/MR2NwbjM7z8='), dtype=np.float64)\n",
    "tile=np.frombuffer(base64.decodestring(b'qP///3Mx6z8wHY3BuMzvP6r///9zMes/Mh2NwbjM7z8='), dtype=np.float64)\n",
    " \n",
    "zz.tile_children(*tile).reshape((4,-1))[0]"
   ]
  },
  {
   "cell_type": "code",
   "execution_count": 94,
   "metadata": {},
   "outputs": [
    {
     "name": "stdout",
     "output_type": "stream",
     "text": [
      "0.8497867584228418\n",
      "0.9937404423043628\n",
      "0.8497867584228420\n",
      "0.9937404423043630\n",
      "--------------\n",
      "0.8497867584228418\n",
      "0.9937404423043628\n",
      "0.8497867584228419\n",
      "0.9937404423043629\n",
      "True\n",
      "0.8497867584228418\n",
      "0.9937404423043629\n",
      "0.8497867584228419\n",
      "0.9937404423043630\n",
      "True\n",
      "0.8497867584228419\n",
      "0.9937404423043628\n",
      "0.8497867584228420\n",
      "0.9937404423043629\n",
      "True\n",
      "0.8497867584228419\n",
      "0.9937404423043629\n",
      "0.8497867584228420\n",
      "0.9937404423043630\n",
      "True\n"
     ]
    }
   ],
   "source": [
    "for c in tile:\n",
    "    print('{0:.16f}'.format(c))  \n",
    "print('--------------')\n",
    "for child in zz.tile_children(*tile).reshape((4,-1)):\n",
    "    for c in child:\n",
    "        print('{0:.16f}'.format(c))\n",
    "    #print(\"child\", child, rect)\n",
    "    print(zz.all_in(child, rect))"
   ]
  },
  {
   "cell_type": "code",
   "execution_count": 90,
   "metadata": {},
   "outputs": [
    {
     "name": "stdout",
     "output_type": "stream",
     "text": [
      "ret1: False\n",
      "ret2: False\n"
     ]
    },
    {
     "data": {
      "text/plain": [
       "False"
      ]
     },
     "execution_count": 90,
     "metadata": {},
     "output_type": "execute_result"
    }
   ],
   "source": [
    "zz.all_in(tile, rect)"
   ]
  },
  {
   "cell_type": "code",
   "execution_count": null,
   "metadata": {
    "collapsed": true
   },
   "outputs": [],
   "source": [
    "times1 = np.array([\n",
    "    [1000, 159, 118],\n",
    "    [2000, 374, 217],\n",
    "    [4000, 810, 281],\n",
    "    [8000, 1740, 462],\n",
    "    [16000, 3880, 1000],\n",
    "    [32000, 8810, 1350],\n",
    "    [64000, 19800, 1470],\n",
    "    [132000, 45000, 2830]\n",
    "])"
   ]
  }
 ],
 "metadata": {
  "kernelspec": {
   "display_name": "Python 3",
   "language": "python",
   "name": "python3"
  }
 },
 "nbformat": 4,
 "nbformat_minor": 2
}
